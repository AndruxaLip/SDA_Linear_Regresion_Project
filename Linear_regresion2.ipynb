{
 "cells": [
  {
   "cell_type": "code",
   "execution_count": 94,
   "id": "6eeeffa3",
   "metadata": {},
   "outputs": [],
   "source": [
    "import pandas as pd"
   ]
  },
  {
   "cell_type": "code",
   "execution_count": 95,
   "id": "17898e90",
   "metadata": {},
   "outputs": [],
   "source": [
    "import numpy as np"
   ]
  },
  {
   "cell_type": "code",
   "execution_count": 96,
   "id": "3ddebcb3",
   "metadata": {},
   "outputs": [],
   "source": [
    "import re"
   ]
  },
  {
   "cell_type": "code",
   "execution_count": 97,
   "id": "06d0f0a1",
   "metadata": {},
   "outputs": [],
   "source": [
    "import matplotlib.pyplot as plt\n",
    "import seaborn as sns\n",
    "from sklearn.model_selection import train_test_split\n",
    "from sklearn.linear_model import LinearRegression\n",
    "from sklearn.tree import DecisionTreeRegressor\n",
    "from sklearn.metrics import r2_score, accuracy_score,mean_squared_error,mean_absolute_error"
   ]
  },
  {
   "cell_type": "code",
   "execution_count": 98,
   "id": "b0ee5b3d",
   "metadata": {},
   "outputs": [],
   "source": [
    "from sklearn.preprocessing import PolynomialFeatures, StandardScaler"
   ]
  },
  {
   "cell_type": "code",
   "execution_count": 99,
   "id": "8574047b",
   "metadata": {},
   "outputs": [],
   "source": [
    "pd.set_option('display.max_columns', None)"
   ]
  },
  {
   "cell_type": "code",
   "execution_count": 100,
   "id": "04539f7f",
   "metadata": {},
   "outputs": [
    {
     "data": {
      "text/html": [
       "<div>\n",
       "<style scoped>\n",
       "    .dataframe tbody tr th:only-of-type {\n",
       "        vertical-align: middle;\n",
       "    }\n",
       "\n",
       "    .dataframe tbody tr th {\n",
       "        vertical-align: top;\n",
       "    }\n",
       "\n",
       "    .dataframe thead th {\n",
       "        text-align: right;\n",
       "    }\n",
       "</style>\n",
       "<table border=\"1\" class=\"dataframe\">\n",
       "  <thead>\n",
       "    <tr style=\"text-align: right;\">\n",
       "      <th></th>\n",
       "      <th>laptop_ID</th>\n",
       "      <th>Company</th>\n",
       "      <th>Product</th>\n",
       "      <th>TypeName</th>\n",
       "      <th>Inches</th>\n",
       "      <th>ScreenResolution</th>\n",
       "      <th>RamGB</th>\n",
       "      <th>OpSys</th>\n",
       "      <th>Weight</th>\n",
       "      <th>Price_euros</th>\n",
       "      <th>Procesor</th>\n",
       "      <th>TaktGHz</th>\n",
       "      <th>Karta Graficzna</th>\n",
       "      <th>Memory</th>\n",
       "      <th>Memory_type</th>\n",
       "    </tr>\n",
       "  </thead>\n",
       "  <tbody>\n",
       "    <tr>\n",
       "      <th>0</th>\n",
       "      <td>1</td>\n",
       "      <td>Apple</td>\n",
       "      <td>MacBook Pro</td>\n",
       "      <td>Ultrabook</td>\n",
       "      <td>13.3</td>\n",
       "      <td>IPS Panel Retina Display 2560x1600</td>\n",
       "      <td>8</td>\n",
       "      <td>macOS</td>\n",
       "      <td>1.37</td>\n",
       "      <td>1339.69</td>\n",
       "      <td>Intel Core-i5</td>\n",
       "      <td>2.3</td>\n",
       "      <td>Intel Iris</td>\n",
       "      <td>128</td>\n",
       "      <td>SSD</td>\n",
       "    </tr>\n",
       "    <tr>\n",
       "      <th>1</th>\n",
       "      <td>2</td>\n",
       "      <td>Apple</td>\n",
       "      <td>Macbook Air</td>\n",
       "      <td>Ultrabook</td>\n",
       "      <td>13.3</td>\n",
       "      <td>1440x900</td>\n",
       "      <td>8</td>\n",
       "      <td>macOS</td>\n",
       "      <td>1.34</td>\n",
       "      <td>898.94</td>\n",
       "      <td>Intel Core-i5</td>\n",
       "      <td>1.8</td>\n",
       "      <td>Intel HD</td>\n",
       "      <td>128</td>\n",
       "      <td>Flash_Storage</td>\n",
       "    </tr>\n",
       "    <tr>\n",
       "      <th>2</th>\n",
       "      <td>3</td>\n",
       "      <td>HP</td>\n",
       "      <td>250 G6</td>\n",
       "      <td>Notebook</td>\n",
       "      <td>15.6</td>\n",
       "      <td>Full HD 1920x1080</td>\n",
       "      <td>8</td>\n",
       "      <td>No OS</td>\n",
       "      <td>1.86</td>\n",
       "      <td>575.00</td>\n",
       "      <td>Intel Core-i5</td>\n",
       "      <td>2.5</td>\n",
       "      <td>Intel HD</td>\n",
       "      <td>256</td>\n",
       "      <td>SSD</td>\n",
       "    </tr>\n",
       "    <tr>\n",
       "      <th>3</th>\n",
       "      <td>4</td>\n",
       "      <td>Apple</td>\n",
       "      <td>MacBook Pro</td>\n",
       "      <td>Ultrabook</td>\n",
       "      <td>15.4</td>\n",
       "      <td>IPS Panel Retina Display 2880x1800</td>\n",
       "      <td>16</td>\n",
       "      <td>macOS</td>\n",
       "      <td>1.83</td>\n",
       "      <td>2537.45</td>\n",
       "      <td>Intel Core-i7</td>\n",
       "      <td>2.7</td>\n",
       "      <td>AMD Radeon</td>\n",
       "      <td>512</td>\n",
       "      <td>SSD</td>\n",
       "    </tr>\n",
       "    <tr>\n",
       "      <th>4</th>\n",
       "      <td>5</td>\n",
       "      <td>Apple</td>\n",
       "      <td>MacBook Pro</td>\n",
       "      <td>Ultrabook</td>\n",
       "      <td>13.3</td>\n",
       "      <td>IPS Panel Retina Display 2560x1600</td>\n",
       "      <td>8</td>\n",
       "      <td>macOS</td>\n",
       "      <td>1.37</td>\n",
       "      <td>1803.60</td>\n",
       "      <td>Intel Core-i5</td>\n",
       "      <td>3.1</td>\n",
       "      <td>Intel Iris</td>\n",
       "      <td>256</td>\n",
       "      <td>SSD</td>\n",
       "    </tr>\n",
       "  </tbody>\n",
       "</table>\n",
       "</div>"
      ],
      "text/plain": [
       "   laptop_ID Company      Product   TypeName  Inches  \\\n",
       "0          1   Apple  MacBook Pro  Ultrabook    13.3   \n",
       "1          2   Apple  Macbook Air  Ultrabook    13.3   \n",
       "2          3      HP       250 G6   Notebook    15.6   \n",
       "3          4   Apple  MacBook Pro  Ultrabook    15.4   \n",
       "4          5   Apple  MacBook Pro  Ultrabook    13.3   \n",
       "\n",
       "                     ScreenResolution  RamGB  OpSys  Weight  Price_euros  \\\n",
       "0  IPS Panel Retina Display 2560x1600      8  macOS    1.37      1339.69   \n",
       "1                            1440x900      8  macOS    1.34       898.94   \n",
       "2                   Full HD 1920x1080      8  No OS    1.86       575.00   \n",
       "3  IPS Panel Retina Display 2880x1800     16  macOS    1.83      2537.45   \n",
       "4  IPS Panel Retina Display 2560x1600      8  macOS    1.37      1803.60   \n",
       "\n",
       "        Procesor  TaktGHz Karta Graficzna  Memory    Memory_type  \n",
       "0  Intel Core-i5      2.3      Intel Iris     128            SSD  \n",
       "1  Intel Core-i5      1.8        Intel HD     128  Flash_Storage  \n",
       "2  Intel Core-i5      2.5        Intel HD     256            SSD  \n",
       "3  Intel Core-i7      2.7      AMD Radeon     512            SSD  \n",
       "4  Intel Core-i5      3.1      Intel Iris     256            SSD  "
      ]
     },
     "execution_count": 100,
     "metadata": {},
     "output_type": "execute_result"
    }
   ],
   "source": [
    "df=pd.read_csv('laptop_price.csv', sep=',', encoding='latin-1')\n",
    "df.head()"
   ]
  },
  {
   "cell_type": "code",
   "execution_count": 101,
   "id": "d4797ff1",
   "metadata": {},
   "outputs": [
    {
     "data": {
      "text/plain": [
       "{'AMD FirePro',\n",
       " 'AMD R',\n",
       " 'AMD Radeon',\n",
       " 'Intel Graphics',\n",
       " 'Intel HD',\n",
       " 'Intel Iris',\n",
       " 'Intel UHD',\n",
       " 'Nvidia GTX',\n",
       " 'Nvidia GeForce',\n",
       " 'Nvidia Quadro'}"
      ]
     },
     "execution_count": 101,
     "metadata": {},
     "output_type": "execute_result"
    }
   ],
   "source": [
    "set(df['Karta Graficzna'])"
   ]
  },
  {
   "cell_type": "code",
   "execution_count": 102,
   "id": "bebcad71",
   "metadata": {},
   "outputs": [],
   "source": [
    "df['Karta_Graficzna'] = [1 if df['Karta Graficzna'][i] == 'Amd FirePro' \n",
    "                         else 2 if df['Karta Graficzna'][i] == 'AMD R'\n",
    "                         else 3 if df['Karta Graficzna'][i] == 'AMD Radeon'\n",
    "                         else 4 if df['Karta Graficzna'][i] == 'Intel Graphics'\n",
    "                         else 5 if df['Karta Graficzna'][i] == 'Intel HD'\n",
    "                         else 6 if df['Karta Graficzna'][i] == 'Intel Iris'\n",
    "                         else 7 if df['Karta Graficzna'][i] == 'Intel UHD'\n",
    "                         else 8 if df['Karta Graficzna'][i] == 'Nvidia GTX'\n",
    "                         else 9 if df['Karta Graficzna'][i] == 'Nvidia GeForce'\n",
    "                         else 10 \n",
    "                         for i in range(len(df))]"
   ]
  },
  {
   "cell_type": "code",
   "execution_count": 103,
   "id": "c3eb8de9",
   "metadata": {},
   "outputs": [
    {
     "data": {
      "text/html": [
       "<div>\n",
       "<style scoped>\n",
       "    .dataframe tbody tr th:only-of-type {\n",
       "        vertical-align: middle;\n",
       "    }\n",
       "\n",
       "    .dataframe tbody tr th {\n",
       "        vertical-align: top;\n",
       "    }\n",
       "\n",
       "    .dataframe thead th {\n",
       "        text-align: right;\n",
       "    }\n",
       "</style>\n",
       "<table border=\"1\" class=\"dataframe\">\n",
       "  <thead>\n",
       "    <tr style=\"text-align: right;\">\n",
       "      <th></th>\n",
       "      <th>laptop_ID</th>\n",
       "      <th>Company</th>\n",
       "      <th>Product</th>\n",
       "      <th>TypeName</th>\n",
       "      <th>Inches</th>\n",
       "      <th>ScreenResolution</th>\n",
       "      <th>RamGB</th>\n",
       "      <th>OpSys</th>\n",
       "      <th>Weight</th>\n",
       "      <th>Price_euros</th>\n",
       "      <th>Procesor</th>\n",
       "      <th>TaktGHz</th>\n",
       "      <th>Karta Graficzna</th>\n",
       "      <th>Memory</th>\n",
       "      <th>Memory_type</th>\n",
       "      <th>Karta_Graficzna</th>\n",
       "    </tr>\n",
       "  </thead>\n",
       "  <tbody>\n",
       "    <tr>\n",
       "      <th>0</th>\n",
       "      <td>1</td>\n",
       "      <td>Apple</td>\n",
       "      <td>MacBook Pro</td>\n",
       "      <td>Ultrabook</td>\n",
       "      <td>13.3</td>\n",
       "      <td>IPS Panel Retina Display 2560x1600</td>\n",
       "      <td>8</td>\n",
       "      <td>macOS</td>\n",
       "      <td>1.37</td>\n",
       "      <td>1339.69</td>\n",
       "      <td>Intel Core-i5</td>\n",
       "      <td>2.3</td>\n",
       "      <td>Intel Iris</td>\n",
       "      <td>128</td>\n",
       "      <td>SSD</td>\n",
       "      <td>6</td>\n",
       "    </tr>\n",
       "    <tr>\n",
       "      <th>1</th>\n",
       "      <td>2</td>\n",
       "      <td>Apple</td>\n",
       "      <td>Macbook Air</td>\n",
       "      <td>Ultrabook</td>\n",
       "      <td>13.3</td>\n",
       "      <td>1440x900</td>\n",
       "      <td>8</td>\n",
       "      <td>macOS</td>\n",
       "      <td>1.34</td>\n",
       "      <td>898.94</td>\n",
       "      <td>Intel Core-i5</td>\n",
       "      <td>1.8</td>\n",
       "      <td>Intel HD</td>\n",
       "      <td>128</td>\n",
       "      <td>Flash_Storage</td>\n",
       "      <td>5</td>\n",
       "    </tr>\n",
       "    <tr>\n",
       "      <th>2</th>\n",
       "      <td>3</td>\n",
       "      <td>HP</td>\n",
       "      <td>250 G6</td>\n",
       "      <td>Notebook</td>\n",
       "      <td>15.6</td>\n",
       "      <td>Full HD 1920x1080</td>\n",
       "      <td>8</td>\n",
       "      <td>No OS</td>\n",
       "      <td>1.86</td>\n",
       "      <td>575.00</td>\n",
       "      <td>Intel Core-i5</td>\n",
       "      <td>2.5</td>\n",
       "      <td>Intel HD</td>\n",
       "      <td>256</td>\n",
       "      <td>SSD</td>\n",
       "      <td>5</td>\n",
       "    </tr>\n",
       "    <tr>\n",
       "      <th>3</th>\n",
       "      <td>4</td>\n",
       "      <td>Apple</td>\n",
       "      <td>MacBook Pro</td>\n",
       "      <td>Ultrabook</td>\n",
       "      <td>15.4</td>\n",
       "      <td>IPS Panel Retina Display 2880x1800</td>\n",
       "      <td>16</td>\n",
       "      <td>macOS</td>\n",
       "      <td>1.83</td>\n",
       "      <td>2537.45</td>\n",
       "      <td>Intel Core-i7</td>\n",
       "      <td>2.7</td>\n",
       "      <td>AMD Radeon</td>\n",
       "      <td>512</td>\n",
       "      <td>SSD</td>\n",
       "      <td>3</td>\n",
       "    </tr>\n",
       "    <tr>\n",
       "      <th>4</th>\n",
       "      <td>5</td>\n",
       "      <td>Apple</td>\n",
       "      <td>MacBook Pro</td>\n",
       "      <td>Ultrabook</td>\n",
       "      <td>13.3</td>\n",
       "      <td>IPS Panel Retina Display 2560x1600</td>\n",
       "      <td>8</td>\n",
       "      <td>macOS</td>\n",
       "      <td>1.37</td>\n",
       "      <td>1803.60</td>\n",
       "      <td>Intel Core-i5</td>\n",
       "      <td>3.1</td>\n",
       "      <td>Intel Iris</td>\n",
       "      <td>256</td>\n",
       "      <td>SSD</td>\n",
       "      <td>6</td>\n",
       "    </tr>\n",
       "  </tbody>\n",
       "</table>\n",
       "</div>"
      ],
      "text/plain": [
       "   laptop_ID Company      Product   TypeName  Inches  \\\n",
       "0          1   Apple  MacBook Pro  Ultrabook    13.3   \n",
       "1          2   Apple  Macbook Air  Ultrabook    13.3   \n",
       "2          3      HP       250 G6   Notebook    15.6   \n",
       "3          4   Apple  MacBook Pro  Ultrabook    15.4   \n",
       "4          5   Apple  MacBook Pro  Ultrabook    13.3   \n",
       "\n",
       "                     ScreenResolution  RamGB  OpSys  Weight  Price_euros  \\\n",
       "0  IPS Panel Retina Display 2560x1600      8  macOS    1.37      1339.69   \n",
       "1                            1440x900      8  macOS    1.34       898.94   \n",
       "2                   Full HD 1920x1080      8  No OS    1.86       575.00   \n",
       "3  IPS Panel Retina Display 2880x1800     16  macOS    1.83      2537.45   \n",
       "4  IPS Panel Retina Display 2560x1600      8  macOS    1.37      1803.60   \n",
       "\n",
       "        Procesor  TaktGHz Karta Graficzna  Memory    Memory_type  \\\n",
       "0  Intel Core-i5      2.3      Intel Iris     128            SSD   \n",
       "1  Intel Core-i5      1.8        Intel HD     128  Flash_Storage   \n",
       "2  Intel Core-i5      2.5        Intel HD     256            SSD   \n",
       "3  Intel Core-i7      2.7      AMD Radeon     512            SSD   \n",
       "4  Intel Core-i5      3.1      Intel Iris     256            SSD   \n",
       "\n",
       "   Karta_Graficzna  \n",
       "0                6  \n",
       "1                5  \n",
       "2                5  \n",
       "3                3  \n",
       "4                6  "
      ]
     },
     "execution_count": 103,
     "metadata": {},
     "output_type": "execute_result"
    }
   ],
   "source": [
    "df.head()"
   ]
  },
  {
   "cell_type": "code",
   "execution_count": 104,
   "id": "d7c0a720",
   "metadata": {},
   "outputs": [
    {
     "data": {
      "text/plain": [
       "{'AMD FX',\n",
       " 'AMD Ryzen',\n",
       " 'AMD Series',\n",
       " 'Intel',\n",
       " 'Intel Core-i3',\n",
       " 'Intel Core-i5',\n",
       " 'Intel Core-i7',\n",
       " 'Intel Xeon'}"
      ]
     },
     "execution_count": 104,
     "metadata": {},
     "output_type": "execute_result"
    }
   ],
   "source": [
    "set(df['Procesor'])"
   ]
  },
  {
   "cell_type": "code",
   "execution_count": 105,
   "id": "b01b761a",
   "metadata": {},
   "outputs": [],
   "source": [
    "df['procesor'] = [1 if df['Procesor'][i] == 'AMD FX' \n",
    "                 else 2 if df['Procesor'][i] == 'AMD Ryzen'\n",
    "                 else 3 if df['Procesor'][i] == 'AMD Series'\n",
    "                 else 4 if df['Procesor'][i] == 'Intel'\n",
    "                 else 5 if df['Procesor'][i] == 'Intel Core-i3'\n",
    "                 else 6 if df['Procesor'][i] == 'Intel Core-i5'\n",
    "                 else 7 if df['Procesor'][i] == 'Intel Core-i7'\n",
    "                 else 8 \n",
    "                 for i in range(len(df))]"
   ]
  },
  {
   "cell_type": "code",
   "execution_count": 106,
   "id": "02d527ae",
   "metadata": {},
   "outputs": [
    {
     "data": {
      "text/html": [
       "<div>\n",
       "<style scoped>\n",
       "    .dataframe tbody tr th:only-of-type {\n",
       "        vertical-align: middle;\n",
       "    }\n",
       "\n",
       "    .dataframe tbody tr th {\n",
       "        vertical-align: top;\n",
       "    }\n",
       "\n",
       "    .dataframe thead th {\n",
       "        text-align: right;\n",
       "    }\n",
       "</style>\n",
       "<table border=\"1\" class=\"dataframe\">\n",
       "  <thead>\n",
       "    <tr style=\"text-align: right;\">\n",
       "      <th></th>\n",
       "      <th>laptop_ID</th>\n",
       "      <th>Company</th>\n",
       "      <th>Product</th>\n",
       "      <th>TypeName</th>\n",
       "      <th>Inches</th>\n",
       "      <th>ScreenResolution</th>\n",
       "      <th>RamGB</th>\n",
       "      <th>OpSys</th>\n",
       "      <th>Weight</th>\n",
       "      <th>Price_euros</th>\n",
       "      <th>Procesor</th>\n",
       "      <th>TaktGHz</th>\n",
       "      <th>Karta Graficzna</th>\n",
       "      <th>Memory</th>\n",
       "      <th>Memory_type</th>\n",
       "      <th>Karta_Graficzna</th>\n",
       "      <th>procesor</th>\n",
       "    </tr>\n",
       "  </thead>\n",
       "  <tbody>\n",
       "    <tr>\n",
       "      <th>0</th>\n",
       "      <td>1</td>\n",
       "      <td>Apple</td>\n",
       "      <td>MacBook Pro</td>\n",
       "      <td>Ultrabook</td>\n",
       "      <td>13.3</td>\n",
       "      <td>IPS Panel Retina Display 2560x1600</td>\n",
       "      <td>8</td>\n",
       "      <td>macOS</td>\n",
       "      <td>1.37</td>\n",
       "      <td>1339.69</td>\n",
       "      <td>Intel Core-i5</td>\n",
       "      <td>2.3</td>\n",
       "      <td>Intel Iris</td>\n",
       "      <td>128</td>\n",
       "      <td>SSD</td>\n",
       "      <td>6</td>\n",
       "      <td>6</td>\n",
       "    </tr>\n",
       "    <tr>\n",
       "      <th>1</th>\n",
       "      <td>2</td>\n",
       "      <td>Apple</td>\n",
       "      <td>Macbook Air</td>\n",
       "      <td>Ultrabook</td>\n",
       "      <td>13.3</td>\n",
       "      <td>1440x900</td>\n",
       "      <td>8</td>\n",
       "      <td>macOS</td>\n",
       "      <td>1.34</td>\n",
       "      <td>898.94</td>\n",
       "      <td>Intel Core-i5</td>\n",
       "      <td>1.8</td>\n",
       "      <td>Intel HD</td>\n",
       "      <td>128</td>\n",
       "      <td>Flash_Storage</td>\n",
       "      <td>5</td>\n",
       "      <td>6</td>\n",
       "    </tr>\n",
       "    <tr>\n",
       "      <th>2</th>\n",
       "      <td>3</td>\n",
       "      <td>HP</td>\n",
       "      <td>250 G6</td>\n",
       "      <td>Notebook</td>\n",
       "      <td>15.6</td>\n",
       "      <td>Full HD 1920x1080</td>\n",
       "      <td>8</td>\n",
       "      <td>No OS</td>\n",
       "      <td>1.86</td>\n",
       "      <td>575.00</td>\n",
       "      <td>Intel Core-i5</td>\n",
       "      <td>2.5</td>\n",
       "      <td>Intel HD</td>\n",
       "      <td>256</td>\n",
       "      <td>SSD</td>\n",
       "      <td>5</td>\n",
       "      <td>6</td>\n",
       "    </tr>\n",
       "    <tr>\n",
       "      <th>3</th>\n",
       "      <td>4</td>\n",
       "      <td>Apple</td>\n",
       "      <td>MacBook Pro</td>\n",
       "      <td>Ultrabook</td>\n",
       "      <td>15.4</td>\n",
       "      <td>IPS Panel Retina Display 2880x1800</td>\n",
       "      <td>16</td>\n",
       "      <td>macOS</td>\n",
       "      <td>1.83</td>\n",
       "      <td>2537.45</td>\n",
       "      <td>Intel Core-i7</td>\n",
       "      <td>2.7</td>\n",
       "      <td>AMD Radeon</td>\n",
       "      <td>512</td>\n",
       "      <td>SSD</td>\n",
       "      <td>3</td>\n",
       "      <td>7</td>\n",
       "    </tr>\n",
       "    <tr>\n",
       "      <th>4</th>\n",
       "      <td>5</td>\n",
       "      <td>Apple</td>\n",
       "      <td>MacBook Pro</td>\n",
       "      <td>Ultrabook</td>\n",
       "      <td>13.3</td>\n",
       "      <td>IPS Panel Retina Display 2560x1600</td>\n",
       "      <td>8</td>\n",
       "      <td>macOS</td>\n",
       "      <td>1.37</td>\n",
       "      <td>1803.60</td>\n",
       "      <td>Intel Core-i5</td>\n",
       "      <td>3.1</td>\n",
       "      <td>Intel Iris</td>\n",
       "      <td>256</td>\n",
       "      <td>SSD</td>\n",
       "      <td>6</td>\n",
       "      <td>6</td>\n",
       "    </tr>\n",
       "  </tbody>\n",
       "</table>\n",
       "</div>"
      ],
      "text/plain": [
       "   laptop_ID Company      Product   TypeName  Inches  \\\n",
       "0          1   Apple  MacBook Pro  Ultrabook    13.3   \n",
       "1          2   Apple  Macbook Air  Ultrabook    13.3   \n",
       "2          3      HP       250 G6   Notebook    15.6   \n",
       "3          4   Apple  MacBook Pro  Ultrabook    15.4   \n",
       "4          5   Apple  MacBook Pro  Ultrabook    13.3   \n",
       "\n",
       "                     ScreenResolution  RamGB  OpSys  Weight  Price_euros  \\\n",
       "0  IPS Panel Retina Display 2560x1600      8  macOS    1.37      1339.69   \n",
       "1                            1440x900      8  macOS    1.34       898.94   \n",
       "2                   Full HD 1920x1080      8  No OS    1.86       575.00   \n",
       "3  IPS Panel Retina Display 2880x1800     16  macOS    1.83      2537.45   \n",
       "4  IPS Panel Retina Display 2560x1600      8  macOS    1.37      1803.60   \n",
       "\n",
       "        Procesor  TaktGHz Karta Graficzna  Memory    Memory_type  \\\n",
       "0  Intel Core-i5      2.3      Intel Iris     128            SSD   \n",
       "1  Intel Core-i5      1.8        Intel HD     128  Flash_Storage   \n",
       "2  Intel Core-i5      2.5        Intel HD     256            SSD   \n",
       "3  Intel Core-i7      2.7      AMD Radeon     512            SSD   \n",
       "4  Intel Core-i5      3.1      Intel Iris     256            SSD   \n",
       "\n",
       "   Karta_Graficzna  procesor  \n",
       "0                6         6  \n",
       "1                5         6  \n",
       "2                5         6  \n",
       "3                3         7  \n",
       "4                6         6  "
      ]
     },
     "execution_count": 106,
     "metadata": {},
     "output_type": "execute_result"
    }
   ],
   "source": [
    "df.head()"
   ]
  },
  {
   "cell_type": "code",
   "execution_count": 107,
   "id": "83a7d18b",
   "metadata": {},
   "outputs": [
    {
     "data": {
      "text/plain": [
       "{1, 2, 3, 4, 5, 6, 7, 8}"
      ]
     },
     "execution_count": 107,
     "metadata": {},
     "output_type": "execute_result"
    }
   ],
   "source": [
    "set(df['procesor'])"
   ]
  },
  {
   "cell_type": "code",
   "execution_count": 108,
   "id": "cbd17882",
   "metadata": {},
   "outputs": [
    {
     "data": {
      "text/plain": [
       "{'Flash_Storage', 'HDD', 'Hybrid', 'SSD'}"
      ]
     },
     "execution_count": 108,
     "metadata": {},
     "output_type": "execute_result"
    }
   ],
   "source": [
    "set(df['Memory_type'])"
   ]
  },
  {
   "cell_type": "code",
   "execution_count": 109,
   "id": "27d99b98",
   "metadata": {},
   "outputs": [],
   "source": [
    "df['memory_type'] = [1 if df['Memory_type'][i] == 'Flash_Storage' \n",
    "                 else 2 if df['Memory_type'][i] == 'HDD'\n",
    "                 else 3 if df['Memory_type'][i] == 'Hybrid'\n",
    "                 else 4 \n",
    "                 for i in range(len(df))]"
   ]
  },
  {
   "cell_type": "code",
   "execution_count": 110,
   "id": "df2dbf54",
   "metadata": {},
   "outputs": [
    {
     "data": {
      "text/html": [
       "<div>\n",
       "<style scoped>\n",
       "    .dataframe tbody tr th:only-of-type {\n",
       "        vertical-align: middle;\n",
       "    }\n",
       "\n",
       "    .dataframe tbody tr th {\n",
       "        vertical-align: top;\n",
       "    }\n",
       "\n",
       "    .dataframe thead th {\n",
       "        text-align: right;\n",
       "    }\n",
       "</style>\n",
       "<table border=\"1\" class=\"dataframe\">\n",
       "  <thead>\n",
       "    <tr style=\"text-align: right;\">\n",
       "      <th></th>\n",
       "      <th>laptop_ID</th>\n",
       "      <th>Company</th>\n",
       "      <th>Product</th>\n",
       "      <th>TypeName</th>\n",
       "      <th>Inches</th>\n",
       "      <th>ScreenResolution</th>\n",
       "      <th>RamGB</th>\n",
       "      <th>OpSys</th>\n",
       "      <th>Weight</th>\n",
       "      <th>Price_euros</th>\n",
       "      <th>Procesor</th>\n",
       "      <th>TaktGHz</th>\n",
       "      <th>Karta Graficzna</th>\n",
       "      <th>Memory</th>\n",
       "      <th>Memory_type</th>\n",
       "      <th>Karta_Graficzna</th>\n",
       "      <th>procesor</th>\n",
       "      <th>memory_type</th>\n",
       "    </tr>\n",
       "  </thead>\n",
       "  <tbody>\n",
       "    <tr>\n",
       "      <th>0</th>\n",
       "      <td>1</td>\n",
       "      <td>Apple</td>\n",
       "      <td>MacBook Pro</td>\n",
       "      <td>Ultrabook</td>\n",
       "      <td>13.3</td>\n",
       "      <td>IPS Panel Retina Display 2560x1600</td>\n",
       "      <td>8</td>\n",
       "      <td>macOS</td>\n",
       "      <td>1.37</td>\n",
       "      <td>1339.69</td>\n",
       "      <td>Intel Core-i5</td>\n",
       "      <td>2.3</td>\n",
       "      <td>Intel Iris</td>\n",
       "      <td>128</td>\n",
       "      <td>SSD</td>\n",
       "      <td>6</td>\n",
       "      <td>6</td>\n",
       "      <td>4</td>\n",
       "    </tr>\n",
       "    <tr>\n",
       "      <th>1</th>\n",
       "      <td>2</td>\n",
       "      <td>Apple</td>\n",
       "      <td>Macbook Air</td>\n",
       "      <td>Ultrabook</td>\n",
       "      <td>13.3</td>\n",
       "      <td>1440x900</td>\n",
       "      <td>8</td>\n",
       "      <td>macOS</td>\n",
       "      <td>1.34</td>\n",
       "      <td>898.94</td>\n",
       "      <td>Intel Core-i5</td>\n",
       "      <td>1.8</td>\n",
       "      <td>Intel HD</td>\n",
       "      <td>128</td>\n",
       "      <td>Flash_Storage</td>\n",
       "      <td>5</td>\n",
       "      <td>6</td>\n",
       "      <td>1</td>\n",
       "    </tr>\n",
       "    <tr>\n",
       "      <th>2</th>\n",
       "      <td>3</td>\n",
       "      <td>HP</td>\n",
       "      <td>250 G6</td>\n",
       "      <td>Notebook</td>\n",
       "      <td>15.6</td>\n",
       "      <td>Full HD 1920x1080</td>\n",
       "      <td>8</td>\n",
       "      <td>No OS</td>\n",
       "      <td>1.86</td>\n",
       "      <td>575.00</td>\n",
       "      <td>Intel Core-i5</td>\n",
       "      <td>2.5</td>\n",
       "      <td>Intel HD</td>\n",
       "      <td>256</td>\n",
       "      <td>SSD</td>\n",
       "      <td>5</td>\n",
       "      <td>6</td>\n",
       "      <td>4</td>\n",
       "    </tr>\n",
       "    <tr>\n",
       "      <th>3</th>\n",
       "      <td>4</td>\n",
       "      <td>Apple</td>\n",
       "      <td>MacBook Pro</td>\n",
       "      <td>Ultrabook</td>\n",
       "      <td>15.4</td>\n",
       "      <td>IPS Panel Retina Display 2880x1800</td>\n",
       "      <td>16</td>\n",
       "      <td>macOS</td>\n",
       "      <td>1.83</td>\n",
       "      <td>2537.45</td>\n",
       "      <td>Intel Core-i7</td>\n",
       "      <td>2.7</td>\n",
       "      <td>AMD Radeon</td>\n",
       "      <td>512</td>\n",
       "      <td>SSD</td>\n",
       "      <td>3</td>\n",
       "      <td>7</td>\n",
       "      <td>4</td>\n",
       "    </tr>\n",
       "    <tr>\n",
       "      <th>4</th>\n",
       "      <td>5</td>\n",
       "      <td>Apple</td>\n",
       "      <td>MacBook Pro</td>\n",
       "      <td>Ultrabook</td>\n",
       "      <td>13.3</td>\n",
       "      <td>IPS Panel Retina Display 2560x1600</td>\n",
       "      <td>8</td>\n",
       "      <td>macOS</td>\n",
       "      <td>1.37</td>\n",
       "      <td>1803.60</td>\n",
       "      <td>Intel Core-i5</td>\n",
       "      <td>3.1</td>\n",
       "      <td>Intel Iris</td>\n",
       "      <td>256</td>\n",
       "      <td>SSD</td>\n",
       "      <td>6</td>\n",
       "      <td>6</td>\n",
       "      <td>4</td>\n",
       "    </tr>\n",
       "  </tbody>\n",
       "</table>\n",
       "</div>"
      ],
      "text/plain": [
       "   laptop_ID Company      Product   TypeName  Inches  \\\n",
       "0          1   Apple  MacBook Pro  Ultrabook    13.3   \n",
       "1          2   Apple  Macbook Air  Ultrabook    13.3   \n",
       "2          3      HP       250 G6   Notebook    15.6   \n",
       "3          4   Apple  MacBook Pro  Ultrabook    15.4   \n",
       "4          5   Apple  MacBook Pro  Ultrabook    13.3   \n",
       "\n",
       "                     ScreenResolution  RamGB  OpSys  Weight  Price_euros  \\\n",
       "0  IPS Panel Retina Display 2560x1600      8  macOS    1.37      1339.69   \n",
       "1                            1440x900      8  macOS    1.34       898.94   \n",
       "2                   Full HD 1920x1080      8  No OS    1.86       575.00   \n",
       "3  IPS Panel Retina Display 2880x1800     16  macOS    1.83      2537.45   \n",
       "4  IPS Panel Retina Display 2560x1600      8  macOS    1.37      1803.60   \n",
       "\n",
       "        Procesor  TaktGHz Karta Graficzna  Memory    Memory_type  \\\n",
       "0  Intel Core-i5      2.3      Intel Iris     128            SSD   \n",
       "1  Intel Core-i5      1.8        Intel HD     128  Flash_Storage   \n",
       "2  Intel Core-i5      2.5        Intel HD     256            SSD   \n",
       "3  Intel Core-i7      2.7      AMD Radeon     512            SSD   \n",
       "4  Intel Core-i5      3.1      Intel Iris     256            SSD   \n",
       "\n",
       "   Karta_Graficzna  procesor  memory_type  \n",
       "0                6         6            4  \n",
       "1                5         6            1  \n",
       "2                5         6            4  \n",
       "3                3         7            4  \n",
       "4                6         6            4  "
      ]
     },
     "execution_count": 110,
     "metadata": {},
     "output_type": "execute_result"
    }
   ],
   "source": [
    "df.head()"
   ]
  },
  {
   "cell_type": "code",
   "execution_count": 111,
   "id": "121e871e",
   "metadata": {},
   "outputs": [
    {
     "data": {
      "text/plain": [
       "{'2 in 1 Convertible',\n",
       " 'Gaming',\n",
       " 'Netbook',\n",
       " 'Notebook',\n",
       " 'Ultrabook',\n",
       " 'Workstation'}"
      ]
     },
     "execution_count": 111,
     "metadata": {},
     "output_type": "execute_result"
    }
   ],
   "source": [
    "set(df['TypeName'])"
   ]
  },
  {
   "cell_type": "code",
   "execution_count": 112,
   "id": "b1c19f88",
   "metadata": {},
   "outputs": [],
   "source": [
    "df['type_name'] = [1 if df['TypeName'][i] == '2 in 1 Convertible' \n",
    "                 else 2 if df['TypeName'][i] == 'Gaming'\n",
    "                 else 3 if df['TypeName'][i] == 'Netbook'\n",
    "                 else 4 if df['TypeName'][i] == 'Notebook'\n",
    "                 else 5 if df['TypeName'][i] == 'Ultrabook'\n",
    "                 else 6\n",
    "                 for i in range(len(df))]"
   ]
  },
  {
   "cell_type": "code",
   "execution_count": 113,
   "id": "df73c378",
   "metadata": {},
   "outputs": [
    {
     "data": {
      "text/html": [
       "<div>\n",
       "<style scoped>\n",
       "    .dataframe tbody tr th:only-of-type {\n",
       "        vertical-align: middle;\n",
       "    }\n",
       "\n",
       "    .dataframe tbody tr th {\n",
       "        vertical-align: top;\n",
       "    }\n",
       "\n",
       "    .dataframe thead th {\n",
       "        text-align: right;\n",
       "    }\n",
       "</style>\n",
       "<table border=\"1\" class=\"dataframe\">\n",
       "  <thead>\n",
       "    <tr style=\"text-align: right;\">\n",
       "      <th></th>\n",
       "      <th>laptop_ID</th>\n",
       "      <th>Company</th>\n",
       "      <th>Product</th>\n",
       "      <th>TypeName</th>\n",
       "      <th>Inches</th>\n",
       "      <th>ScreenResolution</th>\n",
       "      <th>RamGB</th>\n",
       "      <th>OpSys</th>\n",
       "      <th>Weight</th>\n",
       "      <th>Price_euros</th>\n",
       "      <th>Procesor</th>\n",
       "      <th>TaktGHz</th>\n",
       "      <th>Karta Graficzna</th>\n",
       "      <th>Memory</th>\n",
       "      <th>Memory_type</th>\n",
       "      <th>Karta_Graficzna</th>\n",
       "      <th>procesor</th>\n",
       "      <th>memory_type</th>\n",
       "      <th>type_name</th>\n",
       "    </tr>\n",
       "  </thead>\n",
       "  <tbody>\n",
       "    <tr>\n",
       "      <th>0</th>\n",
       "      <td>1</td>\n",
       "      <td>Apple</td>\n",
       "      <td>MacBook Pro</td>\n",
       "      <td>Ultrabook</td>\n",
       "      <td>13.3</td>\n",
       "      <td>IPS Panel Retina Display 2560x1600</td>\n",
       "      <td>8</td>\n",
       "      <td>macOS</td>\n",
       "      <td>1.37</td>\n",
       "      <td>1339.69</td>\n",
       "      <td>Intel Core-i5</td>\n",
       "      <td>2.3</td>\n",
       "      <td>Intel Iris</td>\n",
       "      <td>128</td>\n",
       "      <td>SSD</td>\n",
       "      <td>6</td>\n",
       "      <td>6</td>\n",
       "      <td>4</td>\n",
       "      <td>5</td>\n",
       "    </tr>\n",
       "    <tr>\n",
       "      <th>1</th>\n",
       "      <td>2</td>\n",
       "      <td>Apple</td>\n",
       "      <td>Macbook Air</td>\n",
       "      <td>Ultrabook</td>\n",
       "      <td>13.3</td>\n",
       "      <td>1440x900</td>\n",
       "      <td>8</td>\n",
       "      <td>macOS</td>\n",
       "      <td>1.34</td>\n",
       "      <td>898.94</td>\n",
       "      <td>Intel Core-i5</td>\n",
       "      <td>1.8</td>\n",
       "      <td>Intel HD</td>\n",
       "      <td>128</td>\n",
       "      <td>Flash_Storage</td>\n",
       "      <td>5</td>\n",
       "      <td>6</td>\n",
       "      <td>1</td>\n",
       "      <td>5</td>\n",
       "    </tr>\n",
       "    <tr>\n",
       "      <th>2</th>\n",
       "      <td>3</td>\n",
       "      <td>HP</td>\n",
       "      <td>250 G6</td>\n",
       "      <td>Notebook</td>\n",
       "      <td>15.6</td>\n",
       "      <td>Full HD 1920x1080</td>\n",
       "      <td>8</td>\n",
       "      <td>No OS</td>\n",
       "      <td>1.86</td>\n",
       "      <td>575.00</td>\n",
       "      <td>Intel Core-i5</td>\n",
       "      <td>2.5</td>\n",
       "      <td>Intel HD</td>\n",
       "      <td>256</td>\n",
       "      <td>SSD</td>\n",
       "      <td>5</td>\n",
       "      <td>6</td>\n",
       "      <td>4</td>\n",
       "      <td>4</td>\n",
       "    </tr>\n",
       "    <tr>\n",
       "      <th>3</th>\n",
       "      <td>4</td>\n",
       "      <td>Apple</td>\n",
       "      <td>MacBook Pro</td>\n",
       "      <td>Ultrabook</td>\n",
       "      <td>15.4</td>\n",
       "      <td>IPS Panel Retina Display 2880x1800</td>\n",
       "      <td>16</td>\n",
       "      <td>macOS</td>\n",
       "      <td>1.83</td>\n",
       "      <td>2537.45</td>\n",
       "      <td>Intel Core-i7</td>\n",
       "      <td>2.7</td>\n",
       "      <td>AMD Radeon</td>\n",
       "      <td>512</td>\n",
       "      <td>SSD</td>\n",
       "      <td>3</td>\n",
       "      <td>7</td>\n",
       "      <td>4</td>\n",
       "      <td>5</td>\n",
       "    </tr>\n",
       "    <tr>\n",
       "      <th>4</th>\n",
       "      <td>5</td>\n",
       "      <td>Apple</td>\n",
       "      <td>MacBook Pro</td>\n",
       "      <td>Ultrabook</td>\n",
       "      <td>13.3</td>\n",
       "      <td>IPS Panel Retina Display 2560x1600</td>\n",
       "      <td>8</td>\n",
       "      <td>macOS</td>\n",
       "      <td>1.37</td>\n",
       "      <td>1803.60</td>\n",
       "      <td>Intel Core-i5</td>\n",
       "      <td>3.1</td>\n",
       "      <td>Intel Iris</td>\n",
       "      <td>256</td>\n",
       "      <td>SSD</td>\n",
       "      <td>6</td>\n",
       "      <td>6</td>\n",
       "      <td>4</td>\n",
       "      <td>5</td>\n",
       "    </tr>\n",
       "  </tbody>\n",
       "</table>\n",
       "</div>"
      ],
      "text/plain": [
       "   laptop_ID Company      Product   TypeName  Inches  \\\n",
       "0          1   Apple  MacBook Pro  Ultrabook    13.3   \n",
       "1          2   Apple  Macbook Air  Ultrabook    13.3   \n",
       "2          3      HP       250 G6   Notebook    15.6   \n",
       "3          4   Apple  MacBook Pro  Ultrabook    15.4   \n",
       "4          5   Apple  MacBook Pro  Ultrabook    13.3   \n",
       "\n",
       "                     ScreenResolution  RamGB  OpSys  Weight  Price_euros  \\\n",
       "0  IPS Panel Retina Display 2560x1600      8  macOS    1.37      1339.69   \n",
       "1                            1440x900      8  macOS    1.34       898.94   \n",
       "2                   Full HD 1920x1080      8  No OS    1.86       575.00   \n",
       "3  IPS Panel Retina Display 2880x1800     16  macOS    1.83      2537.45   \n",
       "4  IPS Panel Retina Display 2560x1600      8  macOS    1.37      1803.60   \n",
       "\n",
       "        Procesor  TaktGHz Karta Graficzna  Memory    Memory_type  \\\n",
       "0  Intel Core-i5      2.3      Intel Iris     128            SSD   \n",
       "1  Intel Core-i5      1.8        Intel HD     128  Flash_Storage   \n",
       "2  Intel Core-i5      2.5        Intel HD     256            SSD   \n",
       "3  Intel Core-i7      2.7      AMD Radeon     512            SSD   \n",
       "4  Intel Core-i5      3.1      Intel Iris     256            SSD   \n",
       "\n",
       "   Karta_Graficzna  procesor  memory_type  type_name  \n",
       "0                6         6            4          5  \n",
       "1                5         6            1          5  \n",
       "2                5         6            4          4  \n",
       "3                3         7            4          5  \n",
       "4                6         6            4          5  "
      ]
     },
     "execution_count": 113,
     "metadata": {},
     "output_type": "execute_result"
    }
   ],
   "source": [
    "df.head()"
   ]
  },
  {
   "cell_type": "code",
   "execution_count": 114,
   "id": "45ead1b7",
   "metadata": {},
   "outputs": [
    {
     "data": {
      "text/html": [
       "<div>\n",
       "<style scoped>\n",
       "    .dataframe tbody tr th:only-of-type {\n",
       "        vertical-align: middle;\n",
       "    }\n",
       "\n",
       "    .dataframe tbody tr th {\n",
       "        vertical-align: top;\n",
       "    }\n",
       "\n",
       "    .dataframe thead th {\n",
       "        text-align: right;\n",
       "    }\n",
       "</style>\n",
       "<table border=\"1\" class=\"dataframe\">\n",
       "  <thead>\n",
       "    <tr style=\"text-align: right;\">\n",
       "      <th></th>\n",
       "      <th>laptop_ID</th>\n",
       "      <th>Inches</th>\n",
       "      <th>RamGB</th>\n",
       "      <th>Weight</th>\n",
       "      <th>Price_euros</th>\n",
       "      <th>TaktGHz</th>\n",
       "      <th>Memory</th>\n",
       "      <th>Karta_Graficzna</th>\n",
       "      <th>procesor</th>\n",
       "      <th>memory_type</th>\n",
       "      <th>type_name</th>\n",
       "    </tr>\n",
       "  </thead>\n",
       "  <tbody>\n",
       "    <tr>\n",
       "      <th>count</th>\n",
       "      <td>1302.000000</td>\n",
       "      <td>1302.000000</td>\n",
       "      <td>1302.000000</td>\n",
       "      <td>1302.000000</td>\n",
       "      <td>1302.000000</td>\n",
       "      <td>1302.000000</td>\n",
       "      <td>1302.000000</td>\n",
       "      <td>1302.000000</td>\n",
       "      <td>1302.000000</td>\n",
       "      <td>1302.000000</td>\n",
       "      <td>1302.000000</td>\n",
       "    </tr>\n",
       "    <tr>\n",
       "      <th>mean</th>\n",
       "      <td>659.734255</td>\n",
       "      <td>15.019278</td>\n",
       "      <td>8.385561</td>\n",
       "      <td>2.039416</td>\n",
       "      <td>1124.043894</td>\n",
       "      <td>2.299002</td>\n",
       "      <td>594.347158</td>\n",
       "      <td>6.115207</td>\n",
       "      <td>5.927035</td>\n",
       "      <td>2.954685</td>\n",
       "      <td>3.584485</td>\n",
       "    </tr>\n",
       "    <tr>\n",
       "      <th>std</th>\n",
       "      <td>381.014613</td>\n",
       "      <td>1.424861</td>\n",
       "      <td>5.085166</td>\n",
       "      <td>0.665274</td>\n",
       "      <td>699.158856</td>\n",
       "      <td>0.506467</td>\n",
       "      <td>445.630603</td>\n",
       "      <td>2.178562</td>\n",
       "      <td>1.205314</td>\n",
       "      <td>1.068135</td>\n",
       "      <td>1.243648</td>\n",
       "    </tr>\n",
       "    <tr>\n",
       "      <th>min</th>\n",
       "      <td>1.000000</td>\n",
       "      <td>10.100000</td>\n",
       "      <td>2.000000</td>\n",
       "      <td>0.690000</td>\n",
       "      <td>174.000000</td>\n",
       "      <td>0.900000</td>\n",
       "      <td>8.000000</td>\n",
       "      <td>2.000000</td>\n",
       "      <td>1.000000</td>\n",
       "      <td>1.000000</td>\n",
       "      <td>1.000000</td>\n",
       "    </tr>\n",
       "    <tr>\n",
       "      <th>25%</th>\n",
       "      <td>331.250000</td>\n",
       "      <td>14.000000</td>\n",
       "      <td>4.000000</td>\n",
       "      <td>1.500000</td>\n",
       "      <td>599.000000</td>\n",
       "      <td>2.000000</td>\n",
       "      <td>256.000000</td>\n",
       "      <td>5.000000</td>\n",
       "      <td>5.000000</td>\n",
       "      <td>2.000000</td>\n",
       "      <td>3.000000</td>\n",
       "    </tr>\n",
       "    <tr>\n",
       "      <th>50%</th>\n",
       "      <td>658.500000</td>\n",
       "      <td>15.600000</td>\n",
       "      <td>8.000000</td>\n",
       "      <td>2.040000</td>\n",
       "      <td>978.000000</td>\n",
       "      <td>2.500000</td>\n",
       "      <td>500.000000</td>\n",
       "      <td>5.000000</td>\n",
       "      <td>6.000000</td>\n",
       "      <td>3.000000</td>\n",
       "      <td>4.000000</td>\n",
       "    </tr>\n",
       "    <tr>\n",
       "      <th>75%</th>\n",
       "      <td>989.750000</td>\n",
       "      <td>15.600000</td>\n",
       "      <td>8.000000</td>\n",
       "      <td>2.300000</td>\n",
       "      <td>1488.435000</td>\n",
       "      <td>2.700000</td>\n",
       "      <td>1024.000000</td>\n",
       "      <td>9.000000</td>\n",
       "      <td>7.000000</td>\n",
       "      <td>4.000000</td>\n",
       "      <td>4.000000</td>\n",
       "    </tr>\n",
       "    <tr>\n",
       "      <th>max</th>\n",
       "      <td>1320.000000</td>\n",
       "      <td>18.400000</td>\n",
       "      <td>64.000000</td>\n",
       "      <td>4.700000</td>\n",
       "      <td>6099.000000</td>\n",
       "      <td>3.600000</td>\n",
       "      <td>2560.000000</td>\n",
       "      <td>10.000000</td>\n",
       "      <td>8.000000</td>\n",
       "      <td>4.000000</td>\n",
       "      <td>6.000000</td>\n",
       "    </tr>\n",
       "  </tbody>\n",
       "</table>\n",
       "</div>"
      ],
      "text/plain": [
       "         laptop_ID       Inches        RamGB       Weight  Price_euros  \\\n",
       "count  1302.000000  1302.000000  1302.000000  1302.000000  1302.000000   \n",
       "mean    659.734255    15.019278     8.385561     2.039416  1124.043894   \n",
       "std     381.014613     1.424861     5.085166     0.665274   699.158856   \n",
       "min       1.000000    10.100000     2.000000     0.690000   174.000000   \n",
       "25%     331.250000    14.000000     4.000000     1.500000   599.000000   \n",
       "50%     658.500000    15.600000     8.000000     2.040000   978.000000   \n",
       "75%     989.750000    15.600000     8.000000     2.300000  1488.435000   \n",
       "max    1320.000000    18.400000    64.000000     4.700000  6099.000000   \n",
       "\n",
       "           TaktGHz       Memory  Karta_Graficzna     procesor  memory_type  \\\n",
       "count  1302.000000  1302.000000      1302.000000  1302.000000  1302.000000   \n",
       "mean      2.299002   594.347158         6.115207     5.927035     2.954685   \n",
       "std       0.506467   445.630603         2.178562     1.205314     1.068135   \n",
       "min       0.900000     8.000000         2.000000     1.000000     1.000000   \n",
       "25%       2.000000   256.000000         5.000000     5.000000     2.000000   \n",
       "50%       2.500000   500.000000         5.000000     6.000000     3.000000   \n",
       "75%       2.700000  1024.000000         9.000000     7.000000     4.000000   \n",
       "max       3.600000  2560.000000        10.000000     8.000000     4.000000   \n",
       "\n",
       "         type_name  \n",
       "count  1302.000000  \n",
       "mean      3.584485  \n",
       "std       1.243648  \n",
       "min       1.000000  \n",
       "25%       3.000000  \n",
       "50%       4.000000  \n",
       "75%       4.000000  \n",
       "max       6.000000  "
      ]
     },
     "execution_count": 114,
     "metadata": {},
     "output_type": "execute_result"
    }
   ],
   "source": [
    "df.describe()"
   ]
  },
  {
   "cell_type": "code",
   "execution_count": 115,
   "id": "f2e155f7",
   "metadata": {},
   "outputs": [
    {
     "name": "stdout",
     "output_type": "stream",
     "text": [
      "<class 'pandas.core.frame.DataFrame'>\n",
      "RangeIndex: 1302 entries, 0 to 1301\n",
      "Data columns (total 19 columns):\n",
      " #   Column            Non-Null Count  Dtype  \n",
      "---  ------            --------------  -----  \n",
      " 0   laptop_ID         1302 non-null   int64  \n",
      " 1   Company           1302 non-null   object \n",
      " 2   Product           1300 non-null   object \n",
      " 3   TypeName          1302 non-null   object \n",
      " 4   Inches            1302 non-null   float64\n",
      " 5   ScreenResolution  1302 non-null   object \n",
      " 6   RamGB             1302 non-null   int64  \n",
      " 7   OpSys             1302 non-null   object \n",
      " 8   Weight            1302 non-null   float64\n",
      " 9   Price_euros       1302 non-null   float64\n",
      " 10  Procesor          1302 non-null   object \n",
      " 11  TaktGHz           1302 non-null   float64\n",
      " 12  Karta Graficzna   1302 non-null   object \n",
      " 13  Memory            1302 non-null   int64  \n",
      " 14  Memory_type       1302 non-null   object \n",
      " 15  Karta_Graficzna   1302 non-null   int64  \n",
      " 16  procesor          1302 non-null   int64  \n",
      " 17  memory_type       1302 non-null   int64  \n",
      " 18  type_name         1302 non-null   int64  \n",
      "dtypes: float64(4), int64(7), object(8)\n",
      "memory usage: 193.4+ KB\n"
     ]
    }
   ],
   "source": [
    "df.info()"
   ]
  },
  {
   "cell_type": "code",
   "execution_count": 116,
   "id": "dd832267",
   "metadata": {},
   "outputs": [
    {
     "data": {
      "text/plain": [
       "{2, 4, 6, 8, 12, 16, 24, 32, 64}"
      ]
     },
     "execution_count": 116,
     "metadata": {},
     "output_type": "execute_result"
    }
   ],
   "source": [
    "set(df['RamGB'])"
   ]
  },
  {
   "cell_type": "code",
   "execution_count": 117,
   "id": "70399683",
   "metadata": {},
   "outputs": [
    {
     "data": {
      "text/plain": [
       "dtype('int64')"
      ]
     },
     "execution_count": 117,
     "metadata": {},
     "output_type": "execute_result"
    }
   ],
   "source": [
    "df['RamGB'].dtype"
   ]
  },
  {
   "cell_type": "code",
   "execution_count": 118,
   "id": "c9e7e388",
   "metadata": {},
   "outputs": [
    {
     "data": {
      "text/html": [
       "<div>\n",
       "<style scoped>\n",
       "    .dataframe tbody tr th:only-of-type {\n",
       "        vertical-align: middle;\n",
       "    }\n",
       "\n",
       "    .dataframe tbody tr th {\n",
       "        vertical-align: top;\n",
       "    }\n",
       "\n",
       "    .dataframe thead th {\n",
       "        text-align: right;\n",
       "    }\n",
       "</style>\n",
       "<table border=\"1\" class=\"dataframe\">\n",
       "  <thead>\n",
       "    <tr style=\"text-align: right;\">\n",
       "      <th></th>\n",
       "      <th>laptop_ID</th>\n",
       "      <th>Company</th>\n",
       "      <th>Product</th>\n",
       "      <th>TypeName</th>\n",
       "      <th>Inches</th>\n",
       "      <th>ScreenResolution</th>\n",
       "      <th>RamGB</th>\n",
       "      <th>OpSys</th>\n",
       "      <th>Weight</th>\n",
       "      <th>Price_euros</th>\n",
       "      <th>Procesor</th>\n",
       "      <th>TaktGHz</th>\n",
       "      <th>Karta Graficzna</th>\n",
       "      <th>Memory</th>\n",
       "      <th>Memory_type</th>\n",
       "      <th>Karta_Graficzna</th>\n",
       "      <th>procesor</th>\n",
       "      <th>memory_type</th>\n",
       "      <th>type_name</th>\n",
       "    </tr>\n",
       "  </thead>\n",
       "  <tbody>\n",
       "    <tr>\n",
       "      <th>0</th>\n",
       "      <td>1</td>\n",
       "      <td>Apple</td>\n",
       "      <td>MacBook Pro</td>\n",
       "      <td>Ultrabook</td>\n",
       "      <td>13.3</td>\n",
       "      <td>IPS Panel Retina Display 2560x1600</td>\n",
       "      <td>8</td>\n",
       "      <td>macOS</td>\n",
       "      <td>1.37</td>\n",
       "      <td>1339.69</td>\n",
       "      <td>Intel Core-i5</td>\n",
       "      <td>2.3</td>\n",
       "      <td>Intel Iris</td>\n",
       "      <td>128</td>\n",
       "      <td>SSD</td>\n",
       "      <td>6</td>\n",
       "      <td>6</td>\n",
       "      <td>4</td>\n",
       "      <td>5</td>\n",
       "    </tr>\n",
       "    <tr>\n",
       "      <th>1</th>\n",
       "      <td>2</td>\n",
       "      <td>Apple</td>\n",
       "      <td>Macbook Air</td>\n",
       "      <td>Ultrabook</td>\n",
       "      <td>13.3</td>\n",
       "      <td>1440x900</td>\n",
       "      <td>8</td>\n",
       "      <td>macOS</td>\n",
       "      <td>1.34</td>\n",
       "      <td>898.94</td>\n",
       "      <td>Intel Core-i5</td>\n",
       "      <td>1.8</td>\n",
       "      <td>Intel HD</td>\n",
       "      <td>128</td>\n",
       "      <td>Flash_Storage</td>\n",
       "      <td>5</td>\n",
       "      <td>6</td>\n",
       "      <td>1</td>\n",
       "      <td>5</td>\n",
       "    </tr>\n",
       "    <tr>\n",
       "      <th>2</th>\n",
       "      <td>3</td>\n",
       "      <td>HP</td>\n",
       "      <td>250 G6</td>\n",
       "      <td>Notebook</td>\n",
       "      <td>15.6</td>\n",
       "      <td>Full HD 1920x1080</td>\n",
       "      <td>8</td>\n",
       "      <td>No OS</td>\n",
       "      <td>1.86</td>\n",
       "      <td>575.00</td>\n",
       "      <td>Intel Core-i5</td>\n",
       "      <td>2.5</td>\n",
       "      <td>Intel HD</td>\n",
       "      <td>256</td>\n",
       "      <td>SSD</td>\n",
       "      <td>5</td>\n",
       "      <td>6</td>\n",
       "      <td>4</td>\n",
       "      <td>4</td>\n",
       "    </tr>\n",
       "    <tr>\n",
       "      <th>3</th>\n",
       "      <td>4</td>\n",
       "      <td>Apple</td>\n",
       "      <td>MacBook Pro</td>\n",
       "      <td>Ultrabook</td>\n",
       "      <td>15.4</td>\n",
       "      <td>IPS Panel Retina Display 2880x1800</td>\n",
       "      <td>16</td>\n",
       "      <td>macOS</td>\n",
       "      <td>1.83</td>\n",
       "      <td>2537.45</td>\n",
       "      <td>Intel Core-i7</td>\n",
       "      <td>2.7</td>\n",
       "      <td>AMD Radeon</td>\n",
       "      <td>512</td>\n",
       "      <td>SSD</td>\n",
       "      <td>3</td>\n",
       "      <td>7</td>\n",
       "      <td>4</td>\n",
       "      <td>5</td>\n",
       "    </tr>\n",
       "    <tr>\n",
       "      <th>4</th>\n",
       "      <td>5</td>\n",
       "      <td>Apple</td>\n",
       "      <td>MacBook Pro</td>\n",
       "      <td>Ultrabook</td>\n",
       "      <td>13.3</td>\n",
       "      <td>IPS Panel Retina Display 2560x1600</td>\n",
       "      <td>8</td>\n",
       "      <td>macOS</td>\n",
       "      <td>1.37</td>\n",
       "      <td>1803.60</td>\n",
       "      <td>Intel Core-i5</td>\n",
       "      <td>3.1</td>\n",
       "      <td>Intel Iris</td>\n",
       "      <td>256</td>\n",
       "      <td>SSD</td>\n",
       "      <td>6</td>\n",
       "      <td>6</td>\n",
       "      <td>4</td>\n",
       "      <td>5</td>\n",
       "    </tr>\n",
       "  </tbody>\n",
       "</table>\n",
       "</div>"
      ],
      "text/plain": [
       "   laptop_ID Company      Product   TypeName  Inches  \\\n",
       "0          1   Apple  MacBook Pro  Ultrabook    13.3   \n",
       "1          2   Apple  Macbook Air  Ultrabook    13.3   \n",
       "2          3      HP       250 G6   Notebook    15.6   \n",
       "3          4   Apple  MacBook Pro  Ultrabook    15.4   \n",
       "4          5   Apple  MacBook Pro  Ultrabook    13.3   \n",
       "\n",
       "                     ScreenResolution  RamGB  OpSys  Weight  Price_euros  \\\n",
       "0  IPS Panel Retina Display 2560x1600      8  macOS    1.37      1339.69   \n",
       "1                            1440x900      8  macOS    1.34       898.94   \n",
       "2                   Full HD 1920x1080      8  No OS    1.86       575.00   \n",
       "3  IPS Panel Retina Display 2880x1800     16  macOS    1.83      2537.45   \n",
       "4  IPS Panel Retina Display 2560x1600      8  macOS    1.37      1803.60   \n",
       "\n",
       "        Procesor  TaktGHz Karta Graficzna  Memory    Memory_type  \\\n",
       "0  Intel Core-i5      2.3      Intel Iris     128            SSD   \n",
       "1  Intel Core-i5      1.8        Intel HD     128  Flash_Storage   \n",
       "2  Intel Core-i5      2.5        Intel HD     256            SSD   \n",
       "3  Intel Core-i7      2.7      AMD Radeon     512            SSD   \n",
       "4  Intel Core-i5      3.1      Intel Iris     256            SSD   \n",
       "\n",
       "   Karta_Graficzna  procesor  memory_type  type_name  \n",
       "0                6         6            4          5  \n",
       "1                5         6            1          5  \n",
       "2                5         6            4          4  \n",
       "3                3         7            4          5  \n",
       "4                6         6            4          5  "
      ]
     },
     "execution_count": 118,
     "metadata": {},
     "output_type": "execute_result"
    }
   ],
   "source": [
    "df.head()"
   ]
  },
  {
   "cell_type": "code",
   "execution_count": 119,
   "id": "adbbcdab",
   "metadata": {},
   "outputs": [
    {
     "data": {
      "text/plain": [
       "Dell         297\n",
       "Lenovo       297\n",
       "HP           274\n",
       "Asus         158\n",
       "Acer         103\n",
       "MSI           54\n",
       "Toshiba       48\n",
       "Apple         21\n",
       "Samsung        8\n",
       "Razer          7\n",
       "Mediacom       7\n",
       "Microsoft      6\n",
       "Xiaomi         4\n",
       "Vero           4\n",
       "Chuwi          3\n",
       "Google         3\n",
       "Fujitsu        3\n",
       "LG             3\n",
       "Huawei         2\n",
       "Name: Company, dtype: int64"
      ]
     },
     "execution_count": 119,
     "metadata": {},
     "output_type": "execute_result"
    }
   ],
   "source": [
    "df.Company.value_counts()"
   ]
  },
  {
   "cell_type": "code",
   "execution_count": 120,
   "id": "04713666",
   "metadata": {},
   "outputs": [],
   "source": [
    "#df['Weight1'] = df['Weight'].replace(['kg'],[''], regex=True)"
   ]
  },
  {
   "cell_type": "code",
   "execution_count": 121,
   "id": "b47c74e9",
   "metadata": {},
   "outputs": [
    {
     "data": {
      "text/html": [
       "<div>\n",
       "<style scoped>\n",
       "    .dataframe tbody tr th:only-of-type {\n",
       "        vertical-align: middle;\n",
       "    }\n",
       "\n",
       "    .dataframe tbody tr th {\n",
       "        vertical-align: top;\n",
       "    }\n",
       "\n",
       "    .dataframe thead th {\n",
       "        text-align: right;\n",
       "    }\n",
       "</style>\n",
       "<table border=\"1\" class=\"dataframe\">\n",
       "  <thead>\n",
       "    <tr style=\"text-align: right;\">\n",
       "      <th></th>\n",
       "      <th>laptop_ID</th>\n",
       "      <th>Company</th>\n",
       "      <th>Product</th>\n",
       "      <th>TypeName</th>\n",
       "      <th>Inches</th>\n",
       "      <th>ScreenResolution</th>\n",
       "      <th>RamGB</th>\n",
       "      <th>OpSys</th>\n",
       "      <th>Weight</th>\n",
       "      <th>Price_euros</th>\n",
       "      <th>Procesor</th>\n",
       "      <th>TaktGHz</th>\n",
       "      <th>Karta Graficzna</th>\n",
       "      <th>Memory</th>\n",
       "      <th>Memory_type</th>\n",
       "      <th>Karta_Graficzna</th>\n",
       "      <th>procesor</th>\n",
       "      <th>memory_type</th>\n",
       "      <th>type_name</th>\n",
       "    </tr>\n",
       "  </thead>\n",
       "  <tbody>\n",
       "    <tr>\n",
       "      <th>0</th>\n",
       "      <td>1</td>\n",
       "      <td>Apple</td>\n",
       "      <td>MacBook Pro</td>\n",
       "      <td>Ultrabook</td>\n",
       "      <td>13.3</td>\n",
       "      <td>IPS Panel Retina Display 2560x1600</td>\n",
       "      <td>8</td>\n",
       "      <td>macOS</td>\n",
       "      <td>1.37</td>\n",
       "      <td>1339.69</td>\n",
       "      <td>Intel Core-i5</td>\n",
       "      <td>2.3</td>\n",
       "      <td>Intel Iris</td>\n",
       "      <td>128</td>\n",
       "      <td>SSD</td>\n",
       "      <td>6</td>\n",
       "      <td>6</td>\n",
       "      <td>4</td>\n",
       "      <td>5</td>\n",
       "    </tr>\n",
       "    <tr>\n",
       "      <th>1</th>\n",
       "      <td>2</td>\n",
       "      <td>Apple</td>\n",
       "      <td>Macbook Air</td>\n",
       "      <td>Ultrabook</td>\n",
       "      <td>13.3</td>\n",
       "      <td>1440x900</td>\n",
       "      <td>8</td>\n",
       "      <td>macOS</td>\n",
       "      <td>1.34</td>\n",
       "      <td>898.94</td>\n",
       "      <td>Intel Core-i5</td>\n",
       "      <td>1.8</td>\n",
       "      <td>Intel HD</td>\n",
       "      <td>128</td>\n",
       "      <td>Flash_Storage</td>\n",
       "      <td>5</td>\n",
       "      <td>6</td>\n",
       "      <td>1</td>\n",
       "      <td>5</td>\n",
       "    </tr>\n",
       "    <tr>\n",
       "      <th>2</th>\n",
       "      <td>3</td>\n",
       "      <td>HP</td>\n",
       "      <td>250 G6</td>\n",
       "      <td>Notebook</td>\n",
       "      <td>15.6</td>\n",
       "      <td>Full HD 1920x1080</td>\n",
       "      <td>8</td>\n",
       "      <td>No OS</td>\n",
       "      <td>1.86</td>\n",
       "      <td>575.00</td>\n",
       "      <td>Intel Core-i5</td>\n",
       "      <td>2.5</td>\n",
       "      <td>Intel HD</td>\n",
       "      <td>256</td>\n",
       "      <td>SSD</td>\n",
       "      <td>5</td>\n",
       "      <td>6</td>\n",
       "      <td>4</td>\n",
       "      <td>4</td>\n",
       "    </tr>\n",
       "    <tr>\n",
       "      <th>3</th>\n",
       "      <td>4</td>\n",
       "      <td>Apple</td>\n",
       "      <td>MacBook Pro</td>\n",
       "      <td>Ultrabook</td>\n",
       "      <td>15.4</td>\n",
       "      <td>IPS Panel Retina Display 2880x1800</td>\n",
       "      <td>16</td>\n",
       "      <td>macOS</td>\n",
       "      <td>1.83</td>\n",
       "      <td>2537.45</td>\n",
       "      <td>Intel Core-i7</td>\n",
       "      <td>2.7</td>\n",
       "      <td>AMD Radeon</td>\n",
       "      <td>512</td>\n",
       "      <td>SSD</td>\n",
       "      <td>3</td>\n",
       "      <td>7</td>\n",
       "      <td>4</td>\n",
       "      <td>5</td>\n",
       "    </tr>\n",
       "    <tr>\n",
       "      <th>4</th>\n",
       "      <td>5</td>\n",
       "      <td>Apple</td>\n",
       "      <td>MacBook Pro</td>\n",
       "      <td>Ultrabook</td>\n",
       "      <td>13.3</td>\n",
       "      <td>IPS Panel Retina Display 2560x1600</td>\n",
       "      <td>8</td>\n",
       "      <td>macOS</td>\n",
       "      <td>1.37</td>\n",
       "      <td>1803.60</td>\n",
       "      <td>Intel Core-i5</td>\n",
       "      <td>3.1</td>\n",
       "      <td>Intel Iris</td>\n",
       "      <td>256</td>\n",
       "      <td>SSD</td>\n",
       "      <td>6</td>\n",
       "      <td>6</td>\n",
       "      <td>4</td>\n",
       "      <td>5</td>\n",
       "    </tr>\n",
       "  </tbody>\n",
       "</table>\n",
       "</div>"
      ],
      "text/plain": [
       "   laptop_ID Company      Product   TypeName  Inches  \\\n",
       "0          1   Apple  MacBook Pro  Ultrabook    13.3   \n",
       "1          2   Apple  Macbook Air  Ultrabook    13.3   \n",
       "2          3      HP       250 G6   Notebook    15.6   \n",
       "3          4   Apple  MacBook Pro  Ultrabook    15.4   \n",
       "4          5   Apple  MacBook Pro  Ultrabook    13.3   \n",
       "\n",
       "                     ScreenResolution  RamGB  OpSys  Weight  Price_euros  \\\n",
       "0  IPS Panel Retina Display 2560x1600      8  macOS    1.37      1339.69   \n",
       "1                            1440x900      8  macOS    1.34       898.94   \n",
       "2                   Full HD 1920x1080      8  No OS    1.86       575.00   \n",
       "3  IPS Panel Retina Display 2880x1800     16  macOS    1.83      2537.45   \n",
       "4  IPS Panel Retina Display 2560x1600      8  macOS    1.37      1803.60   \n",
       "\n",
       "        Procesor  TaktGHz Karta Graficzna  Memory    Memory_type  \\\n",
       "0  Intel Core-i5      2.3      Intel Iris     128            SSD   \n",
       "1  Intel Core-i5      1.8        Intel HD     128  Flash_Storage   \n",
       "2  Intel Core-i5      2.5        Intel HD     256            SSD   \n",
       "3  Intel Core-i7      2.7      AMD Radeon     512            SSD   \n",
       "4  Intel Core-i5      3.1      Intel Iris     256            SSD   \n",
       "\n",
       "   Karta_Graficzna  procesor  memory_type  type_name  \n",
       "0                6         6            4          5  \n",
       "1                5         6            1          5  \n",
       "2                5         6            4          4  \n",
       "3                3         7            4          5  \n",
       "4                6         6            4          5  "
      ]
     },
     "execution_count": 121,
     "metadata": {},
     "output_type": "execute_result"
    }
   ],
   "source": [
    "df.head()"
   ]
  },
  {
   "cell_type": "code",
   "execution_count": 122,
   "id": "1e48b050",
   "metadata": {},
   "outputs": [],
   "source": [
    "#df['Cpu'].value_counts()"
   ]
  },
  {
   "cell_type": "code",
   "execution_count": 123,
   "id": "fea100ba",
   "metadata": {},
   "outputs": [
    {
     "data": {
      "text/html": [
       "<div>\n",
       "<style scoped>\n",
       "    .dataframe tbody tr th:only-of-type {\n",
       "        vertical-align: middle;\n",
       "    }\n",
       "\n",
       "    .dataframe tbody tr th {\n",
       "        vertical-align: top;\n",
       "    }\n",
       "\n",
       "    .dataframe thead th {\n",
       "        text-align: right;\n",
       "    }\n",
       "</style>\n",
       "<table border=\"1\" class=\"dataframe\">\n",
       "  <thead>\n",
       "    <tr style=\"text-align: right;\">\n",
       "      <th></th>\n",
       "      <th>Acer</th>\n",
       "      <th>Apple</th>\n",
       "      <th>Asus</th>\n",
       "      <th>Chuwi</th>\n",
       "      <th>Dell</th>\n",
       "      <th>Fujitsu</th>\n",
       "      <th>Google</th>\n",
       "      <th>HP</th>\n",
       "      <th>Huawei</th>\n",
       "      <th>LG</th>\n",
       "      <th>Lenovo</th>\n",
       "      <th>MSI</th>\n",
       "      <th>Mediacom</th>\n",
       "      <th>Microsoft</th>\n",
       "      <th>Razer</th>\n",
       "      <th>Samsung</th>\n",
       "      <th>Toshiba</th>\n",
       "      <th>Vero</th>\n",
       "      <th>Xiaomi</th>\n",
       "    </tr>\n",
       "  </thead>\n",
       "  <tbody>\n",
       "    <tr>\n",
       "      <th>0</th>\n",
       "      <td>0</td>\n",
       "      <td>1</td>\n",
       "      <td>0</td>\n",
       "      <td>0</td>\n",
       "      <td>0</td>\n",
       "      <td>0</td>\n",
       "      <td>0</td>\n",
       "      <td>0</td>\n",
       "      <td>0</td>\n",
       "      <td>0</td>\n",
       "      <td>0</td>\n",
       "      <td>0</td>\n",
       "      <td>0</td>\n",
       "      <td>0</td>\n",
       "      <td>0</td>\n",
       "      <td>0</td>\n",
       "      <td>0</td>\n",
       "      <td>0</td>\n",
       "      <td>0</td>\n",
       "    </tr>\n",
       "    <tr>\n",
       "      <th>1</th>\n",
       "      <td>0</td>\n",
       "      <td>1</td>\n",
       "      <td>0</td>\n",
       "      <td>0</td>\n",
       "      <td>0</td>\n",
       "      <td>0</td>\n",
       "      <td>0</td>\n",
       "      <td>0</td>\n",
       "      <td>0</td>\n",
       "      <td>0</td>\n",
       "      <td>0</td>\n",
       "      <td>0</td>\n",
       "      <td>0</td>\n",
       "      <td>0</td>\n",
       "      <td>0</td>\n",
       "      <td>0</td>\n",
       "      <td>0</td>\n",
       "      <td>0</td>\n",
       "      <td>0</td>\n",
       "    </tr>\n",
       "    <tr>\n",
       "      <th>2</th>\n",
       "      <td>0</td>\n",
       "      <td>0</td>\n",
       "      <td>0</td>\n",
       "      <td>0</td>\n",
       "      <td>0</td>\n",
       "      <td>0</td>\n",
       "      <td>0</td>\n",
       "      <td>1</td>\n",
       "      <td>0</td>\n",
       "      <td>0</td>\n",
       "      <td>0</td>\n",
       "      <td>0</td>\n",
       "      <td>0</td>\n",
       "      <td>0</td>\n",
       "      <td>0</td>\n",
       "      <td>0</td>\n",
       "      <td>0</td>\n",
       "      <td>0</td>\n",
       "      <td>0</td>\n",
       "    </tr>\n",
       "    <tr>\n",
       "      <th>3</th>\n",
       "      <td>0</td>\n",
       "      <td>1</td>\n",
       "      <td>0</td>\n",
       "      <td>0</td>\n",
       "      <td>0</td>\n",
       "      <td>0</td>\n",
       "      <td>0</td>\n",
       "      <td>0</td>\n",
       "      <td>0</td>\n",
       "      <td>0</td>\n",
       "      <td>0</td>\n",
       "      <td>0</td>\n",
       "      <td>0</td>\n",
       "      <td>0</td>\n",
       "      <td>0</td>\n",
       "      <td>0</td>\n",
       "      <td>0</td>\n",
       "      <td>0</td>\n",
       "      <td>0</td>\n",
       "    </tr>\n",
       "    <tr>\n",
       "      <th>4</th>\n",
       "      <td>0</td>\n",
       "      <td>1</td>\n",
       "      <td>0</td>\n",
       "      <td>0</td>\n",
       "      <td>0</td>\n",
       "      <td>0</td>\n",
       "      <td>0</td>\n",
       "      <td>0</td>\n",
       "      <td>0</td>\n",
       "      <td>0</td>\n",
       "      <td>0</td>\n",
       "      <td>0</td>\n",
       "      <td>0</td>\n",
       "      <td>0</td>\n",
       "      <td>0</td>\n",
       "      <td>0</td>\n",
       "      <td>0</td>\n",
       "      <td>0</td>\n",
       "      <td>0</td>\n",
       "    </tr>\n",
       "    <tr>\n",
       "      <th>...</th>\n",
       "      <td>...</td>\n",
       "      <td>...</td>\n",
       "      <td>...</td>\n",
       "      <td>...</td>\n",
       "      <td>...</td>\n",
       "      <td>...</td>\n",
       "      <td>...</td>\n",
       "      <td>...</td>\n",
       "      <td>...</td>\n",
       "      <td>...</td>\n",
       "      <td>...</td>\n",
       "      <td>...</td>\n",
       "      <td>...</td>\n",
       "      <td>...</td>\n",
       "      <td>...</td>\n",
       "      <td>...</td>\n",
       "      <td>...</td>\n",
       "      <td>...</td>\n",
       "      <td>...</td>\n",
       "    </tr>\n",
       "    <tr>\n",
       "      <th>1297</th>\n",
       "      <td>0</td>\n",
       "      <td>0</td>\n",
       "      <td>0</td>\n",
       "      <td>0</td>\n",
       "      <td>0</td>\n",
       "      <td>0</td>\n",
       "      <td>0</td>\n",
       "      <td>0</td>\n",
       "      <td>0</td>\n",
       "      <td>0</td>\n",
       "      <td>1</td>\n",
       "      <td>0</td>\n",
       "      <td>0</td>\n",
       "      <td>0</td>\n",
       "      <td>0</td>\n",
       "      <td>0</td>\n",
       "      <td>0</td>\n",
       "      <td>0</td>\n",
       "      <td>0</td>\n",
       "    </tr>\n",
       "    <tr>\n",
       "      <th>1298</th>\n",
       "      <td>0</td>\n",
       "      <td>0</td>\n",
       "      <td>0</td>\n",
       "      <td>0</td>\n",
       "      <td>0</td>\n",
       "      <td>0</td>\n",
       "      <td>0</td>\n",
       "      <td>0</td>\n",
       "      <td>0</td>\n",
       "      <td>0</td>\n",
       "      <td>1</td>\n",
       "      <td>0</td>\n",
       "      <td>0</td>\n",
       "      <td>0</td>\n",
       "      <td>0</td>\n",
       "      <td>0</td>\n",
       "      <td>0</td>\n",
       "      <td>0</td>\n",
       "      <td>0</td>\n",
       "    </tr>\n",
       "    <tr>\n",
       "      <th>1299</th>\n",
       "      <td>0</td>\n",
       "      <td>0</td>\n",
       "      <td>0</td>\n",
       "      <td>0</td>\n",
       "      <td>0</td>\n",
       "      <td>0</td>\n",
       "      <td>0</td>\n",
       "      <td>0</td>\n",
       "      <td>0</td>\n",
       "      <td>0</td>\n",
       "      <td>1</td>\n",
       "      <td>0</td>\n",
       "      <td>0</td>\n",
       "      <td>0</td>\n",
       "      <td>0</td>\n",
       "      <td>0</td>\n",
       "      <td>0</td>\n",
       "      <td>0</td>\n",
       "      <td>0</td>\n",
       "    </tr>\n",
       "    <tr>\n",
       "      <th>1300</th>\n",
       "      <td>0</td>\n",
       "      <td>0</td>\n",
       "      <td>0</td>\n",
       "      <td>0</td>\n",
       "      <td>0</td>\n",
       "      <td>0</td>\n",
       "      <td>0</td>\n",
       "      <td>1</td>\n",
       "      <td>0</td>\n",
       "      <td>0</td>\n",
       "      <td>0</td>\n",
       "      <td>0</td>\n",
       "      <td>0</td>\n",
       "      <td>0</td>\n",
       "      <td>0</td>\n",
       "      <td>0</td>\n",
       "      <td>0</td>\n",
       "      <td>0</td>\n",
       "      <td>0</td>\n",
       "    </tr>\n",
       "    <tr>\n",
       "      <th>1301</th>\n",
       "      <td>0</td>\n",
       "      <td>0</td>\n",
       "      <td>1</td>\n",
       "      <td>0</td>\n",
       "      <td>0</td>\n",
       "      <td>0</td>\n",
       "      <td>0</td>\n",
       "      <td>0</td>\n",
       "      <td>0</td>\n",
       "      <td>0</td>\n",
       "      <td>0</td>\n",
       "      <td>0</td>\n",
       "      <td>0</td>\n",
       "      <td>0</td>\n",
       "      <td>0</td>\n",
       "      <td>0</td>\n",
       "      <td>0</td>\n",
       "      <td>0</td>\n",
       "      <td>0</td>\n",
       "    </tr>\n",
       "  </tbody>\n",
       "</table>\n",
       "<p>1302 rows × 19 columns</p>\n",
       "</div>"
      ],
      "text/plain": [
       "      Acer  Apple  Asus  Chuwi  Dell  Fujitsu  Google  HP  Huawei  LG  Lenovo  \\\n",
       "0        0      1     0      0     0        0       0   0       0   0       0   \n",
       "1        0      1     0      0     0        0       0   0       0   0       0   \n",
       "2        0      0     0      0     0        0       0   1       0   0       0   \n",
       "3        0      1     0      0     0        0       0   0       0   0       0   \n",
       "4        0      1     0      0     0        0       0   0       0   0       0   \n",
       "...    ...    ...   ...    ...   ...      ...     ...  ..     ...  ..     ...   \n",
       "1297     0      0     0      0     0        0       0   0       0   0       1   \n",
       "1298     0      0     0      0     0        0       0   0       0   0       1   \n",
       "1299     0      0     0      0     0        0       0   0       0   0       1   \n",
       "1300     0      0     0      0     0        0       0   1       0   0       0   \n",
       "1301     0      0     1      0     0        0       0   0       0   0       0   \n",
       "\n",
       "      MSI  Mediacom  Microsoft  Razer  Samsung  Toshiba  Vero  Xiaomi  \n",
       "0       0         0          0      0        0        0     0       0  \n",
       "1       0         0          0      0        0        0     0       0  \n",
       "2       0         0          0      0        0        0     0       0  \n",
       "3       0         0          0      0        0        0     0       0  \n",
       "4       0         0          0      0        0        0     0       0  \n",
       "...   ...       ...        ...    ...      ...      ...   ...     ...  \n",
       "1297    0         0          0      0        0        0     0       0  \n",
       "1298    0         0          0      0        0        0     0       0  \n",
       "1299    0         0          0      0        0        0     0       0  \n",
       "1300    0         0          0      0        0        0     0       0  \n",
       "1301    0         0          0      0        0        0     0       0  \n",
       "\n",
       "[1302 rows x 19 columns]"
      ]
     },
     "execution_count": 123,
     "metadata": {},
     "output_type": "execute_result"
    }
   ],
   "source": [
    "company = pd.get_dummies(df['Company'])\n",
    "company"
   ]
  },
  {
   "cell_type": "code",
   "execution_count": 124,
   "id": "e4e6831d",
   "metadata": {},
   "outputs": [
    {
     "data": {
      "text/plain": [
       "<AxesSubplot:xlabel='Price_euros', ylabel='Count'>"
      ]
     },
     "execution_count": 124,
     "metadata": {},
     "output_type": "execute_result"
    },
    {
     "data": {
      "image/png": "[encoded data removed]",
      "text/plain": [
       "<Figure size 432x288 with 1 Axes>"
      ]
     },
     "metadata": {
      "needs_background": "light"
     },
     "output_type": "display_data"
    }
   ],
   "source": [
    "sns.histplot(df['Price_euros'], kde = True, bins=50)"
   ]
  },
  {
   "cell_type": "code",
   "execution_count": 125,
   "id": "a1976f86",
   "metadata": {},
   "outputs": [
    {
     "data": {
      "text/plain": [
       "[0       7.200194\n",
       " 1       6.801216\n",
       " 2       6.354370\n",
       " 3       7.838915\n",
       " 4       7.497540\n",
       "           ...   \n",
       " 1297    6.458338\n",
       " 1298    7.312553\n",
       " 1299    5.433722\n",
       " 1300    6.638568\n",
       " 1301    5.910797\n",
       " Name: Price_euros, Length: 1302, dtype: float64]"
      ]
     },
     "execution_count": 125,
     "metadata": {},
     "output_type": "execute_result"
    }
   ],
   "source": [
    "z = [np.log(df['Price_euros'])]\n",
    "z"
   ]
  },
  {
   "cell_type": "code",
   "execution_count": 126,
   "id": "dc393d83",
   "metadata": {},
   "outputs": [
    {
     "data": {
      "text/plain": [
       "<AxesSubplot:ylabel='Count'>"
      ]
     },
     "execution_count": 126,
     "metadata": {},
     "output_type": "execute_result"
    },
    {
     "data": {
      "image/png": "[encoded data removed]",
      "text/plain": [
       "<Figure size 432x288 with 1 Axes>"
      ]
     },
     "metadata": {
      "needs_background": "light"
     },
     "output_type": "display_data"
    }
   ],
   "source": [
    "sns.histplot(z, kde = True, bins=50)"
   ]
  },
  {
   "cell_type": "code",
   "execution_count": 127,
   "id": "620b7fd1",
   "metadata": {},
   "outputs": [],
   "source": [
    "df['Price'] = np.log(df['Price_euros'])"
   ]
  },
  {
   "cell_type": "code",
   "execution_count": 128,
   "id": "951c6313",
   "metadata": {},
   "outputs": [
    {
     "data": {
      "text/html": [
       "<div>\n",
       "<style scoped>\n",
       "    .dataframe tbody tr th:only-of-type {\n",
       "        vertical-align: middle;\n",
       "    }\n",
       "\n",
       "    .dataframe tbody tr th {\n",
       "        vertical-align: top;\n",
       "    }\n",
       "\n",
       "    .dataframe thead th {\n",
       "        text-align: right;\n",
       "    }\n",
       "</style>\n",
       "<table border=\"1\" class=\"dataframe\">\n",
       "  <thead>\n",
       "    <tr style=\"text-align: right;\">\n",
       "      <th></th>\n",
       "      <th>laptop_ID</th>\n",
       "      <th>Company</th>\n",
       "      <th>Product</th>\n",
       "      <th>TypeName</th>\n",
       "      <th>Inches</th>\n",
       "      <th>ScreenResolution</th>\n",
       "      <th>RamGB</th>\n",
       "      <th>OpSys</th>\n",
       "      <th>Weight</th>\n",
       "      <th>Price_euros</th>\n",
       "      <th>Procesor</th>\n",
       "      <th>TaktGHz</th>\n",
       "      <th>Karta Graficzna</th>\n",
       "      <th>Memory</th>\n",
       "      <th>Memory_type</th>\n",
       "      <th>Karta_Graficzna</th>\n",
       "      <th>procesor</th>\n",
       "      <th>memory_type</th>\n",
       "      <th>type_name</th>\n",
       "      <th>Price</th>\n",
       "    </tr>\n",
       "  </thead>\n",
       "  <tbody>\n",
       "    <tr>\n",
       "      <th>0</th>\n",
       "      <td>1</td>\n",
       "      <td>Apple</td>\n",
       "      <td>MacBook Pro</td>\n",
       "      <td>Ultrabook</td>\n",
       "      <td>13.3</td>\n",
       "      <td>IPS Panel Retina Display 2560x1600</td>\n",
       "      <td>8</td>\n",
       "      <td>macOS</td>\n",
       "      <td>1.37</td>\n",
       "      <td>1339.69</td>\n",
       "      <td>Intel Core-i5</td>\n",
       "      <td>2.3</td>\n",
       "      <td>Intel Iris</td>\n",
       "      <td>128</td>\n",
       "      <td>SSD</td>\n",
       "      <td>6</td>\n",
       "      <td>6</td>\n",
       "      <td>4</td>\n",
       "      <td>5</td>\n",
       "      <td>7.200194</td>\n",
       "    </tr>\n",
       "    <tr>\n",
       "      <th>1</th>\n",
       "      <td>2</td>\n",
       "      <td>Apple</td>\n",
       "      <td>Macbook Air</td>\n",
       "      <td>Ultrabook</td>\n",
       "      <td>13.3</td>\n",
       "      <td>1440x900</td>\n",
       "      <td>8</td>\n",
       "      <td>macOS</td>\n",
       "      <td>1.34</td>\n",
       "      <td>898.94</td>\n",
       "      <td>Intel Core-i5</td>\n",
       "      <td>1.8</td>\n",
       "      <td>Intel HD</td>\n",
       "      <td>128</td>\n",
       "      <td>Flash_Storage</td>\n",
       "      <td>5</td>\n",
       "      <td>6</td>\n",
       "      <td>1</td>\n",
       "      <td>5</td>\n",
       "      <td>6.801216</td>\n",
       "    </tr>\n",
       "    <tr>\n",
       "      <th>2</th>\n",
       "      <td>3</td>\n",
       "      <td>HP</td>\n",
       "      <td>250 G6</td>\n",
       "      <td>Notebook</td>\n",
       "      <td>15.6</td>\n",
       "      <td>Full HD 1920x1080</td>\n",
       "      <td>8</td>\n",
       "      <td>No OS</td>\n",
       "      <td>1.86</td>\n",
       "      <td>575.00</td>\n",
       "      <td>Intel Core-i5</td>\n",
       "      <td>2.5</td>\n",
       "      <td>Intel HD</td>\n",
       "      <td>256</td>\n",
       "      <td>SSD</td>\n",
       "      <td>5</td>\n",
       "      <td>6</td>\n",
       "      <td>4</td>\n",
       "      <td>4</td>\n",
       "      <td>6.354370</td>\n",
       "    </tr>\n",
       "    <tr>\n",
       "      <th>3</th>\n",
       "      <td>4</td>\n",
       "      <td>Apple</td>\n",
       "      <td>MacBook Pro</td>\n",
       "      <td>Ultrabook</td>\n",
       "      <td>15.4</td>\n",
       "      <td>IPS Panel Retina Display 2880x1800</td>\n",
       "      <td>16</td>\n",
       "      <td>macOS</td>\n",
       "      <td>1.83</td>\n",
       "      <td>2537.45</td>\n",
       "      <td>Intel Core-i7</td>\n",
       "      <td>2.7</td>\n",
       "      <td>AMD Radeon</td>\n",
       "      <td>512</td>\n",
       "      <td>SSD</td>\n",
       "      <td>3</td>\n",
       "      <td>7</td>\n",
       "      <td>4</td>\n",
       "      <td>5</td>\n",
       "      <td>7.838915</td>\n",
       "    </tr>\n",
       "    <tr>\n",
       "      <th>4</th>\n",
       "      <td>5</td>\n",
       "      <td>Apple</td>\n",
       "      <td>MacBook Pro</td>\n",
       "      <td>Ultrabook</td>\n",
       "      <td>13.3</td>\n",
       "      <td>IPS Panel Retina Display 2560x1600</td>\n",
       "      <td>8</td>\n",
       "      <td>macOS</td>\n",
       "      <td>1.37</td>\n",
       "      <td>1803.60</td>\n",
       "      <td>Intel Core-i5</td>\n",
       "      <td>3.1</td>\n",
       "      <td>Intel Iris</td>\n",
       "      <td>256</td>\n",
       "      <td>SSD</td>\n",
       "      <td>6</td>\n",
       "      <td>6</td>\n",
       "      <td>4</td>\n",
       "      <td>5</td>\n",
       "      <td>7.497540</td>\n",
       "    </tr>\n",
       "  </tbody>\n",
       "</table>\n",
       "</div>"
      ],
      "text/plain": [
       "   laptop_ID Company      Product   TypeName  Inches  \\\n",
       "0          1   Apple  MacBook Pro  Ultrabook    13.3   \n",
       "1          2   Apple  Macbook Air  Ultrabook    13.3   \n",
       "2          3      HP       250 G6   Notebook    15.6   \n",
       "3          4   Apple  MacBook Pro  Ultrabook    15.4   \n",
       "4          5   Apple  MacBook Pro  Ultrabook    13.3   \n",
       "\n",
       "                     ScreenResolution  RamGB  OpSys  Weight  Price_euros  \\\n",
       "0  IPS Panel Retina Display 2560x1600      8  macOS    1.37      1339.69   \n",
       "1                            1440x900      8  macOS    1.34       898.94   \n",
       "2                   Full HD 1920x1080      8  No OS    1.86       575.00   \n",
       "3  IPS Panel Retina Display 2880x1800     16  macOS    1.83      2537.45   \n",
       "4  IPS Panel Retina Display 2560x1600      8  macOS    1.37      1803.60   \n",
       "\n",
       "        Procesor  TaktGHz Karta Graficzna  Memory    Memory_type  \\\n",
       "0  Intel Core-i5      2.3      Intel Iris     128            SSD   \n",
       "1  Intel Core-i5      1.8        Intel HD     128  Flash_Storage   \n",
       "2  Intel Core-i5      2.5        Intel HD     256            SSD   \n",
       "3  Intel Core-i7      2.7      AMD Radeon     512            SSD   \n",
       "4  Intel Core-i5      3.1      Intel Iris     256            SSD   \n",
       "\n",
       "   Karta_Graficzna  procesor  memory_type  type_name     Price  \n",
       "0                6         6            4          5  7.200194  \n",
       "1                5         6            1          5  6.801216  \n",
       "2                5         6            4          4  6.354370  \n",
       "3                3         7            4          5  7.838915  \n",
       "4                6         6            4          5  7.497540  "
      ]
     },
     "execution_count": 128,
     "metadata": {},
     "output_type": "execute_result"
    }
   ],
   "source": [
    "df.head()"
   ]
  },
  {
   "cell_type": "code",
   "execution_count": 129,
   "id": "81df3fe3",
   "metadata": {},
   "outputs": [],
   "source": [
    "df = pd.concat([df, company], axis=1)"
   ]
  },
  {
   "cell_type": "code",
   "execution_count": 130,
   "id": "9258da14",
   "metadata": {},
   "outputs": [
    {
     "data": {
      "text/html": [
       "<div>\n",
       "<style scoped>\n",
       "    .dataframe tbody tr th:only-of-type {\n",
       "        vertical-align: middle;\n",
       "    }\n",
       "\n",
       "    .dataframe tbody tr th {\n",
       "        vertical-align: top;\n",
       "    }\n",
       "\n",
       "    .dataframe thead th {\n",
       "        text-align: right;\n",
       "    }\n",
       "</style>\n",
       "<table border=\"1\" class=\"dataframe\">\n",
       "  <thead>\n",
       "    <tr style=\"text-align: right;\">\n",
       "      <th></th>\n",
       "      <th>laptop_ID</th>\n",
       "      <th>Company</th>\n",
       "      <th>Product</th>\n",
       "      <th>TypeName</th>\n",
       "      <th>Inches</th>\n",
       "      <th>ScreenResolution</th>\n",
       "      <th>RamGB</th>\n",
       "      <th>OpSys</th>\n",
       "      <th>Weight</th>\n",
       "      <th>Price_euros</th>\n",
       "      <th>Procesor</th>\n",
       "      <th>TaktGHz</th>\n",
       "      <th>Karta Graficzna</th>\n",
       "      <th>Memory</th>\n",
       "      <th>Memory_type</th>\n",
       "      <th>Karta_Graficzna</th>\n",
       "      <th>procesor</th>\n",
       "      <th>memory_type</th>\n",
       "      <th>type_name</th>\n",
       "      <th>Price</th>\n",
       "      <th>Acer</th>\n",
       "      <th>Apple</th>\n",
       "      <th>Asus</th>\n",
       "      <th>Chuwi</th>\n",
       "      <th>Dell</th>\n",
       "      <th>Fujitsu</th>\n",
       "      <th>Google</th>\n",
       "      <th>HP</th>\n",
       "      <th>Huawei</th>\n",
       "      <th>LG</th>\n",
       "      <th>Lenovo</th>\n",
       "      <th>MSI</th>\n",
       "      <th>Mediacom</th>\n",
       "      <th>Microsoft</th>\n",
       "      <th>Razer</th>\n",
       "      <th>Samsung</th>\n",
       "      <th>Toshiba</th>\n",
       "      <th>Vero</th>\n",
       "      <th>Xiaomi</th>\n",
       "    </tr>\n",
       "  </thead>\n",
       "  <tbody>\n",
       "    <tr>\n",
       "      <th>0</th>\n",
       "      <td>1</td>\n",
       "      <td>Apple</td>\n",
       "      <td>MacBook Pro</td>\n",
       "      <td>Ultrabook</td>\n",
       "      <td>13.3</td>\n",
       "      <td>IPS Panel Retina Display 2560x1600</td>\n",
       "      <td>8</td>\n",
       "      <td>macOS</td>\n",
       "      <td>1.37</td>\n",
       "      <td>1339.69</td>\n",
       "      <td>Intel Core-i5</td>\n",
       "      <td>2.3</td>\n",
       "      <td>Intel Iris</td>\n",
       "      <td>128</td>\n",
       "      <td>SSD</td>\n",
       "      <td>6</td>\n",
       "      <td>6</td>\n",
       "      <td>4</td>\n",
       "      <td>5</td>\n",
       "      <td>7.200194</td>\n",
       "      <td>0</td>\n",
       "      <td>1</td>\n",
       "      <td>0</td>\n",
       "      <td>0</td>\n",
       "      <td>0</td>\n",
       "      <td>0</td>\n",
       "      <td>0</td>\n",
       "      <td>0</td>\n",
       "      <td>0</td>\n",
       "      <td>0</td>\n",
       "      <td>0</td>\n",
       "      <td>0</td>\n",
       "      <td>0</td>\n",
       "      <td>0</td>\n",
       "      <td>0</td>\n",
       "      <td>0</td>\n",
       "      <td>0</td>\n",
       "      <td>0</td>\n",
       "      <td>0</td>\n",
       "    </tr>\n",
       "    <tr>\n",
       "      <th>1</th>\n",
       "      <td>2</td>\n",
       "      <td>Apple</td>\n",
       "      <td>Macbook Air</td>\n",
       "      <td>Ultrabook</td>\n",
       "      <td>13.3</td>\n",
       "      <td>1440x900</td>\n",
       "      <td>8</td>\n",
       "      <td>macOS</td>\n",
       "      <td>1.34</td>\n",
       "      <td>898.94</td>\n",
       "      <td>Intel Core-i5</td>\n",
       "      <td>1.8</td>\n",
       "      <td>Intel HD</td>\n",
       "      <td>128</td>\n",
       "      <td>Flash_Storage</td>\n",
       "      <td>5</td>\n",
       "      <td>6</td>\n",
       "      <td>1</td>\n",
       "      <td>5</td>\n",
       "      <td>6.801216</td>\n",
       "      <td>0</td>\n",
       "      <td>1</td>\n",
       "      <td>0</td>\n",
       "      <td>0</td>\n",
       "      <td>0</td>\n",
       "      <td>0</td>\n",
       "      <td>0</td>\n",
       "      <td>0</td>\n",
       "      <td>0</td>\n",
       "      <td>0</td>\n",
       "      <td>0</td>\n",
       "      <td>0</td>\n",
       "      <td>0</td>\n",
       "      <td>0</td>\n",
       "      <td>0</td>\n",
       "      <td>0</td>\n",
       "      <td>0</td>\n",
       "      <td>0</td>\n",
       "      <td>0</td>\n",
       "    </tr>\n",
       "    <tr>\n",
       "      <th>2</th>\n",
       "      <td>3</td>\n",
       "      <td>HP</td>\n",
       "      <td>250 G6</td>\n",
       "      <td>Notebook</td>\n",
       "      <td>15.6</td>\n",
       "      <td>Full HD 1920x1080</td>\n",
       "      <td>8</td>\n",
       "      <td>No OS</td>\n",
       "      <td>1.86</td>\n",
       "      <td>575.00</td>\n",
       "      <td>Intel Core-i5</td>\n",
       "      <td>2.5</td>\n",
       "      <td>Intel HD</td>\n",
       "      <td>256</td>\n",
       "      <td>SSD</td>\n",
       "      <td>5</td>\n",
       "      <td>6</td>\n",
       "      <td>4</td>\n",
       "      <td>4</td>\n",
       "      <td>6.354370</td>\n",
       "      <td>0</td>\n",
       "      <td>0</td>\n",
       "      <td>0</td>\n",
       "      <td>0</td>\n",
       "      <td>0</td>\n",
       "      <td>0</td>\n",
       "      <td>0</td>\n",
       "      <td>1</td>\n",
       "      <td>0</td>\n",
       "      <td>0</td>\n",
       "      <td>0</td>\n",
       "      <td>0</td>\n",
       "      <td>0</td>\n",
       "      <td>0</td>\n",
       "      <td>0</td>\n",
       "      <td>0</td>\n",
       "      <td>0</td>\n",
       "      <td>0</td>\n",
       "      <td>0</td>\n",
       "    </tr>\n",
       "    <tr>\n",
       "      <th>3</th>\n",
       "      <td>4</td>\n",
       "      <td>Apple</td>\n",
       "      <td>MacBook Pro</td>\n",
       "      <td>Ultrabook</td>\n",
       "      <td>15.4</td>\n",
       "      <td>IPS Panel Retina Display 2880x1800</td>\n",
       "      <td>16</td>\n",
       "      <td>macOS</td>\n",
       "      <td>1.83</td>\n",
       "      <td>2537.45</td>\n",
       "      <td>Intel Core-i7</td>\n",
       "      <td>2.7</td>\n",
       "      <td>AMD Radeon</td>\n",
       "      <td>512</td>\n",
       "      <td>SSD</td>\n",
       "      <td>3</td>\n",
       "      <td>7</td>\n",
       "      <td>4</td>\n",
       "      <td>5</td>\n",
       "      <td>7.838915</td>\n",
       "      <td>0</td>\n",
       "      <td>1</td>\n",
       "      <td>0</td>\n",
       "      <td>0</td>\n",
       "      <td>0</td>\n",
       "      <td>0</td>\n",
       "      <td>0</td>\n",
       "      <td>0</td>\n",
       "      <td>0</td>\n",
       "      <td>0</td>\n",
       "      <td>0</td>\n",
       "      <td>0</td>\n",
       "      <td>0</td>\n",
       "      <td>0</td>\n",
       "      <td>0</td>\n",
       "      <td>0</td>\n",
       "      <td>0</td>\n",
       "      <td>0</td>\n",
       "      <td>0</td>\n",
       "    </tr>\n",
       "    <tr>\n",
       "      <th>4</th>\n",
       "      <td>5</td>\n",
       "      <td>Apple</td>\n",
       "      <td>MacBook Pro</td>\n",
       "      <td>Ultrabook</td>\n",
       "      <td>13.3</td>\n",
       "      <td>IPS Panel Retina Display 2560x1600</td>\n",
       "      <td>8</td>\n",
       "      <td>macOS</td>\n",
       "      <td>1.37</td>\n",
       "      <td>1803.60</td>\n",
       "      <td>Intel Core-i5</td>\n",
       "      <td>3.1</td>\n",
       "      <td>Intel Iris</td>\n",
       "      <td>256</td>\n",
       "      <td>SSD</td>\n",
       "      <td>6</td>\n",
       "      <td>6</td>\n",
       "      <td>4</td>\n",
       "      <td>5</td>\n",
       "      <td>7.497540</td>\n",
       "      <td>0</td>\n",
       "      <td>1</td>\n",
       "      <td>0</td>\n",
       "      <td>0</td>\n",
       "      <td>0</td>\n",
       "      <td>0</td>\n",
       "      <td>0</td>\n",
       "      <td>0</td>\n",
       "      <td>0</td>\n",
       "      <td>0</td>\n",
       "      <td>0</td>\n",
       "      <td>0</td>\n",
       "      <td>0</td>\n",
       "      <td>0</td>\n",
       "      <td>0</td>\n",
       "      <td>0</td>\n",
       "      <td>0</td>\n",
       "      <td>0</td>\n",
       "      <td>0</td>\n",
       "    </tr>\n",
       "  </tbody>\n",
       "</table>\n",
       "</div>"
      ],
      "text/plain": [
       "   laptop_ID Company      Product   TypeName  Inches  \\\n",
       "0          1   Apple  MacBook Pro  Ultrabook    13.3   \n",
       "1          2   Apple  Macbook Air  Ultrabook    13.3   \n",
       "2          3      HP       250 G6   Notebook    15.6   \n",
       "3          4   Apple  MacBook Pro  Ultrabook    15.4   \n",
       "4          5   Apple  MacBook Pro  Ultrabook    13.3   \n",
       "\n",
       "                     ScreenResolution  RamGB  OpSys  Weight  Price_euros  \\\n",
       "0  IPS Panel Retina Display 2560x1600      8  macOS    1.37      1339.69   \n",
       "1                            1440x900      8  macOS    1.34       898.94   \n",
       "2                   Full HD 1920x1080      8  No OS    1.86       575.00   \n",
       "3  IPS Panel Retina Display 2880x1800     16  macOS    1.83      2537.45   \n",
       "4  IPS Panel Retina Display 2560x1600      8  macOS    1.37      1803.60   \n",
       "\n",
       "        Procesor  TaktGHz Karta Graficzna  Memory    Memory_type  \\\n",
       "0  Intel Core-i5      2.3      Intel Iris     128            SSD   \n",
       "1  Intel Core-i5      1.8        Intel HD     128  Flash_Storage   \n",
       "2  Intel Core-i5      2.5        Intel HD     256            SSD   \n",
       "3  Intel Core-i7      2.7      AMD Radeon     512            SSD   \n",
       "4  Intel Core-i5      3.1      Intel Iris     256            SSD   \n",
       "\n",
       "   Karta_Graficzna  procesor  memory_type  type_name     Price  Acer  Apple  \\\n",
       "0                6         6            4          5  7.200194     0      1   \n",
       "1                5         6            1          5  6.801216     0      1   \n",
       "2                5         6            4          4  6.354370     0      0   \n",
       "3                3         7            4          5  7.838915     0      1   \n",
       "4                6         6            4          5  7.497540     0      1   \n",
       "\n",
       "   Asus  Chuwi  Dell  Fujitsu  Google  HP  Huawei  LG  Lenovo  MSI  Mediacom  \\\n",
       "0     0      0     0        0       0   0       0   0       0    0         0   \n",
       "1     0      0     0        0       0   0       0   0       0    0         0   \n",
       "2     0      0     0        0       0   1       0   0       0    0         0   \n",
       "3     0      0     0        0       0   0       0   0       0    0         0   \n",
       "4     0      0     0        0       0   0       0   0       0    0         0   \n",
       "\n",
       "   Microsoft  Razer  Samsung  Toshiba  Vero  Xiaomi  \n",
       "0          0      0        0        0     0       0  \n",
       "1          0      0        0        0     0       0  \n",
       "2          0      0        0        0     0       0  \n",
       "3          0      0        0        0     0       0  \n",
       "4          0      0        0        0     0       0  "
      ]
     },
     "execution_count": 130,
     "metadata": {},
     "output_type": "execute_result"
    }
   ],
   "source": [
    "df.head()"
   ]
  },
  {
   "cell_type": "code",
   "execution_count": 131,
   "id": "af795fe3",
   "metadata": {},
   "outputs": [],
   "source": [
    "df.drop('laptop_ID', axis = 1, inplace=True)"
   ]
  },
  {
   "cell_type": "code",
   "execution_count": 132,
   "id": "08f2305d",
   "metadata": {},
   "outputs": [
    {
     "data": {
      "text/html": [
       "<div>\n",
       "<style scoped>\n",
       "    .dataframe tbody tr th:only-of-type {\n",
       "        vertical-align: middle;\n",
       "    }\n",
       "\n",
       "    .dataframe tbody tr th {\n",
       "        vertical-align: top;\n",
       "    }\n",
       "\n",
       "    .dataframe thead th {\n",
       "        text-align: right;\n",
       "    }\n",
       "</style>\n",
       "<table border=\"1\" class=\"dataframe\">\n",
       "  <thead>\n",
       "    <tr style=\"text-align: right;\">\n",
       "      <th></th>\n",
       "      <th>Company</th>\n",
       "      <th>Product</th>\n",
       "      <th>TypeName</th>\n",
       "      <th>Inches</th>\n",
       "      <th>ScreenResolution</th>\n",
       "      <th>RamGB</th>\n",
       "      <th>OpSys</th>\n",
       "      <th>Weight</th>\n",
       "      <th>Price_euros</th>\n",
       "      <th>Procesor</th>\n",
       "      <th>TaktGHz</th>\n",
       "      <th>Karta Graficzna</th>\n",
       "      <th>Memory</th>\n",
       "      <th>Memory_type</th>\n",
       "      <th>Karta_Graficzna</th>\n",
       "      <th>procesor</th>\n",
       "      <th>memory_type</th>\n",
       "      <th>type_name</th>\n",
       "      <th>Price</th>\n",
       "      <th>Acer</th>\n",
       "      <th>Apple</th>\n",
       "      <th>Asus</th>\n",
       "      <th>Chuwi</th>\n",
       "      <th>Dell</th>\n",
       "      <th>Fujitsu</th>\n",
       "      <th>Google</th>\n",
       "      <th>HP</th>\n",
       "      <th>Huawei</th>\n",
       "      <th>LG</th>\n",
       "      <th>Lenovo</th>\n",
       "      <th>MSI</th>\n",
       "      <th>Mediacom</th>\n",
       "      <th>Microsoft</th>\n",
       "      <th>Razer</th>\n",
       "      <th>Samsung</th>\n",
       "      <th>Toshiba</th>\n",
       "      <th>Vero</th>\n",
       "      <th>Xiaomi</th>\n",
       "    </tr>\n",
       "  </thead>\n",
       "  <tbody>\n",
       "    <tr>\n",
       "      <th>0</th>\n",
       "      <td>Apple</td>\n",
       "      <td>MacBook Pro</td>\n",
       "      <td>Ultrabook</td>\n",
       "      <td>13.3</td>\n",
       "      <td>IPS Panel Retina Display 2560x1600</td>\n",
       "      <td>8</td>\n",
       "      <td>macOS</td>\n",
       "      <td>1.37</td>\n",
       "      <td>1339.69</td>\n",
       "      <td>Intel Core-i5</td>\n",
       "      <td>2.3</td>\n",
       "      <td>Intel Iris</td>\n",
       "      <td>128</td>\n",
       "      <td>SSD</td>\n",
       "      <td>6</td>\n",
       "      <td>6</td>\n",
       "      <td>4</td>\n",
       "      <td>5</td>\n",
       "      <td>7.200194</td>\n",
       "      <td>0</td>\n",
       "      <td>1</td>\n",
       "      <td>0</td>\n",
       "      <td>0</td>\n",
       "      <td>0</td>\n",
       "      <td>0</td>\n",
       "      <td>0</td>\n",
       "      <td>0</td>\n",
       "      <td>0</td>\n",
       "      <td>0</td>\n",
       "      <td>0</td>\n",
       "      <td>0</td>\n",
       "      <td>0</td>\n",
       "      <td>0</td>\n",
       "      <td>0</td>\n",
       "      <td>0</td>\n",
       "      <td>0</td>\n",
       "      <td>0</td>\n",
       "      <td>0</td>\n",
       "    </tr>\n",
       "    <tr>\n",
       "      <th>1</th>\n",
       "      <td>Apple</td>\n",
       "      <td>Macbook Air</td>\n",
       "      <td>Ultrabook</td>\n",
       "      <td>13.3</td>\n",
       "      <td>1440x900</td>\n",
       "      <td>8</td>\n",
       "      <td>macOS</td>\n",
       "      <td>1.34</td>\n",
       "      <td>898.94</td>\n",
       "      <td>Intel Core-i5</td>\n",
       "      <td>1.8</td>\n",
       "      <td>Intel HD</td>\n",
       "      <td>128</td>\n",
       "      <td>Flash_Storage</td>\n",
       "      <td>5</td>\n",
       "      <td>6</td>\n",
       "      <td>1</td>\n",
       "      <td>5</td>\n",
       "      <td>6.801216</td>\n",
       "      <td>0</td>\n",
       "      <td>1</td>\n",
       "      <td>0</td>\n",
       "      <td>0</td>\n",
       "      <td>0</td>\n",
       "      <td>0</td>\n",
       "      <td>0</td>\n",
       "      <td>0</td>\n",
       "      <td>0</td>\n",
       "      <td>0</td>\n",
       "      <td>0</td>\n",
       "      <td>0</td>\n",
       "      <td>0</td>\n",
       "      <td>0</td>\n",
       "      <td>0</td>\n",
       "      <td>0</td>\n",
       "      <td>0</td>\n",
       "      <td>0</td>\n",
       "      <td>0</td>\n",
       "    </tr>\n",
       "    <tr>\n",
       "      <th>2</th>\n",
       "      <td>HP</td>\n",
       "      <td>250 G6</td>\n",
       "      <td>Notebook</td>\n",
       "      <td>15.6</td>\n",
       "      <td>Full HD 1920x1080</td>\n",
       "      <td>8</td>\n",
       "      <td>No OS</td>\n",
       "      <td>1.86</td>\n",
       "      <td>575.00</td>\n",
       "      <td>Intel Core-i5</td>\n",
       "      <td>2.5</td>\n",
       "      <td>Intel HD</td>\n",
       "      <td>256</td>\n",
       "      <td>SSD</td>\n",
       "      <td>5</td>\n",
       "      <td>6</td>\n",
       "      <td>4</td>\n",
       "      <td>4</td>\n",
       "      <td>6.354370</td>\n",
       "      <td>0</td>\n",
       "      <td>0</td>\n",
       "      <td>0</td>\n",
       "      <td>0</td>\n",
       "      <td>0</td>\n",
       "      <td>0</td>\n",
       "      <td>0</td>\n",
       "      <td>1</td>\n",
       "      <td>0</td>\n",
       "      <td>0</td>\n",
       "      <td>0</td>\n",
       "      <td>0</td>\n",
       "      <td>0</td>\n",
       "      <td>0</td>\n",
       "      <td>0</td>\n",
       "      <td>0</td>\n",
       "      <td>0</td>\n",
       "      <td>0</td>\n",
       "      <td>0</td>\n",
       "    </tr>\n",
       "    <tr>\n",
       "      <th>3</th>\n",
       "      <td>Apple</td>\n",
       "      <td>MacBook Pro</td>\n",
       "      <td>Ultrabook</td>\n",
       "      <td>15.4</td>\n",
       "      <td>IPS Panel Retina Display 2880x1800</td>\n",
       "      <td>16</td>\n",
       "      <td>macOS</td>\n",
       "      <td>1.83</td>\n",
       "      <td>2537.45</td>\n",
       "      <td>Intel Core-i7</td>\n",
       "      <td>2.7</td>\n",
       "      <td>AMD Radeon</td>\n",
       "      <td>512</td>\n",
       "      <td>SSD</td>\n",
       "      <td>3</td>\n",
       "      <td>7</td>\n",
       "      <td>4</td>\n",
       "      <td>5</td>\n",
       "      <td>7.838915</td>\n",
       "      <td>0</td>\n",
       "      <td>1</td>\n",
       "      <td>0</td>\n",
       "      <td>0</td>\n",
       "      <td>0</td>\n",
       "      <td>0</td>\n",
       "      <td>0</td>\n",
       "      <td>0</td>\n",
       "      <td>0</td>\n",
       "      <td>0</td>\n",
       "      <td>0</td>\n",
       "      <td>0</td>\n",
       "      <td>0</td>\n",
       "      <td>0</td>\n",
       "      <td>0</td>\n",
       "      <td>0</td>\n",
       "      <td>0</td>\n",
       "      <td>0</td>\n",
       "      <td>0</td>\n",
       "    </tr>\n",
       "    <tr>\n",
       "      <th>4</th>\n",
       "      <td>Apple</td>\n",
       "      <td>MacBook Pro</td>\n",
       "      <td>Ultrabook</td>\n",
       "      <td>13.3</td>\n",
       "      <td>IPS Panel Retina Display 2560x1600</td>\n",
       "      <td>8</td>\n",
       "      <td>macOS</td>\n",
       "      <td>1.37</td>\n",
       "      <td>1803.60</td>\n",
       "      <td>Intel Core-i5</td>\n",
       "      <td>3.1</td>\n",
       "      <td>Intel Iris</td>\n",
       "      <td>256</td>\n",
       "      <td>SSD</td>\n",
       "      <td>6</td>\n",
       "      <td>6</td>\n",
       "      <td>4</td>\n",
       "      <td>5</td>\n",
       "      <td>7.497540</td>\n",
       "      <td>0</td>\n",
       "      <td>1</td>\n",
       "      <td>0</td>\n",
       "      <td>0</td>\n",
       "      <td>0</td>\n",
       "      <td>0</td>\n",
       "      <td>0</td>\n",
       "      <td>0</td>\n",
       "      <td>0</td>\n",
       "      <td>0</td>\n",
       "      <td>0</td>\n",
       "      <td>0</td>\n",
       "      <td>0</td>\n",
       "      <td>0</td>\n",
       "      <td>0</td>\n",
       "      <td>0</td>\n",
       "      <td>0</td>\n",
       "      <td>0</td>\n",
       "      <td>0</td>\n",
       "    </tr>\n",
       "  </tbody>\n",
       "</table>\n",
       "</div>"
      ],
      "text/plain": [
       "  Company      Product   TypeName  Inches                    ScreenResolution  \\\n",
       "0   Apple  MacBook Pro  Ultrabook    13.3  IPS Panel Retina Display 2560x1600   \n",
       "1   Apple  Macbook Air  Ultrabook    13.3                            1440x900   \n",
       "2      HP       250 G6   Notebook    15.6                   Full HD 1920x1080   \n",
       "3   Apple  MacBook Pro  Ultrabook    15.4  IPS Panel Retina Display 2880x1800   \n",
       "4   Apple  MacBook Pro  Ultrabook    13.3  IPS Panel Retina Display 2560x1600   \n",
       "\n",
       "   RamGB  OpSys  Weight  Price_euros       Procesor  TaktGHz Karta Graficzna  \\\n",
       "0      8  macOS    1.37      1339.69  Intel Core-i5      2.3      Intel Iris   \n",
       "1      8  macOS    1.34       898.94  Intel Core-i5      1.8        Intel HD   \n",
       "2      8  No OS    1.86       575.00  Intel Core-i5      2.5        Intel HD   \n",
       "3     16  macOS    1.83      2537.45  Intel Core-i7      2.7      AMD Radeon   \n",
       "4      8  macOS    1.37      1803.60  Intel Core-i5      3.1      Intel Iris   \n",
       "\n",
       "   Memory    Memory_type  Karta_Graficzna  procesor  memory_type  type_name  \\\n",
       "0     128            SSD                6         6            4          5   \n",
       "1     128  Flash_Storage                5         6            1          5   \n",
       "2     256            SSD                5         6            4          4   \n",
       "3     512            SSD                3         7            4          5   \n",
       "4     256            SSD                6         6            4          5   \n",
       "\n",
       "      Price  Acer  Apple  Asus  Chuwi  Dell  Fujitsu  Google  HP  Huawei  LG  \\\n",
       "0  7.200194     0      1     0      0     0        0       0   0       0   0   \n",
       "1  6.801216     0      1     0      0     0        0       0   0       0   0   \n",
       "2  6.354370     0      0     0      0     0        0       0   1       0   0   \n",
       "3  7.838915     0      1     0      0     0        0       0   0       0   0   \n",
       "4  7.497540     0      1     0      0     0        0       0   0       0   0   \n",
       "\n",
       "   Lenovo  MSI  Mediacom  Microsoft  Razer  Samsung  Toshiba  Vero  Xiaomi  \n",
       "0       0    0         0          0      0        0        0     0       0  \n",
       "1       0    0         0          0      0        0        0     0       0  \n",
       "2       0    0         0          0      0        0        0     0       0  \n",
       "3       0    0         0          0      0        0        0     0       0  \n",
       "4       0    0         0          0      0        0        0     0       0  "
      ]
     },
     "execution_count": 132,
     "metadata": {},
     "output_type": "execute_result"
    }
   ],
   "source": [
    "df.head()"
   ]
  },
  {
   "cell_type": "code",
   "execution_count": 133,
   "id": "057a098b",
   "metadata": {},
   "outputs": [
    {
     "data": {
      "text/plain": [
       "<AxesSubplot:>"
      ]
     },
     "execution_count": 133,
     "metadata": {},
     "output_type": "execute_result"
    },
    {
     "data": {
      "image/png": "[encoded data removed]",
      "text/plain": [
       "<Figure size 1152x720 with 2 Axes>"
      ]
     },
     "metadata": {
      "needs_background": "light"
     },
     "output_type": "display_data"
    }
   ],
   "source": [
    "plt.figure(figsize=(16,10))\n",
    "sns.heatmap(df.corr())"
   ]
  },
  {
   "cell_type": "code",
   "execution_count": 134,
   "id": "cf0a89ef",
   "metadata": {},
   "outputs": [
    {
     "data": {
      "text/plain": [
       "<AxesSubplot:xlabel='Company', ylabel='count'>"
      ]
     },
     "execution_count": 134,
     "metadata": {},
     "output_type": "execute_result"
    },
    {
     "data": {
      "image/png": "[encoded data removed]",
      "text/plain": [
       "<Figure size 1152x720 with 1 Axes>"
      ]
     },
     "metadata": {
      "needs_background": "light"
     },
     "output_type": "display_data"
    }
   ],
   "source": [
    "plt.figure(figsize=(16,10))\n",
    "sns.countplot(data=df, x = 'Company')"
   ]
  },
  {
   "cell_type": "code",
   "execution_count": 135,
   "id": "2b6f5d50",
   "metadata": {},
   "outputs": [
    {
     "data": {
      "text/plain": [
       "<AxesSubplot:xlabel='RamGB', ylabel='Price_euros'>"
      ]
     },
     "execution_count": 135,
     "metadata": {},
     "output_type": "execute_result"
    },
    {
     "data": {
      "image/png": "[encoded data removed]",
      "text/plain": [
       "<Figure size 1152x720 with 1 Axes>"
      ]
     },
     "metadata": {
      "needs_background": "light"
     },
     "output_type": "display_data"
    }
   ],
   "source": [
    "plt.figure(figsize=(16,10))\n",
    "sns.lineplot(data=df, x = 'RamGB', y = 'Price_euros')"
   ]
  },
  {
   "cell_type": "markdown",
   "id": "3c1af2d0",
   "metadata": {},
   "source": [
    "### Model1"
   ]
  },
  {
   "cell_type": "code",
   "execution_count": 136,
   "id": "36046725",
   "metadata": {},
   "outputs": [
    {
     "data": {
      "text/html": [
       "<div>\n",
       "<style scoped>\n",
       "    .dataframe tbody tr th:only-of-type {\n",
       "        vertical-align: middle;\n",
       "    }\n",
       "\n",
       "    .dataframe tbody tr th {\n",
       "        vertical-align: top;\n",
       "    }\n",
       "\n",
       "    .dataframe thead th {\n",
       "        text-align: right;\n",
       "    }\n",
       "</style>\n",
       "<table border=\"1\" class=\"dataframe\">\n",
       "  <thead>\n",
       "    <tr style=\"text-align: right;\">\n",
       "      <th></th>\n",
       "      <th>Company</th>\n",
       "      <th>Product</th>\n",
       "      <th>TypeName</th>\n",
       "      <th>Inches</th>\n",
       "      <th>ScreenResolution</th>\n",
       "      <th>RamGB</th>\n",
       "      <th>OpSys</th>\n",
       "      <th>Weight</th>\n",
       "      <th>Price_euros</th>\n",
       "      <th>Procesor</th>\n",
       "      <th>TaktGHz</th>\n",
       "      <th>Karta Graficzna</th>\n",
       "      <th>Memory</th>\n",
       "      <th>Memory_type</th>\n",
       "      <th>Karta_Graficzna</th>\n",
       "      <th>procesor</th>\n",
       "      <th>memory_type</th>\n",
       "      <th>type_name</th>\n",
       "      <th>Price</th>\n",
       "      <th>Acer</th>\n",
       "      <th>Apple</th>\n",
       "      <th>Asus</th>\n",
       "      <th>Chuwi</th>\n",
       "      <th>Dell</th>\n",
       "      <th>Fujitsu</th>\n",
       "      <th>Google</th>\n",
       "      <th>HP</th>\n",
       "      <th>Huawei</th>\n",
       "      <th>LG</th>\n",
       "      <th>Lenovo</th>\n",
       "      <th>MSI</th>\n",
       "      <th>Mediacom</th>\n",
       "      <th>Microsoft</th>\n",
       "      <th>Razer</th>\n",
       "      <th>Samsung</th>\n",
       "      <th>Toshiba</th>\n",
       "      <th>Vero</th>\n",
       "      <th>Xiaomi</th>\n",
       "    </tr>\n",
       "  </thead>\n",
       "  <tbody>\n",
       "    <tr>\n",
       "      <th>0</th>\n",
       "      <td>Apple</td>\n",
       "      <td>MacBook Pro</td>\n",
       "      <td>Ultrabook</td>\n",
       "      <td>13.3</td>\n",
       "      <td>IPS Panel Retina Display 2560x1600</td>\n",
       "      <td>8</td>\n",
       "      <td>macOS</td>\n",
       "      <td>1.37</td>\n",
       "      <td>1339.69</td>\n",
       "      <td>Intel Core-i5</td>\n",
       "      <td>2.3</td>\n",
       "      <td>Intel Iris</td>\n",
       "      <td>128</td>\n",
       "      <td>SSD</td>\n",
       "      <td>6</td>\n",
       "      <td>6</td>\n",
       "      <td>4</td>\n",
       "      <td>5</td>\n",
       "      <td>7.200194</td>\n",
       "      <td>0</td>\n",
       "      <td>1</td>\n",
       "      <td>0</td>\n",
       "      <td>0</td>\n",
       "      <td>0</td>\n",
       "      <td>0</td>\n",
       "      <td>0</td>\n",
       "      <td>0</td>\n",
       "      <td>0</td>\n",
       "      <td>0</td>\n",
       "      <td>0</td>\n",
       "      <td>0</td>\n",
       "      <td>0</td>\n",
       "      <td>0</td>\n",
       "      <td>0</td>\n",
       "      <td>0</td>\n",
       "      <td>0</td>\n",
       "      <td>0</td>\n",
       "      <td>0</td>\n",
       "    </tr>\n",
       "    <tr>\n",
       "      <th>1</th>\n",
       "      <td>Apple</td>\n",
       "      <td>Macbook Air</td>\n",
       "      <td>Ultrabook</td>\n",
       "      <td>13.3</td>\n",
       "      <td>1440x900</td>\n",
       "      <td>8</td>\n",
       "      <td>macOS</td>\n",
       "      <td>1.34</td>\n",
       "      <td>898.94</td>\n",
       "      <td>Intel Core-i5</td>\n",
       "      <td>1.8</td>\n",
       "      <td>Intel HD</td>\n",
       "      <td>128</td>\n",
       "      <td>Flash_Storage</td>\n",
       "      <td>5</td>\n",
       "      <td>6</td>\n",
       "      <td>1</td>\n",
       "      <td>5</td>\n",
       "      <td>6.801216</td>\n",
       "      <td>0</td>\n",
       "      <td>1</td>\n",
       "      <td>0</td>\n",
       "      <td>0</td>\n",
       "      <td>0</td>\n",
       "      <td>0</td>\n",
       "      <td>0</td>\n",
       "      <td>0</td>\n",
       "      <td>0</td>\n",
       "      <td>0</td>\n",
       "      <td>0</td>\n",
       "      <td>0</td>\n",
       "      <td>0</td>\n",
       "      <td>0</td>\n",
       "      <td>0</td>\n",
       "      <td>0</td>\n",
       "      <td>0</td>\n",
       "      <td>0</td>\n",
       "      <td>0</td>\n",
       "    </tr>\n",
       "    <tr>\n",
       "      <th>2</th>\n",
       "      <td>HP</td>\n",
       "      <td>250 G6</td>\n",
       "      <td>Notebook</td>\n",
       "      <td>15.6</td>\n",
       "      <td>Full HD 1920x1080</td>\n",
       "      <td>8</td>\n",
       "      <td>No OS</td>\n",
       "      <td>1.86</td>\n",
       "      <td>575.00</td>\n",
       "      <td>Intel Core-i5</td>\n",
       "      <td>2.5</td>\n",
       "      <td>Intel HD</td>\n",
       "      <td>256</td>\n",
       "      <td>SSD</td>\n",
       "      <td>5</td>\n",
       "      <td>6</td>\n",
       "      <td>4</td>\n",
       "      <td>4</td>\n",
       "      <td>6.354370</td>\n",
       "      <td>0</td>\n",
       "      <td>0</td>\n",
       "      <td>0</td>\n",
       "      <td>0</td>\n",
       "      <td>0</td>\n",
       "      <td>0</td>\n",
       "      <td>0</td>\n",
       "      <td>1</td>\n",
       "      <td>0</td>\n",
       "      <td>0</td>\n",
       "      <td>0</td>\n",
       "      <td>0</td>\n",
       "      <td>0</td>\n",
       "      <td>0</td>\n",
       "      <td>0</td>\n",
       "      <td>0</td>\n",
       "      <td>0</td>\n",
       "      <td>0</td>\n",
       "      <td>0</td>\n",
       "    </tr>\n",
       "    <tr>\n",
       "      <th>3</th>\n",
       "      <td>Apple</td>\n",
       "      <td>MacBook Pro</td>\n",
       "      <td>Ultrabook</td>\n",
       "      <td>15.4</td>\n",
       "      <td>IPS Panel Retina Display 2880x1800</td>\n",
       "      <td>16</td>\n",
       "      <td>macOS</td>\n",
       "      <td>1.83</td>\n",
       "      <td>2537.45</td>\n",
       "      <td>Intel Core-i7</td>\n",
       "      <td>2.7</td>\n",
       "      <td>AMD Radeon</td>\n",
       "      <td>512</td>\n",
       "      <td>SSD</td>\n",
       "      <td>3</td>\n",
       "      <td>7</td>\n",
       "      <td>4</td>\n",
       "      <td>5</td>\n",
       "      <td>7.838915</td>\n",
       "      <td>0</td>\n",
       "      <td>1</td>\n",
       "      <td>0</td>\n",
       "      <td>0</td>\n",
       "      <td>0</td>\n",
       "      <td>0</td>\n",
       "      <td>0</td>\n",
       "      <td>0</td>\n",
       "      <td>0</td>\n",
       "      <td>0</td>\n",
       "      <td>0</td>\n",
       "      <td>0</td>\n",
       "      <td>0</td>\n",
       "      <td>0</td>\n",
       "      <td>0</td>\n",
       "      <td>0</td>\n",
       "      <td>0</td>\n",
       "      <td>0</td>\n",
       "      <td>0</td>\n",
       "    </tr>\n",
       "    <tr>\n",
       "      <th>4</th>\n",
       "      <td>Apple</td>\n",
       "      <td>MacBook Pro</td>\n",
       "      <td>Ultrabook</td>\n",
       "      <td>13.3</td>\n",
       "      <td>IPS Panel Retina Display 2560x1600</td>\n",
       "      <td>8</td>\n",
       "      <td>macOS</td>\n",
       "      <td>1.37</td>\n",
       "      <td>1803.60</td>\n",
       "      <td>Intel Core-i5</td>\n",
       "      <td>3.1</td>\n",
       "      <td>Intel Iris</td>\n",
       "      <td>256</td>\n",
       "      <td>SSD</td>\n",
       "      <td>6</td>\n",
       "      <td>6</td>\n",
       "      <td>4</td>\n",
       "      <td>5</td>\n",
       "      <td>7.497540</td>\n",
       "      <td>0</td>\n",
       "      <td>1</td>\n",
       "      <td>0</td>\n",
       "      <td>0</td>\n",
       "      <td>0</td>\n",
       "      <td>0</td>\n",
       "      <td>0</td>\n",
       "      <td>0</td>\n",
       "      <td>0</td>\n",
       "      <td>0</td>\n",
       "      <td>0</td>\n",
       "      <td>0</td>\n",
       "      <td>0</td>\n",
       "      <td>0</td>\n",
       "      <td>0</td>\n",
       "      <td>0</td>\n",
       "      <td>0</td>\n",
       "      <td>0</td>\n",
       "      <td>0</td>\n",
       "    </tr>\n",
       "  </tbody>\n",
       "</table>\n",
       "</div>"
      ],
      "text/plain": [
       "  Company      Product   TypeName  Inches                    ScreenResolution  \\\n",
       "0   Apple  MacBook Pro  Ultrabook    13.3  IPS Panel Retina Display 2560x1600   \n",
       "1   Apple  Macbook Air  Ultrabook    13.3                            1440x900   \n",
       "2      HP       250 G6   Notebook    15.6                   Full HD 1920x1080   \n",
       "3   Apple  MacBook Pro  Ultrabook    15.4  IPS Panel Retina Display 2880x1800   \n",
       "4   Apple  MacBook Pro  Ultrabook    13.3  IPS Panel Retina Display 2560x1600   \n",
       "\n",
       "   RamGB  OpSys  Weight  Price_euros       Procesor  TaktGHz Karta Graficzna  \\\n",
       "0      8  macOS    1.37      1339.69  Intel Core-i5      2.3      Intel Iris   \n",
       "1      8  macOS    1.34       898.94  Intel Core-i5      1.8        Intel HD   \n",
       "2      8  No OS    1.86       575.00  Intel Core-i5      2.5        Intel HD   \n",
       "3     16  macOS    1.83      2537.45  Intel Core-i7      2.7      AMD Radeon   \n",
       "4      8  macOS    1.37      1803.60  Intel Core-i5      3.1      Intel Iris   \n",
       "\n",
       "   Memory    Memory_type  Karta_Graficzna  procesor  memory_type  type_name  \\\n",
       "0     128            SSD                6         6            4          5   \n",
       "1     128  Flash_Storage                5         6            1          5   \n",
       "2     256            SSD                5         6            4          4   \n",
       "3     512            SSD                3         7            4          5   \n",
       "4     256            SSD                6         6            4          5   \n",
       "\n",
       "      Price  Acer  Apple  Asus  Chuwi  Dell  Fujitsu  Google  HP  Huawei  LG  \\\n",
       "0  7.200194     0      1     0      0     0        0       0   0       0   0   \n",
       "1  6.801216     0      1     0      0     0        0       0   0       0   0   \n",
       "2  6.354370     0      0     0      0     0        0       0   1       0   0   \n",
       "3  7.838915     0      1     0      0     0        0       0   0       0   0   \n",
       "4  7.497540     0      1     0      0     0        0       0   0       0   0   \n",
       "\n",
       "   Lenovo  MSI  Mediacom  Microsoft  Razer  Samsung  Toshiba  Vero  Xiaomi  \n",
       "0       0    0         0          0      0        0        0     0       0  \n",
       "1       0    0         0          0      0        0        0     0       0  \n",
       "2       0    0         0          0      0        0        0     0       0  \n",
       "3       0    0         0          0      0        0        0     0       0  \n",
       "4       0    0         0          0      0        0        0     0       0  "
      ]
     },
     "execution_count": 136,
     "metadata": {},
     "output_type": "execute_result"
    }
   ],
   "source": [
    "df.head()"
   ]
  },
  {
   "cell_type": "code",
   "execution_count": 137,
   "id": "5067b51d",
   "metadata": {},
   "outputs": [
    {
     "data": {
      "text/plain": [
       "Index(['Company', 'Product', 'TypeName', 'Inches', 'ScreenResolution', 'RamGB',\n",
       "       'OpSys', 'Weight', 'Price_euros', 'Procesor', 'TaktGHz',\n",
       "       'Karta Graficzna', 'Memory', 'Memory_type', 'Karta_Graficzna',\n",
       "       'procesor', 'memory_type', 'type_name', 'Price', 'Acer', 'Apple',\n",
       "       'Asus', 'Chuwi', 'Dell', 'Fujitsu', 'Google', 'HP', 'Huawei', 'LG',\n",
       "       'Lenovo', 'MSI', 'Mediacom', 'Microsoft', 'Razer', 'Samsung', 'Toshiba',\n",
       "       'Vero', 'Xiaomi'],\n",
       "      dtype='object')"
      ]
     },
     "execution_count": 137,
     "metadata": {},
     "output_type": "execute_result"
    }
   ],
   "source": [
    "df.columns"
   ]
  },
  {
   "cell_type": "code",
   "execution_count": 138,
   "id": "c37f2014",
   "metadata": {},
   "outputs": [],
   "source": [
    "X1 = df[['Inches', 'RamGB', 'Weight', 'TaktGHz', 'Memory', 'Karta_Graficzna',\n",
    "       'procesor', 'memory_type', 'type_name', 'Acer', 'Apple',\n",
    "       'Asus', 'Chuwi', 'Dell', 'Fujitsu', 'Google', 'HP', 'Huawei', 'LG',\n",
    "       'Lenovo', 'MSI', 'Mediacom', 'Microsoft', 'Razer', 'Samsung', 'Toshiba',\n",
    "       'Vero', 'Xiaomi']]"
   ]
  },
  {
   "cell_type": "code",
   "execution_count": 139,
   "id": "fab40682",
   "metadata": {},
   "outputs": [],
   "source": [
    "y1 = df['Price_euros']"
   ]
  },
  {
   "cell_type": "code",
   "execution_count": 140,
   "id": "44414f75",
   "metadata": {},
   "outputs": [],
   "source": [
    "X_train1, X_test1, y_train1, y_test1 = train_test_split( X1, y1, test_size=0.2, random_state=123)"
   ]
  },
  {
   "cell_type": "markdown",
   "id": "e8813d07",
   "metadata": {},
   "source": [
    "## Regresja liniowa"
   ]
  },
  {
   "cell_type": "markdown",
   "id": "9050f360",
   "metadata": {},
   "source": [
    "## Model1\n"
   ]
  },
  {
   "cell_type": "code",
   "execution_count": 141,
   "id": "762b1412",
   "metadata": {},
   "outputs": [
    {
     "data": {
      "text/plain": [
       "LinearRegression()"
      ]
     },
     "execution_count": 141,
     "metadata": {},
     "output_type": "execute_result"
    }
   ],
   "source": [
    "model1 = LinearRegression()\n",
    "model1.fit(X_train1, y_train1)"
   ]
  },
  {
   "cell_type": "code",
   "execution_count": 142,
   "id": "52c0bc17",
   "metadata": {},
   "outputs": [],
   "source": [
    "predict1 = model1.predict(X_test1)"
   ]
  },
  {
   "cell_type": "code",
   "execution_count": 143,
   "id": "d92f4fbe",
   "metadata": {},
   "outputs": [
    {
     "data": {
      "text/plain": [
       "0.7645194255346064"
      ]
     },
     "execution_count": 143,
     "metadata": {},
     "output_type": "execute_result"
    }
   ],
   "source": [
    "r2_score(y_test1, predict1)"
   ]
  },
  {
   "cell_type": "code",
   "execution_count": 144,
   "id": "20eace74",
   "metadata": {},
   "outputs": [
    {
     "data": {
      "text/plain": [
       "array([-1.28529918e+02,  7.14002636e+01,  2.11145160e+02,  1.51629064e+02,\n",
       "       -1.58955289e-03,  3.19883279e+01,  9.42374111e+01,  1.01519057e+02,\n",
       "        2.86207572e+01, -3.52884370e+02,  2.50098862e+02, -1.36600148e+02,\n",
       "       -5.55711764e+01, -1.56847017e+02, -4.35619662e+02,  1.20449147e+02,\n",
       "       -4.51195040e+01, -6.50855965e+01,  7.57255985e+02, -1.66074705e+02,\n",
       "        5.29763067e+01, -2.83454495e+02, -4.81950148e+01,  1.42858850e+03,\n",
       "       -8.95560510e+01, -1.22174685e+02, -8.20298902e+01, -5.70156488e+02])"
      ]
     },
     "execution_count": 144,
     "metadata": {},
     "output_type": "execute_result"
    }
   ],
   "source": [
    "model1.coef_"
   ]
  },
  {
   "cell_type": "code",
   "execution_count": 145,
   "id": "e26fcf91",
   "metadata": {},
   "outputs": [
    {
     "data": {
      "text/html": [
       "<div>\n",
       "<style scoped>\n",
       "    .dataframe tbody tr th:only-of-type {\n",
       "        vertical-align: middle;\n",
       "    }\n",
       "\n",
       "    .dataframe tbody tr th {\n",
       "        vertical-align: top;\n",
       "    }\n",
       "\n",
       "    .dataframe thead th {\n",
       "        text-align: right;\n",
       "    }\n",
       "</style>\n",
       "<table border=\"1\" class=\"dataframe\">\n",
       "  <thead>\n",
       "    <tr style=\"text-align: right;\">\n",
       "      <th></th>\n",
       "      <th>Coeffecient</th>\n",
       "    </tr>\n",
       "  </thead>\n",
       "  <tbody>\n",
       "    <tr>\n",
       "      <th>Inches</th>\n",
       "      <td>-128.529918</td>\n",
       "    </tr>\n",
       "    <tr>\n",
       "      <th>RamGB</th>\n",
       "      <td>71.400264</td>\n",
       "    </tr>\n",
       "    <tr>\n",
       "      <th>Weight</th>\n",
       "      <td>211.145160</td>\n",
       "    </tr>\n",
       "    <tr>\n",
       "      <th>TaktGHz</th>\n",
       "      <td>151.629064</td>\n",
       "    </tr>\n",
       "    <tr>\n",
       "      <th>Memory</th>\n",
       "      <td>-0.001590</td>\n",
       "    </tr>\n",
       "    <tr>\n",
       "      <th>Karta_Graficzna</th>\n",
       "      <td>31.988328</td>\n",
       "    </tr>\n",
       "    <tr>\n",
       "      <th>procesor</th>\n",
       "      <td>94.237411</td>\n",
       "    </tr>\n",
       "    <tr>\n",
       "      <th>memory_type</th>\n",
       "      <td>101.519057</td>\n",
       "    </tr>\n",
       "    <tr>\n",
       "      <th>type_name</th>\n",
       "      <td>28.620757</td>\n",
       "    </tr>\n",
       "    <tr>\n",
       "      <th>Acer</th>\n",
       "      <td>-352.884370</td>\n",
       "    </tr>\n",
       "    <tr>\n",
       "      <th>Apple</th>\n",
       "      <td>250.098862</td>\n",
       "    </tr>\n",
       "    <tr>\n",
       "      <th>Asus</th>\n",
       "      <td>-136.600148</td>\n",
       "    </tr>\n",
       "    <tr>\n",
       "      <th>Chuwi</th>\n",
       "      <td>-55.571176</td>\n",
       "    </tr>\n",
       "    <tr>\n",
       "      <th>Dell</th>\n",
       "      <td>-156.847017</td>\n",
       "    </tr>\n",
       "    <tr>\n",
       "      <th>Fujitsu</th>\n",
       "      <td>-435.619662</td>\n",
       "    </tr>\n",
       "    <tr>\n",
       "      <th>Google</th>\n",
       "      <td>120.449147</td>\n",
       "    </tr>\n",
       "    <tr>\n",
       "      <th>HP</th>\n",
       "      <td>-45.119504</td>\n",
       "    </tr>\n",
       "    <tr>\n",
       "      <th>Huawei</th>\n",
       "      <td>-65.085597</td>\n",
       "    </tr>\n",
       "    <tr>\n",
       "      <th>LG</th>\n",
       "      <td>757.255985</td>\n",
       "    </tr>\n",
       "    <tr>\n",
       "      <th>Lenovo</th>\n",
       "      <td>-166.074705</td>\n",
       "    </tr>\n",
       "    <tr>\n",
       "      <th>MSI</th>\n",
       "      <td>52.976307</td>\n",
       "    </tr>\n",
       "    <tr>\n",
       "      <th>Mediacom</th>\n",
       "      <td>-283.454495</td>\n",
       "    </tr>\n",
       "    <tr>\n",
       "      <th>Microsoft</th>\n",
       "      <td>-48.195015</td>\n",
       "    </tr>\n",
       "    <tr>\n",
       "      <th>Razer</th>\n",
       "      <td>1428.588502</td>\n",
       "    </tr>\n",
       "    <tr>\n",
       "      <th>Samsung</th>\n",
       "      <td>-89.556051</td>\n",
       "    </tr>\n",
       "    <tr>\n",
       "      <th>Toshiba</th>\n",
       "      <td>-122.174685</td>\n",
       "    </tr>\n",
       "    <tr>\n",
       "      <th>Vero</th>\n",
       "      <td>-82.029890</td>\n",
       "    </tr>\n",
       "    <tr>\n",
       "      <th>Xiaomi</th>\n",
       "      <td>-570.156488</td>\n",
       "    </tr>\n",
       "  </tbody>\n",
       "</table>\n",
       "</div>"
      ],
      "text/plain": [
       "                 Coeffecient\n",
       "Inches           -128.529918\n",
       "RamGB              71.400264\n",
       "Weight            211.145160\n",
       "TaktGHz           151.629064\n",
       "Memory             -0.001590\n",
       "Karta_Graficzna    31.988328\n",
       "procesor           94.237411\n",
       "memory_type       101.519057\n",
       "type_name          28.620757\n",
       "Acer             -352.884370\n",
       "Apple             250.098862\n",
       "Asus             -136.600148\n",
       "Chuwi             -55.571176\n",
       "Dell             -156.847017\n",
       "Fujitsu          -435.619662\n",
       "Google            120.449147\n",
       "HP                -45.119504\n",
       "Huawei            -65.085597\n",
       "LG                757.255985\n",
       "Lenovo           -166.074705\n",
       "MSI                52.976307\n",
       "Mediacom         -283.454495\n",
       "Microsoft         -48.195015\n",
       "Razer            1428.588502\n",
       "Samsung           -89.556051\n",
       "Toshiba          -122.174685\n",
       "Vero              -82.029890\n",
       "Xiaomi           -570.156488"
      ]
     },
     "execution_count": 145,
     "metadata": {},
     "output_type": "execute_result"
    }
   ],
   "source": [
    "cdf = pd.DataFrame(model1.coef_, X1.columns, columns=['Coeffecient'])\n",
    "cdf"
   ]
  },
  {
   "cell_type": "code",
   "execution_count": 146,
   "id": "c2d63754",
   "metadata": {},
   "outputs": [
    {
     "data": {
      "text/plain": [
       "651.7800034414245"
      ]
     },
     "execution_count": 146,
     "metadata": {},
     "output_type": "execute_result"
    }
   ],
   "source": [
    "model1.intercept_"
   ]
  },
  {
   "cell_type": "code",
   "execution_count": 147,
   "id": "ee1a3091",
   "metadata": {},
   "outputs": [
    {
     "data": {
      "text/html": [
       "<div>\n",
       "<style scoped>\n",
       "    .dataframe tbody tr th:only-of-type {\n",
       "        vertical-align: middle;\n",
       "    }\n",
       "\n",
       "    .dataframe tbody tr th {\n",
       "        vertical-align: top;\n",
       "    }\n",
       "\n",
       "    .dataframe thead th {\n",
       "        text-align: right;\n",
       "    }\n",
       "</style>\n",
       "<table border=\"1\" class=\"dataframe\">\n",
       "  <thead>\n",
       "    <tr style=\"text-align: right;\">\n",
       "      <th></th>\n",
       "      <th>price</th>\n",
       "      <th>Predict_price</th>\n",
       "      <th>Error</th>\n",
       "    </tr>\n",
       "  </thead>\n",
       "  <tbody>\n",
       "    <tr>\n",
       "      <th>0</th>\n",
       "      <td>1339.69</td>\n",
       "      <td>1379.047496</td>\n",
       "      <td>-39.357496</td>\n",
       "    </tr>\n",
       "    <tr>\n",
       "      <th>1</th>\n",
       "      <td>898.94</td>\n",
       "      <td>29.023075</td>\n",
       "      <td>869.916925</td>\n",
       "    </tr>\n",
       "    <tr>\n",
       "      <th>2</th>\n",
       "      <td>575.00</td>\n",
       "      <td>460.323802</td>\n",
       "      <td>114.676198</td>\n",
       "    </tr>\n",
       "    <tr>\n",
       "      <th>3</th>\n",
       "      <td>2537.45</td>\n",
       "      <td>1273.450735</td>\n",
       "      <td>1263.999265</td>\n",
       "    </tr>\n",
       "    <tr>\n",
       "      <th>4</th>\n",
       "      <td>1803.60</td>\n",
       "      <td>1271.465966</td>\n",
       "      <td>532.134034</td>\n",
       "    </tr>\n",
       "  </tbody>\n",
       "</table>\n",
       "</div>"
      ],
      "text/plain": [
       "     price  Predict_price        Error\n",
       "0  1339.69    1379.047496   -39.357496\n",
       "1   898.94      29.023075   869.916925\n",
       "2   575.00     460.323802   114.676198\n",
       "3  2537.45    1273.450735  1263.999265\n",
       "4  1803.60    1271.465966   532.134034"
      ]
     },
     "execution_count": 147,
     "metadata": {},
     "output_type": "execute_result"
    }
   ],
   "source": [
    "price_model1 = df['Price_euros']\n",
    "predict_price_model1 = pd.Series(predict1)\n",
    "error_model1 = price_model1 - predict_price_model1\n",
    "data_pedict_model1 = pd.DataFrame({'price':price_model1,\n",
    "                                  'Predict_price' : predict_price_model1,\n",
    "                                  'Error' : error_model1})\n",
    "data_pedict_model1.head()"
   ]
  },
  {
   "cell_type": "code",
   "execution_count": 148,
   "id": "c9a655d6",
   "metadata": {},
   "outputs": [
    {
     "data": {
      "text/plain": [
       "[<matplotlib.lines.Line2D at 0x276245a32e0>]"
      ]
     },
     "execution_count": 148,
     "metadata": {},
     "output_type": "execute_result"
    },
    {
     "data": {
      "image/png": "[encoded data removed]",
      "text/plain": [
       "<Figure size 1008x576 with 1 Axes>"
      ]
     },
     "metadata": {
      "needs_background": "light"
     },
     "output_type": "display_data"
    }
   ],
   "source": [
    "plt.figure(figsize=(14,8))\n",
    "plt.scatter(y_test1, predict1)\n",
    "plt.plot(y_test1, y_test1, color = 'red')"
   ]
  },
  {
   "cell_type": "markdown",
   "id": "8c606a76",
   "metadata": {},
   "source": [
    "##  Bias, wariancja"
   ]
  },
  {
   "cell_type": "code",
   "execution_count": 149,
   "id": "ad77fc17",
   "metadata": {},
   "outputs": [],
   "source": [
    "import mlxtend"
   ]
  },
  {
   "cell_type": "code",
   "execution_count": 150,
   "id": "fba04099",
   "metadata": {},
   "outputs": [],
   "source": [
    "from mlxtend.evaluate import bias_variance_decomp"
   ]
  },
  {
   "cell_type": "code",
   "execution_count": 151,
   "id": "d67f1554",
   "metadata": {},
   "outputs": [],
   "source": [
    "mse1, bias1, variance1= bias_variance_decomp(model1, X_train1.values, y_train1.values, X_test1.values, y_test1.values, loss='mse', random_seed=123, num_rounds=200)"
   ]
  },
  {
   "cell_type": "code",
   "execution_count": 152,
   "id": "560c04d9",
   "metadata": {},
   "outputs": [
    {
     "data": {
      "text/plain": [
       "168084.99353833022"
      ]
     },
     "execution_count": 152,
     "metadata": {},
     "output_type": "execute_result"
    }
   ],
   "source": [
    "mse1"
   ]
  },
  {
   "cell_type": "code",
   "execution_count": 153,
   "id": "b562dbbe",
   "metadata": {},
   "outputs": [
    {
     "data": {
      "text/plain": [
       "152590.69070836273"
      ]
     },
     "execution_count": 153,
     "metadata": {},
     "output_type": "execute_result"
    }
   ],
   "source": [
    "bias1"
   ]
  },
  {
   "cell_type": "code",
   "execution_count": 155,
   "id": "3020ebf9",
   "metadata": {},
   "outputs": [
    {
     "data": {
      "text/plain": [
       "15494.302829967417"
      ]
     },
     "execution_count": 155,
     "metadata": {},
     "output_type": "execute_result"
    }
   ],
   "source": [
    "variance1"
   ]
  },
  {
   "cell_type": "markdown",
   "id": "f7004a48",
   "metadata": {},
   "source": [
    "## MAE"
   ]
  },
  {
   "cell_type": "code",
   "execution_count": 183,
   "id": "b78a87d9",
   "metadata": {},
   "outputs": [],
   "source": [
    "from sklearn.metrics import mean_absolute_error"
   ]
  },
  {
   "cell_type": "code",
   "execution_count": 185,
   "id": "82dd9e76",
   "metadata": {},
   "outputs": [
    {
     "data": {
      "text/plain": [
       "271.372403497757"
      ]
     },
     "execution_count": 185,
     "metadata": {},
     "output_type": "execute_result"
    }
   ],
   "source": [
    "mean_absolute_error(y_test1, predict1)"
   ]
  },
  {
   "cell_type": "markdown",
   "id": "e618b21a",
   "metadata": {},
   "source": [
    "## MSE"
   ]
  },
  {
   "cell_type": "code",
   "execution_count": 186,
   "id": "53268ad8",
   "metadata": {},
   "outputs": [],
   "source": [
    "from sklearn.metrics import mean_squared_error"
   ]
  },
  {
   "cell_type": "code",
   "execution_count": 187,
   "id": "8f400d7d",
   "metadata": {},
   "outputs": [
    {
     "data": {
      "text/plain": [
       "157494.37678771565"
      ]
     },
     "execution_count": 187,
     "metadata": {},
     "output_type": "execute_result"
    }
   ],
   "source": [
    "mean_squared_error(y_test1, predict1)"
   ]
  },
  {
   "cell_type": "markdown",
   "id": "ea7edb81",
   "metadata": {},
   "source": [
    "## RMSE"
   ]
  },
  {
   "cell_type": "code",
   "execution_count": 188,
   "id": "afdae609",
   "metadata": {},
   "outputs": [
    {
     "data": {
      "text/plain": [
       "396.85561201489344"
      ]
     },
     "execution_count": 188,
     "metadata": {},
     "output_type": "execute_result"
    }
   ],
   "source": [
    "mean_squared_error(y_test1, predict1, squared=False)"
   ]
  },
  {
   "cell_type": "markdown",
   "id": "fbb0ba48",
   "metadata": {},
   "source": [
    "## Model2 Price"
   ]
  },
  {
   "cell_type": "code",
   "execution_count": 156,
   "id": "cb8b8e23",
   "metadata": {},
   "outputs": [],
   "source": [
    "X2 = df[['Inches', 'RamGB', 'Weight', 'TaktGHz', 'Memory', 'Karta_Graficzna',\n",
    "       'procesor', 'memory_type', 'type_name', 'Acer', 'Apple',\n",
    "       'Asus', 'Chuwi', 'Dell', 'Fujitsu', 'Google', 'HP', 'Huawei', 'LG',\n",
    "       'Lenovo', 'MSI', 'Mediacom', 'Microsoft', 'Razer', 'Samsung', 'Toshiba',\n",
    "       'Vero', 'Xiaomi']]"
   ]
  },
  {
   "cell_type": "code",
   "execution_count": 157,
   "id": "ebc42af7",
   "metadata": {},
   "outputs": [],
   "source": [
    "y2 = df['Price']"
   ]
  },
  {
   "cell_type": "code",
   "execution_count": 158,
   "id": "677d2c93",
   "metadata": {},
   "outputs": [],
   "source": [
    "X_train2, X_test2, y_train2, y_test2 = train_test_split( X2, y2, test_size=0.2, random_state=123)"
   ]
  },
  {
   "cell_type": "markdown",
   "id": "31481142",
   "metadata": {},
   "source": [
    "## Regresja liniowa"
   ]
  },
  {
   "cell_type": "code",
   "execution_count": 159,
   "id": "c9862324",
   "metadata": {},
   "outputs": [
    {
     "data": {
      "text/plain": [
       "LinearRegression()"
      ]
     },
     "execution_count": 159,
     "metadata": {},
     "output_type": "execute_result"
    }
   ],
   "source": [
    "model2 = LinearRegression()\n",
    "model2.fit(X_train2, y_train2)"
   ]
  },
  {
   "cell_type": "code",
   "execution_count": 160,
   "id": "419d4ecb",
   "metadata": {},
   "outputs": [],
   "source": [
    "predict2 = model2.predict(X_test2)"
   ]
  },
  {
   "cell_type": "code",
   "execution_count": 161,
   "id": "57afd13c",
   "metadata": {},
   "outputs": [
    {
     "data": {
      "text/plain": [
       "0.8020874373399288"
      ]
     },
     "execution_count": 161,
     "metadata": {},
     "output_type": "execute_result"
    }
   ],
   "source": [
    "r2_score(y_test2, predict2)"
   ]
  },
  {
   "cell_type": "code",
   "execution_count": 162,
   "id": "6030afed",
   "metadata": {},
   "outputs": [
    {
     "data": {
      "text/plain": [
       "array([-9.62375215e-02,  4.94255737e-02,  9.41387536e-02,  1.99888538e-01,\n",
       "        8.74995998e-05,  3.23353186e-02,  1.46961348e-01,  1.30681562e-01,\n",
       "        2.97638096e-04, -2.54390467e-01,  5.27130756e-01, -2.15865745e-02,\n",
       "       -2.77574447e-01, -4.53434300e-03, -2.34713318e-01,  3.25517916e-01,\n",
       "        5.80924521e-02,  8.46678609e-02,  5.54055376e-01, -8.24262948e-02,\n",
       "        1.12872269e-01, -4.93760751e-01,  1.59775022e-01,  1.60960433e-01,\n",
       "       -6.39777629e-03,  5.42442933e-02, -3.98183486e-01, -2.63748922e-01])"
      ]
     },
     "execution_count": 162,
     "metadata": {},
     "output_type": "execute_result"
    }
   ],
   "source": [
    "model2.coef_"
   ]
  },
  {
   "cell_type": "code",
   "execution_count": 163,
   "id": "714a1374",
   "metadata": {},
   "outputs": [
    {
     "data": {
      "text/html": [
       "<div>\n",
       "<style scoped>\n",
       "    .dataframe tbody tr th:only-of-type {\n",
       "        vertical-align: middle;\n",
       "    }\n",
       "\n",
       "    .dataframe tbody tr th {\n",
       "        vertical-align: top;\n",
       "    }\n",
       "\n",
       "    .dataframe thead th {\n",
       "        text-align: right;\n",
       "    }\n",
       "</style>\n",
       "<table border=\"1\" class=\"dataframe\">\n",
       "  <thead>\n",
       "    <tr style=\"text-align: right;\">\n",
       "      <th></th>\n",
       "      <th>Coeffecient</th>\n",
       "    </tr>\n",
       "  </thead>\n",
       "  <tbody>\n",
       "    <tr>\n",
       "      <th>Inches</th>\n",
       "      <td>-0.096238</td>\n",
       "    </tr>\n",
       "    <tr>\n",
       "      <th>RamGB</th>\n",
       "      <td>0.049426</td>\n",
       "    </tr>\n",
       "    <tr>\n",
       "      <th>Weight</th>\n",
       "      <td>0.094139</td>\n",
       "    </tr>\n",
       "    <tr>\n",
       "      <th>TaktGHz</th>\n",
       "      <td>0.199889</td>\n",
       "    </tr>\n",
       "    <tr>\n",
       "      <th>Memory</th>\n",
       "      <td>0.000087</td>\n",
       "    </tr>\n",
       "    <tr>\n",
       "      <th>Karta_Graficzna</th>\n",
       "      <td>0.032335</td>\n",
       "    </tr>\n",
       "    <tr>\n",
       "      <th>procesor</th>\n",
       "      <td>0.146961</td>\n",
       "    </tr>\n",
       "    <tr>\n",
       "      <th>memory_type</th>\n",
       "      <td>0.130682</td>\n",
       "    </tr>\n",
       "    <tr>\n",
       "      <th>type_name</th>\n",
       "      <td>0.000298</td>\n",
       "    </tr>\n",
       "    <tr>\n",
       "      <th>Acer</th>\n",
       "      <td>-0.254390</td>\n",
       "    </tr>\n",
       "    <tr>\n",
       "      <th>Apple</th>\n",
       "      <td>0.527131</td>\n",
       "    </tr>\n",
       "    <tr>\n",
       "      <th>Asus</th>\n",
       "      <td>-0.021587</td>\n",
       "    </tr>\n",
       "    <tr>\n",
       "      <th>Chuwi</th>\n",
       "      <td>-0.277574</td>\n",
       "    </tr>\n",
       "    <tr>\n",
       "      <th>Dell</th>\n",
       "      <td>-0.004534</td>\n",
       "    </tr>\n",
       "    <tr>\n",
       "      <th>Fujitsu</th>\n",
       "      <td>-0.234713</td>\n",
       "    </tr>\n",
       "    <tr>\n",
       "      <th>Google</th>\n",
       "      <td>0.325518</td>\n",
       "    </tr>\n",
       "    <tr>\n",
       "      <th>HP</th>\n",
       "      <td>0.058092</td>\n",
       "    </tr>\n",
       "    <tr>\n",
       "      <th>Huawei</th>\n",
       "      <td>0.084668</td>\n",
       "    </tr>\n",
       "    <tr>\n",
       "      <th>LG</th>\n",
       "      <td>0.554055</td>\n",
       "    </tr>\n",
       "    <tr>\n",
       "      <th>Lenovo</th>\n",
       "      <td>-0.082426</td>\n",
       "    </tr>\n",
       "    <tr>\n",
       "      <th>MSI</th>\n",
       "      <td>0.112872</td>\n",
       "    </tr>\n",
       "    <tr>\n",
       "      <th>Mediacom</th>\n",
       "      <td>-0.493761</td>\n",
       "    </tr>\n",
       "    <tr>\n",
       "      <th>Microsoft</th>\n",
       "      <td>0.159775</td>\n",
       "    </tr>\n",
       "    <tr>\n",
       "      <th>Razer</th>\n",
       "      <td>0.160960</td>\n",
       "    </tr>\n",
       "    <tr>\n",
       "      <th>Samsung</th>\n",
       "      <td>-0.006398</td>\n",
       "    </tr>\n",
       "    <tr>\n",
       "      <th>Toshiba</th>\n",
       "      <td>0.054244</td>\n",
       "    </tr>\n",
       "    <tr>\n",
       "      <th>Vero</th>\n",
       "      <td>-0.398183</td>\n",
       "    </tr>\n",
       "    <tr>\n",
       "      <th>Xiaomi</th>\n",
       "      <td>-0.263749</td>\n",
       "    </tr>\n",
       "  </tbody>\n",
       "</table>\n",
       "</div>"
      ],
      "text/plain": [
       "                 Coeffecient\n",
       "Inches             -0.096238\n",
       "RamGB               0.049426\n",
       "Weight              0.094139\n",
       "TaktGHz             0.199889\n",
       "Memory              0.000087\n",
       "Karta_Graficzna     0.032335\n",
       "procesor            0.146961\n",
       "memory_type         0.130682\n",
       "type_name           0.000298\n",
       "Acer               -0.254390\n",
       "Apple               0.527131\n",
       "Asus               -0.021587\n",
       "Chuwi              -0.277574\n",
       "Dell               -0.004534\n",
       "Fujitsu            -0.234713\n",
       "Google              0.325518\n",
       "HP                  0.058092\n",
       "Huawei              0.084668\n",
       "LG                  0.554055\n",
       "Lenovo             -0.082426\n",
       "MSI                 0.112872\n",
       "Mediacom           -0.493761\n",
       "Microsoft           0.159775\n",
       "Razer               0.160960\n",
       "Samsung            -0.006398\n",
       "Toshiba             0.054244\n",
       "Vero               -0.398183\n",
       "Xiaomi             -0.263749"
      ]
     },
     "execution_count": 163,
     "metadata": {},
     "output_type": "execute_result"
    }
   ],
   "source": [
    "cdf2 = pd.DataFrame(model2.coef_, X2.columns, columns=['Coeffecient'])\n",
    "cdf2"
   ]
  },
  {
   "cell_type": "code",
   "execution_count": 164,
   "id": "515507c6",
   "metadata": {},
   "outputs": [
    {
     "data": {
      "text/plain": [
       "5.737555976064414"
      ]
     },
     "execution_count": 164,
     "metadata": {},
     "output_type": "execute_result"
    }
   ],
   "source": [
    "model2.intercept_"
   ]
  },
  {
   "cell_type": "code",
   "execution_count": 165,
   "id": "4031e338",
   "metadata": {},
   "outputs": [
    {
     "data": {
      "text/html": [
       "<div>\n",
       "<style scoped>\n",
       "    .dataframe tbody tr th:only-of-type {\n",
       "        vertical-align: middle;\n",
       "    }\n",
       "\n",
       "    .dataframe tbody tr th {\n",
       "        vertical-align: top;\n",
       "    }\n",
       "\n",
       "    .dataframe thead th {\n",
       "        text-align: right;\n",
       "    }\n",
       "</style>\n",
       "<table border=\"1\" class=\"dataframe\">\n",
       "  <thead>\n",
       "    <tr style=\"text-align: right;\">\n",
       "      <th></th>\n",
       "      <th>price</th>\n",
       "      <th>Predict_price</th>\n",
       "      <th>Error</th>\n",
       "    </tr>\n",
       "  </thead>\n",
       "  <tbody>\n",
       "    <tr>\n",
       "      <th>0</th>\n",
       "      <td>7.200194</td>\n",
       "      <td>7.119975</td>\n",
       "      <td>0.080218</td>\n",
       "    </tr>\n",
       "    <tr>\n",
       "      <th>1</th>\n",
       "      <td>6.801216</td>\n",
       "      <td>5.595219</td>\n",
       "      <td>1.205997</td>\n",
       "    </tr>\n",
       "    <tr>\n",
       "      <th>2</th>\n",
       "      <td>6.354370</td>\n",
       "      <td>6.041703</td>\n",
       "      <td>0.312667</td>\n",
       "    </tr>\n",
       "    <tr>\n",
       "      <th>3</th>\n",
       "      <td>7.838915</td>\n",
       "      <td>7.108705</td>\n",
       "      <td>0.730210</td>\n",
       "    </tr>\n",
       "    <tr>\n",
       "      <th>4</th>\n",
       "      <td>7.497540</td>\n",
       "      <td>7.022181</td>\n",
       "      <td>0.475359</td>\n",
       "    </tr>\n",
       "  </tbody>\n",
       "</table>\n",
       "</div>"
      ],
      "text/plain": [
       "      price  Predict_price     Error\n",
       "0  7.200194       7.119975  0.080218\n",
       "1  6.801216       5.595219  1.205997\n",
       "2  6.354370       6.041703  0.312667\n",
       "3  7.838915       7.108705  0.730210\n",
       "4  7.497540       7.022181  0.475359"
      ]
     },
     "execution_count": 165,
     "metadata": {},
     "output_type": "execute_result"
    }
   ],
   "source": [
    "price_model2 = df['Price']\n",
    "predict_price_model2 = pd.Series(predict2)\n",
    "error_model2 = price_model2 - predict_price_model2\n",
    "data_pedict_model2 = pd.DataFrame({'price':price_model2,\n",
    "                                  'Predict_price' : predict_price_model2,\n",
    "                                  'Error' : error_model2})\n",
    "data_pedict_model2.head()"
   ]
  },
  {
   "cell_type": "code",
   "execution_count": 166,
   "id": "a5bbf76d",
   "metadata": {},
   "outputs": [
    {
     "data": {
      "text/plain": [
       "[<matplotlib.lines.Line2D at 0x276246156d0>]"
      ]
     },
     "execution_count": 166,
     "metadata": {},
     "output_type": "execute_result"
    },
    {
     "data": {
      "image/png": "[encoded data removed]",
      "text/plain": [
       "<Figure size 1008x576 with 1 Axes>"
      ]
     },
     "metadata": {
      "needs_background": "light"
     },
     "output_type": "display_data"
    }
   ],
   "source": [
    "plt.figure(figsize=(14,8))\n",
    "plt.scatter(y_test2, predict2)\n",
    "plt.plot(y_test2, y_test2, color = 'red')"
   ]
  },
  {
   "cell_type": "markdown",
   "id": "a6c13ea4",
   "metadata": {},
   "source": [
    "## Bias, wariancja"
   ]
  },
  {
   "cell_type": "code",
   "execution_count": 167,
   "id": "6cc9abed",
   "metadata": {},
   "outputs": [],
   "source": [
    "mse2, bias2, variance2= bias_variance_decomp(model2, X_train2.values, y_train2.values, X_test2.values, y_test2.values, loss='mse', random_seed=123, num_rounds=200)"
   ]
  },
  {
   "cell_type": "code",
   "execution_count": 168,
   "id": "0cea422f",
   "metadata": {},
   "outputs": [
    {
     "data": {
      "text/plain": [
       "0.08984706470251318"
      ]
     },
     "execution_count": 168,
     "metadata": {},
     "output_type": "execute_result"
    }
   ],
   "source": [
    "mse2"
   ]
  },
  {
   "cell_type": "code",
   "execution_count": 169,
   "id": "547d03fc",
   "metadata": {},
   "outputs": [
    {
     "data": {
      "text/plain": [
       "0.0870730942403234"
      ]
     },
     "execution_count": 169,
     "metadata": {},
     "output_type": "execute_result"
    }
   ],
   "source": [
    "bias2"
   ]
  },
  {
   "cell_type": "code",
   "execution_count": 170,
   "id": "bdcb3adb",
   "metadata": {},
   "outputs": [
    {
     "data": {
      "text/plain": [
       "0.002773970462189965"
      ]
     },
     "execution_count": 170,
     "metadata": {},
     "output_type": "execute_result"
    }
   ],
   "source": [
    "variance2"
   ]
  },
  {
   "cell_type": "markdown",
   "id": "4ec1cc19",
   "metadata": {},
   "source": [
    "## MAE"
   ]
  },
  {
   "cell_type": "code",
   "execution_count": 189,
   "id": "23f88a56",
   "metadata": {},
   "outputs": [
    {
     "data": {
      "text/plain": [
       "0.2261006833806362"
      ]
     },
     "execution_count": 189,
     "metadata": {},
     "output_type": "execute_result"
    }
   ],
   "source": [
    "mean_absolute_error(y_test2, predict2)"
   ]
  },
  {
   "cell_type": "markdown",
   "id": "ae24c010",
   "metadata": {},
   "source": [
    "## MSE"
   ]
  },
  {
   "cell_type": "code",
   "execution_count": 190,
   "id": "f71af528",
   "metadata": {},
   "outputs": [
    {
     "data": {
      "text/plain": [
       "0.08729417211344304"
      ]
     },
     "execution_count": 190,
     "metadata": {},
     "output_type": "execute_result"
    }
   ],
   "source": [
    "mean_squared_error(y_test2, predict2)"
   ]
  },
  {
   "cell_type": "markdown",
   "id": "6fbebdc6",
   "metadata": {},
   "source": [
    "## RMSE"
   ]
  },
  {
   "cell_type": "code",
   "execution_count": 191,
   "id": "14c6d55c",
   "metadata": {},
   "outputs": [
    {
     "data": {
      "text/plain": [
       "0.29545587168550747"
      ]
     },
     "execution_count": 191,
     "metadata": {},
     "output_type": "execute_result"
    }
   ],
   "source": [
    "mean_squared_error(y_test2, predict2, squared= False)"
   ]
  },
  {
   "cell_type": "markdown",
   "id": "f59c2c1d",
   "metadata": {},
   "source": [
    "## Regresja wielomianowa"
   ]
  },
  {
   "cell_type": "markdown",
   "id": "d58f73fe",
   "metadata": {},
   "source": [
    "## Model1"
   ]
  },
  {
   "cell_type": "code",
   "execution_count": 171,
   "id": "102cdd88",
   "metadata": {},
   "outputs": [],
   "source": [
    "poly1 = PolynomialFeatures(degree=4)"
   ]
  },
  {
   "cell_type": "code",
   "execution_count": 172,
   "id": "f25017fc",
   "metadata": {},
   "outputs": [],
   "source": [
    "X_train_poly1 = poly1.fit_transform(X_train1)"
   ]
  },
  {
   "cell_type": "code",
   "execution_count": 173,
   "id": "5943243b",
   "metadata": {},
   "outputs": [],
   "source": [
    "X_test_poly1 = poly1.transform(X_test1)"
   ]
  },
  {
   "cell_type": "code",
   "execution_count": 174,
   "id": "3060945b",
   "metadata": {},
   "outputs": [
    {
     "data": {
      "text/plain": [
       "LinearRegression()"
      ]
     },
     "execution_count": 174,
     "metadata": {},
     "output_type": "execute_result"
    }
   ],
   "source": [
    "poly_model1 = LinearRegression()\n",
    "poly_model1.fit(X_train_poly1, y_train1)"
   ]
  },
  {
   "cell_type": "code",
   "execution_count": 175,
   "id": "201f97e7",
   "metadata": {},
   "outputs": [],
   "source": [
    "poly_predict1 = poly_model1.predict(X_test_poly1)"
   ]
  },
  {
   "cell_type": "code",
   "execution_count": 176,
   "id": "5b8669f9",
   "metadata": {},
   "outputs": [
    {
     "data": {
      "text/plain": [
       "-42718212.1316264"
      ]
     },
     "execution_count": 176,
     "metadata": {},
     "output_type": "execute_result"
    }
   ],
   "source": [
    "r2_score(y_test1, poly_predict1)"
   ]
  },
  {
   "cell_type": "code",
   "execution_count": 195,
   "id": "2649f1e3",
   "metadata": {},
   "outputs": [
    {
     "data": {
      "text/plain": [
       "array([ 1.15109553e+04,  1.13801677e+05,  2.26582775e+04,  2.50053798e+03,\n",
       "        6.23063345e+03,  1.18846447e+03,  1.72355667e+03, -4.10575540e+03,\n",
       "        1.46052439e+03,  1.18088617e+04, -3.63680080e+04,  1.15109553e+04,\n",
       "        4.48665927e+02,  1.11032301e+03,  1.53617294e+03,  6.06804806e+05,\n",
       "       -5.27083752e+04,  1.97992681e+04, -3.70488178e+05, -4.42299882e+03,\n",
       "        6.26233230e+02,  7.11781168e+02,  9.17699973e+02, -5.36191443e+02,\n",
       "       -1.09027614e+04,  6.66136042e+03,  9.11317918e+03,  1.85073318e+03,\n",
       "       -1.42523688e+03, -6.20814621e+05,  6.21230178e+05,  4.39723723e+03,\n",
       "       -9.60130888e+03,  2.55889447e+04,  6.20127458e+02,  2.95820237e+04,\n",
       "       -4.43145820e+03,  3.07086683e+02,  1.48976153e+05,  2.36569247e+04,\n",
       "       -2.55303245e+03, -2.47961267e+05,  5.01593341e+03,  1.08988339e+03,\n",
       "        7.28048977e+02,  3.77948310e+02,  5.67370936e+02,  6.77224259e+02,\n",
       "       -1.13853161e+05,  6.74064332e+04, -2.17235771e+04, -5.36191443e+02,\n",
       "       -3.35118512e+05,  2.10086015e+04,  1.42191515e+03, -4.17456280e+03,\n",
       "       -6.08907563e+03,  4.57425388e+02,  9.24464403e+02, -4.30121776e+04,\n",
       "        1.20005125e+03, -7.49548502e+05, -2.26925453e+04, -2.40663426e+04,\n",
       "        1.12458543e+04,  8.44204645e+02,  2.81015994e+04,  3.07304986e+03,\n",
       "        4.59300667e+03,  2.37688093e+03, -1.21149438e+03, -4.78537679e+03,\n",
       "        9.21936679e+05,  3.27445882e+04, -1.52717602e+05,  1.82158367e+04,\n",
       "       -1.48426088e+06,  3.24619506e+03,  2.06375739e+05,  2.66168276e+03,\n",
       "       -1.09126481e+04, -4.73318501e+04,  8.94161121e+04,  7.97972665e+02,\n",
       "        3.24663888e+04,  1.64740589e+03,  2.17594778e+03,  2.33328115e+03,\n",
       "       -1.97853951e+04, -1.09092633e+06,  1.50651172e+03,  9.02324992e+03,\n",
       "        2.59772423e+04, -5.72991520e+04,  2.30397439e+05,  4.13919552e+04,\n",
       "        1.89401017e+04,  1.82158367e+04, -2.18477737e+05,  5.11772187e+04,\n",
       "        1.03550268e+03,  5.01725566e+02, -9.27520891e+04, -3.90153822e+04,\n",
       "        4.22733823e+02,  2.02900783e+04, -4.26935154e+03,  5.12119254e+03,\n",
       "       -2.35357539e+04,  4.54482883e+02,  1.62184028e+07,  3.60292695e+04,\n",
       "       -7.94518839e+03, -5.60973445e+02, -4.54555211e+05,  1.19603478e+03,\n",
       "        5.19515551e+03,  7.08259741e+03, -2.05351036e+03,  6.63463123e+02,\n",
       "        1.91290559e+03,  3.24786319e+02, -2.81587592e+04,  1.53430324e+03,\n",
       "        3.96741341e+03, -7.11063881e+03, -3.39584153e+04,  1.48721898e+03,\n",
       "        1.81794061e+04,  1.43460083e+03,  3.95036648e+02, -6.83766316e+04,\n",
       "        7.60370491e+05, -2.85680241e+05,  1.09638886e+03,  3.31978383e+04,\n",
       "        4.47209688e+04,  9.95720479e+02,  3.33435912e+03,  6.46323051e+03,\n",
       "        6.90079651e+04,  2.71215692e+03,  7.24914118e+03,  1.19023450e+03,\n",
       "        4.00465150e+04,  7.49094453e+05,  4.02804664e+02,  4.10759701e+04,\n",
       "        2.17610661e+03,  1.59547575e+03, -1.99403148e+03, -3.35064392e+03,\n",
       "        2.99771947e+03, -1.28506022e+05, -1.57574058e+07,  4.11800896e+02,\n",
       "        2.40158234e+03,  1.77451083e+03,  7.21954201e+02,  1.00579124e+06,\n",
       "       -3.01989353e+04, -1.84110187e+04, -1.14715977e+05,  1.49839017e+03,\n",
       "       -2.70584282e+04, -3.96395893e+04,  4.57425388e+02, -1.32946013e+05,\n",
       "        3.08072012e+04,  8.08062799e+04,  1.50042519e+03, -6.81622465e+05,\n",
       "        1.91290559e+03,  5.77244146e+03,  4.50479463e+02, -7.75184522e+07,\n",
       "       -6.47124278e+05,  2.74974877e+04,  3.73860877e+03,  2.58988569e+04,\n",
       "       -1.37490414e+02,  5.42084198e+03,  1.67378348e+03, -6.32980970e+04,\n",
       "        2.66348717e+03,  1.66639665e+03, -2.16294733e+04,  1.96029839e+03,\n",
       "        4.99223000e+04,  1.45163163e+03,  7.97627234e+03,  1.16714568e+04,\n",
       "        1.53333868e+05, -4.70067172e+02,  6.25464614e+05,  4.19317286e+04,\n",
       "       -2.30923258e+04,  3.69512968e+02,  6.88377320e+02,  3.94862162e+05,\n",
       "        1.60636336e+03,  3.22322679e+02, -3.01488678e+05,  3.73860877e+03,\n",
       "        3.75904415e+04, -1.24509976e+07,  4.58843163e+02,  1.83516265e+03,\n",
       "       -2.45726598e+05,  1.44913365e+03,  1.70532764e+03,  2.23521036e+05,\n",
       "        6.39842184e+03,  1.43109310e+03,  9.41853109e+02,  3.87386644e+04,\n",
       "       -8.16420340e+04, -4.10433790e+04,  3.80905715e+02,  1.86741152e+03,\n",
       "        9.69964265e+02,  4.17920229e+04,  1.19861055e+03,  1.17923045e+03,\n",
       "        4.39723723e+03,  1.45821406e+03,  5.03665260e+03,  1.43971076e+05,\n",
       "        2.33623984e+02, -2.76232520e+07,  1.60561141e+04,  1.28162323e+03,\n",
       "       -2.61790337e+06, -5.15977626e+04, -3.15413505e+04,  1.39442954e+03,\n",
       "        1.41635481e+03, -5.70459539e+05,  2.59772423e+04,  2.16014587e+02,\n",
       "       -1.17849695e+04,  4.06144785e+04, -1.09558027e+04, -4.58328924e+03,\n",
       "        8.20391814e+03,  7.21954201e+02, -1.23446357e+04,  8.23790466e+02,\n",
       "        6.77750695e+04, -1.47657748e+04, -2.31352055e+05, -1.26099805e+05,\n",
       "        4.90702503e+03,  7.64432701e+03,  4.93325214e+02,  5.11064290e+03,\n",
       "        1.11708449e+03,  3.23319133e+04,  9.23936549e+03, -2.34415789e+04,\n",
       "        3.06361086e+03])"
      ]
     },
     "execution_count": 195,
     "metadata": {},
     "output_type": "execute_result"
    }
   ],
   "source": [
    "poly_predict1"
   ]
  },
  {
   "cell_type": "code",
   "execution_count": null,
   "id": "3ee81803",
   "metadata": {},
   "outputs": [],
   "source": []
  },
  {
   "cell_type": "code",
   "execution_count": 177,
   "id": "a0a11213",
   "metadata": {},
   "outputs": [
    {
     "data": {
      "text/plain": [
       "0.9882307889176444"
      ]
     },
     "execution_count": 177,
     "metadata": {},
     "output_type": "execute_result"
    }
   ],
   "source": [
    "score_poly = poly_model1.score(X_train_poly1, y_train1)\n",
    "score_poly"
   ]
  },
  {
   "cell_type": "code",
   "execution_count": 178,
   "id": "43656a89",
   "metadata": {},
   "outputs": [
    {
     "data": {
      "text/plain": [
       "array([-1.27488008e+01, -2.49025365e+01,  1.45154497e+01, ...,\n",
       "        0.00000000e+00,  0.00000000e+00,  8.71493265e-10])"
      ]
     },
     "execution_count": 178,
     "metadata": {},
     "output_type": "execute_result"
    }
   ],
   "source": [
    "poly_model1.coef_"
   ]
  },
  {
   "cell_type": "code",
   "execution_count": 179,
   "id": "cbe1775b",
   "metadata": {},
   "outputs": [
    {
     "data": {
      "text/html": [
       "<div>\n",
       "<style scoped>\n",
       "    .dataframe tbody tr th:only-of-type {\n",
       "        vertical-align: middle;\n",
       "    }\n",
       "\n",
       "    .dataframe tbody tr th {\n",
       "        vertical-align: top;\n",
       "    }\n",
       "\n",
       "    .dataframe thead th {\n",
       "        text-align: right;\n",
       "    }\n",
       "</style>\n",
       "<table border=\"1\" class=\"dataframe\">\n",
       "  <thead>\n",
       "    <tr style=\"text-align: right;\">\n",
       "      <th></th>\n",
       "      <th>Coeffecient</th>\n",
       "    </tr>\n",
       "  </thead>\n",
       "  <tbody>\n",
       "    <tr>\n",
       "      <th>0</th>\n",
       "      <td>-1.274880e+01</td>\n",
       "    </tr>\n",
       "    <tr>\n",
       "      <th>1</th>\n",
       "      <td>-2.490254e+01</td>\n",
       "    </tr>\n",
       "    <tr>\n",
       "      <th>2</th>\n",
       "      <td>1.451545e+01</td>\n",
       "    </tr>\n",
       "    <tr>\n",
       "      <th>3</th>\n",
       "      <td>7.924634e+00</td>\n",
       "    </tr>\n",
       "    <tr>\n",
       "      <th>4</th>\n",
       "      <td>-3.150859e+00</td>\n",
       "    </tr>\n",
       "    <tr>\n",
       "      <th>...</th>\n",
       "      <td>...</td>\n",
       "    </tr>\n",
       "    <tr>\n",
       "      <th>35955</th>\n",
       "      <td>-4.112634e-05</td>\n",
       "    </tr>\n",
       "    <tr>\n",
       "      <th>35956</th>\n",
       "      <td>0.000000e+00</td>\n",
       "    </tr>\n",
       "    <tr>\n",
       "      <th>35957</th>\n",
       "      <td>0.000000e+00</td>\n",
       "    </tr>\n",
       "    <tr>\n",
       "      <th>35958</th>\n",
       "      <td>0.000000e+00</td>\n",
       "    </tr>\n",
       "    <tr>\n",
       "      <th>35959</th>\n",
       "      <td>8.714933e-10</td>\n",
       "    </tr>\n",
       "  </tbody>\n",
       "</table>\n",
       "<p>35960 rows × 1 columns</p>\n",
       "</div>"
      ],
      "text/plain": [
       "        Coeffecient\n",
       "0     -1.274880e+01\n",
       "1     -2.490254e+01\n",
       "2      1.451545e+01\n",
       "3      7.924634e+00\n",
       "4     -3.150859e+00\n",
       "...             ...\n",
       "35955 -4.112634e-05\n",
       "35956  0.000000e+00\n",
       "35957  0.000000e+00\n",
       "35958  0.000000e+00\n",
       "35959  8.714933e-10\n",
       "\n",
       "[35960 rows x 1 columns]"
      ]
     },
     "execution_count": 179,
     "metadata": {},
     "output_type": "execute_result"
    }
   ],
   "source": [
    "cdfpoly1 = pd.DataFrame(poly_model1.coef_, columns=['Coeffecient'])\n",
    "cdfpoly1"
   ]
  },
  {
   "cell_type": "code",
   "execution_count": 180,
   "id": "747cda54",
   "metadata": {},
   "outputs": [
    {
     "data": {
      "text/plain": [
       "112844.6883010986"
      ]
     },
     "execution_count": 180,
     "metadata": {},
     "output_type": "execute_result"
    }
   ],
   "source": [
    "poly_model1.intercept_"
   ]
  },
  {
   "cell_type": "code",
   "execution_count": 181,
   "id": "8d9cb52e",
   "metadata": {},
   "outputs": [
    {
     "data": {
      "text/html": [
       "<div>\n",
       "<style scoped>\n",
       "    .dataframe tbody tr th:only-of-type {\n",
       "        vertical-align: middle;\n",
       "    }\n",
       "\n",
       "    .dataframe tbody tr th {\n",
       "        vertical-align: top;\n",
       "    }\n",
       "\n",
       "    .dataframe thead th {\n",
       "        text-align: right;\n",
       "    }\n",
       "</style>\n",
       "<table border=\"1\" class=\"dataframe\">\n",
       "  <thead>\n",
       "    <tr style=\"text-align: right;\">\n",
       "      <th></th>\n",
       "      <th>price</th>\n",
       "      <th>Predict_price</th>\n",
       "      <th>Error</th>\n",
       "    </tr>\n",
       "  </thead>\n",
       "  <tbody>\n",
       "    <tr>\n",
       "      <th>0</th>\n",
       "      <td>1339.69</td>\n",
       "      <td>11510.955330</td>\n",
       "      <td>-10171.265330</td>\n",
       "    </tr>\n",
       "    <tr>\n",
       "      <th>1</th>\n",
       "      <td>898.94</td>\n",
       "      <td>113801.677442</td>\n",
       "      <td>-112902.737442</td>\n",
       "    </tr>\n",
       "    <tr>\n",
       "      <th>2</th>\n",
       "      <td>575.00</td>\n",
       "      <td>22658.277516</td>\n",
       "      <td>-22083.277516</td>\n",
       "    </tr>\n",
       "    <tr>\n",
       "      <th>3</th>\n",
       "      <td>2537.45</td>\n",
       "      <td>2500.537984</td>\n",
       "      <td>36.912016</td>\n",
       "    </tr>\n",
       "    <tr>\n",
       "      <th>4</th>\n",
       "      <td>1803.60</td>\n",
       "      <td>6230.633453</td>\n",
       "      <td>-4427.033453</td>\n",
       "    </tr>\n",
       "  </tbody>\n",
       "</table>\n",
       "</div>"
      ],
      "text/plain": [
       "     price  Predict_price          Error\n",
       "0  1339.69   11510.955330  -10171.265330\n",
       "1   898.94  113801.677442 -112902.737442\n",
       "2   575.00   22658.277516  -22083.277516\n",
       "3  2537.45    2500.537984      36.912016\n",
       "4  1803.60    6230.633453   -4427.033453"
      ]
     },
     "execution_count": 181,
     "metadata": {},
     "output_type": "execute_result"
    }
   ],
   "source": [
    "price_model_poly1 = df['Price_euros']\n",
    "predict_price_model_poly1 = pd.Series(poly_predict1)\n",
    "error_model_poly1 = price_model_poly1 - predict_price_model_poly1\n",
    "data_pedict_model_poly1 = pd.DataFrame({'price':price_model_poly1,\n",
    "                                  'Predict_price' : predict_price_model_poly1,\n",
    "                                  'Error' : error_model_poly1})\n",
    "data_pedict_model_poly1.head()"
   ]
  },
  {
   "cell_type": "code",
   "execution_count": 182,
   "id": "deeb6dbc",
   "metadata": {},
   "outputs": [
    {
     "data": {
      "text/plain": [
       "[<matplotlib.lines.Line2D at 0x27624677df0>]"
      ]
     },
     "execution_count": 182,
     "metadata": {},
     "output_type": "execute_result"
    },
    {
     "data": {
      "image/png": "[encoded data removed]",
      "text/plain": [
       "<Figure size 1008x576 with 1 Axes>"
      ]
     },
     "metadata": {
      "needs_background": "light"
     },
     "output_type": "display_data"
    }
   ],
   "source": [
    "plt.figure(figsize=(14,8))\n",
    "plt.scatter(y_test1, poly_predict1)\n",
    "plt.plot(y_test1, y_test1, color = 'red')"
   ]
  },
  {
   "cell_type": "markdown",
   "id": "f74c7c2b",
   "metadata": {},
   "source": [
    "## MAE"
   ]
  },
  {
   "cell_type": "code",
   "execution_count": 192,
   "id": "e18a9c50",
   "metadata": {},
   "outputs": [
    {
     "data": {
      "text/plain": [
       "656287.7350805774"
      ]
     },
     "execution_count": 192,
     "metadata": {},
     "output_type": "execute_result"
    }
   ],
   "source": [
    "mean_absolute_error(y_test1, poly_predict1)"
   ]
  },
  {
   "cell_type": "markdown",
   "id": "ffd6c8be",
   "metadata": {},
   "source": [
    "## MSE"
   ]
  },
  {
   "cell_type": "code",
   "execution_count": 193,
   "id": "4ffdebf5",
   "metadata": {},
   "outputs": [
    {
     "data": {
      "text/plain": [
       "28570842286776.59"
      ]
     },
     "execution_count": 193,
     "metadata": {},
     "output_type": "execute_result"
    }
   ],
   "source": [
    "mean_squared_error(y_test1, poly_predict1)"
   ]
  },
  {
   "cell_type": "markdown",
   "id": "821e71f0",
   "metadata": {},
   "source": [
    "## RMSE"
   ]
  },
  {
   "cell_type": "code",
   "execution_count": 194,
   "id": "82976381",
   "metadata": {},
   "outputs": [
    {
     "data": {
      "text/plain": [
       "5345169.996059676"
      ]
     },
     "execution_count": 194,
     "metadata": {},
     "output_type": "execute_result"
    }
   ],
   "source": [
    "mean_squared_error(y_test1, poly_predict1, squared=False)"
   ]
  },
  {
   "cell_type": "markdown",
   "id": "1bb0a6b4",
   "metadata": {},
   "source": [
    "### Model2"
   ]
  },
  {
   "cell_type": "code",
   "execution_count": 196,
   "id": "98145f3e",
   "metadata": {},
   "outputs": [],
   "source": [
    "poly2 = PolynomialFeatures(degree=4)"
   ]
  },
  {
   "cell_type": "code",
   "execution_count": 197,
   "id": "b0fea940",
   "metadata": {},
   "outputs": [],
   "source": [
    "X_train_poly2 = poly2.fit_transform(X_train2)"
   ]
  },
  {
   "cell_type": "code",
   "execution_count": 198,
   "id": "860a2458",
   "metadata": {},
   "outputs": [],
   "source": [
    "X_test_poly2 = poly2.transform(X_test2)"
   ]
  },
  {
   "cell_type": "code",
   "execution_count": 199,
   "id": "09d3c8a8",
   "metadata": {},
   "outputs": [
    {
     "data": {
      "text/plain": [
       "LinearRegression()"
      ]
     },
     "execution_count": 199,
     "metadata": {},
     "output_type": "execute_result"
    }
   ],
   "source": [
    "poly_model2 = LinearRegression()\n",
    "poly_model2.fit(X_train_poly2, y_train2)"
   ]
  },
  {
   "cell_type": "code",
   "execution_count": 200,
   "id": "fafaf6b2",
   "metadata": {},
   "outputs": [],
   "source": [
    "poly_predict2 = poly_model2.predict(X_test_poly2)"
   ]
  },
  {
   "cell_type": "code",
   "execution_count": 201,
   "id": "a0b17fff",
   "metadata": {},
   "outputs": [
    {
     "data": {
      "text/plain": [
       "-42718212.1316264"
      ]
     },
     "execution_count": 201,
     "metadata": {},
     "output_type": "execute_result"
    }
   ],
   "source": [
    "r2_score(y_test1, poly_predict1)"
   ]
  },
  {
   "cell_type": "code",
   "execution_count": 202,
   "id": "41d5c6d8",
   "metadata": {},
   "outputs": [
    {
     "data": {
      "text/plain": [
       "0.9897917825705327"
      ]
     },
     "execution_count": 202,
     "metadata": {},
     "output_type": "execute_result"
    }
   ],
   "source": [
    "score_poly2 = poly_model2.score(X_train_poly2, y_train2)\n",
    "score_poly2"
   ]
  },
  {
   "cell_type": "code",
   "execution_count": 203,
   "id": "b62a8385",
   "metadata": {},
   "outputs": [
    {
     "data": {
      "text/plain": [
       "array([-1.47943356e-02, -2.77451334e-02,  2.52072175e-02, ...,\n",
       "        0.00000000e+00,  0.00000000e+00, -7.98335062e-13])"
      ]
     },
     "execution_count": 203,
     "metadata": {},
     "output_type": "execute_result"
    }
   ],
   "source": [
    "poly_model2.coef_"
   ]
  },
  {
   "cell_type": "code",
   "execution_count": 204,
   "id": "00f9226b",
   "metadata": {},
   "outputs": [
    {
     "data": {
      "text/html": [
       "<div>\n",
       "<style scoped>\n",
       "    .dataframe tbody tr th:only-of-type {\n",
       "        vertical-align: middle;\n",
       "    }\n",
       "\n",
       "    .dataframe tbody tr th {\n",
       "        vertical-align: top;\n",
       "    }\n",
       "\n",
       "    .dataframe thead th {\n",
       "        text-align: right;\n",
       "    }\n",
       "</style>\n",
       "<table border=\"1\" class=\"dataframe\">\n",
       "  <thead>\n",
       "    <tr style=\"text-align: right;\">\n",
       "      <th></th>\n",
       "      <th>Coeffecient</th>\n",
       "    </tr>\n",
       "  </thead>\n",
       "  <tbody>\n",
       "    <tr>\n",
       "      <th>0</th>\n",
       "      <td>-1.479434e-02</td>\n",
       "    </tr>\n",
       "    <tr>\n",
       "      <th>1</th>\n",
       "      <td>-2.774513e-02</td>\n",
       "    </tr>\n",
       "    <tr>\n",
       "      <th>2</th>\n",
       "      <td>2.520722e-02</td>\n",
       "    </tr>\n",
       "    <tr>\n",
       "      <th>3</th>\n",
       "      <td>7.835108e-03</td>\n",
       "    </tr>\n",
       "    <tr>\n",
       "      <th>4</th>\n",
       "      <td>-1.192492e-03</td>\n",
       "    </tr>\n",
       "    <tr>\n",
       "      <th>...</th>\n",
       "      <td>...</td>\n",
       "    </tr>\n",
       "    <tr>\n",
       "      <th>35955</th>\n",
       "      <td>-2.560801e-08</td>\n",
       "    </tr>\n",
       "    <tr>\n",
       "      <th>35956</th>\n",
       "      <td>0.000000e+00</td>\n",
       "    </tr>\n",
       "    <tr>\n",
       "      <th>35957</th>\n",
       "      <td>0.000000e+00</td>\n",
       "    </tr>\n",
       "    <tr>\n",
       "      <th>35958</th>\n",
       "      <td>0.000000e+00</td>\n",
       "    </tr>\n",
       "    <tr>\n",
       "      <th>35959</th>\n",
       "      <td>-7.983351e-13</td>\n",
       "    </tr>\n",
       "  </tbody>\n",
       "</table>\n",
       "<p>35960 rows × 1 columns</p>\n",
       "</div>"
      ],
      "text/plain": [
       "        Coeffecient\n",
       "0     -1.479434e-02\n",
       "1     -2.774513e-02\n",
       "2      2.520722e-02\n",
       "3      7.835108e-03\n",
       "4     -1.192492e-03\n",
       "...             ...\n",
       "35955 -2.560801e-08\n",
       "35956  0.000000e+00\n",
       "35957  0.000000e+00\n",
       "35958  0.000000e+00\n",
       "35959 -7.983351e-13\n",
       "\n",
       "[35960 rows x 1 columns]"
      ]
     },
     "execution_count": 204,
     "metadata": {},
     "output_type": "execute_result"
    }
   ],
   "source": [
    "cdfpoly2 = pd.DataFrame(poly_model2.coef_, columns=['Coeffecient'])\n",
    "cdfpoly2"
   ]
  },
  {
   "cell_type": "code",
   "execution_count": 205,
   "id": "8a58e89c",
   "metadata": {},
   "outputs": [
    {
     "data": {
      "text/plain": [
       "89.31270794111724"
      ]
     },
     "execution_count": 205,
     "metadata": {},
     "output_type": "execute_result"
    }
   ],
   "source": [
    "poly_model2.intercept_"
   ]
  },
  {
   "cell_type": "code",
   "execution_count": 206,
   "id": "16002a42",
   "metadata": {},
   "outputs": [
    {
     "data": {
      "text/html": [
       "<div>\n",
       "<style scoped>\n",
       "    .dataframe tbody tr th:only-of-type {\n",
       "        vertical-align: middle;\n",
       "    }\n",
       "\n",
       "    .dataframe tbody tr th {\n",
       "        vertical-align: top;\n",
       "    }\n",
       "\n",
       "    .dataframe thead th {\n",
       "        text-align: right;\n",
       "    }\n",
       "</style>\n",
       "<table border=\"1\" class=\"dataframe\">\n",
       "  <thead>\n",
       "    <tr style=\"text-align: right;\">\n",
       "      <th></th>\n",
       "      <th>price</th>\n",
       "      <th>Predict_price</th>\n",
       "      <th>Error</th>\n",
       "    </tr>\n",
       "  </thead>\n",
       "  <tbody>\n",
       "    <tr>\n",
       "      <th>0</th>\n",
       "      <td>7.200194</td>\n",
       "      <td>13.425592</td>\n",
       "      <td>-6.225398</td>\n",
       "    </tr>\n",
       "    <tr>\n",
       "      <th>1</th>\n",
       "      <td>6.801216</td>\n",
       "      <td>93.507026</td>\n",
       "      <td>-86.705810</td>\n",
       "    </tr>\n",
       "    <tr>\n",
       "      <th>2</th>\n",
       "      <td>6.354370</td>\n",
       "      <td>23.401465</td>\n",
       "      <td>-17.047095</td>\n",
       "    </tr>\n",
       "    <tr>\n",
       "      <th>3</th>\n",
       "      <td>7.838915</td>\n",
       "      <td>7.822994</td>\n",
       "      <td>0.015920</td>\n",
       "    </tr>\n",
       "    <tr>\n",
       "      <th>4</th>\n",
       "      <td>7.497540</td>\n",
       "      <td>11.940452</td>\n",
       "      <td>-4.442912</td>\n",
       "    </tr>\n",
       "  </tbody>\n",
       "</table>\n",
       "</div>"
      ],
      "text/plain": [
       "      price  Predict_price      Error\n",
       "0  7.200194      13.425592  -6.225398\n",
       "1  6.801216      93.507026 -86.705810\n",
       "2  6.354370      23.401465 -17.047095\n",
       "3  7.838915       7.822994   0.015920\n",
       "4  7.497540      11.940452  -4.442912"
      ]
     },
     "execution_count": 206,
     "metadata": {},
     "output_type": "execute_result"
    }
   ],
   "source": [
    "price_model_poly2 = df['Price']\n",
    "predict_price_model_poly2 = pd.Series(poly_predict2)\n",
    "error_model_poly2 = price_model_poly2 - predict_price_model_poly2\n",
    "data_pedict_model_poly2 = pd.DataFrame({'price':price_model_poly2,\n",
    "                                  'Predict_price' : predict_price_model_poly2,\n",
    "                                  'Error' : error_model_poly2})\n",
    "data_pedict_model_poly2.head()"
   ]
  },
  {
   "cell_type": "code",
   "execution_count": 207,
   "id": "4c474c11",
   "metadata": {},
   "outputs": [
    {
     "data": {
      "text/plain": [
       "[<matplotlib.lines.Line2D at 0x2763c99bbe0>]"
      ]
     },
     "execution_count": 207,
     "metadata": {},
     "output_type": "execute_result"
    },
    {
     "data": {
      "image/png": "[encoded data removed]",
      "text/plain": [
       "<Figure size 1008x576 with 1 Axes>"
      ]
     },
     "metadata": {
      "needs_background": "light"
     },
     "output_type": "display_data"
    }
   ],
   "source": [
    "plt.figure(figsize=(14,8))\n",
    "plt.scatter(y_test2, poly_predict2)\n",
    "plt.plot(y_test2, y_test2, color = 'red')"
   ]
  },
  {
   "cell_type": "markdown",
   "id": "4e482e1d",
   "metadata": {},
   "source": [
    "## MAE"
   ]
  },
  {
   "cell_type": "code",
   "execution_count": 208,
   "id": "aab2113c",
   "metadata": {},
   "outputs": [
    {
     "data": {
      "text/plain": [
       "481.04382828749306"
      ]
     },
     "execution_count": 208,
     "metadata": {},
     "output_type": "execute_result"
    }
   ],
   "source": [
    "mean_absolute_error(y_test2, poly_predict2)"
   ]
  },
  {
   "cell_type": "markdown",
   "id": "9be300cc",
   "metadata": {},
   "source": [
    "## MSE"
   ]
  },
  {
   "cell_type": "code",
   "execution_count": 209,
   "id": "b052c21b",
   "metadata": {},
   "outputs": [
    {
     "data": {
      "text/plain": [
       "13629065.520282133"
      ]
     },
     "execution_count": 209,
     "metadata": {},
     "output_type": "execute_result"
    }
   ],
   "source": [
    "mean_squared_error(y_test2, poly_predict2)"
   ]
  },
  {
   "cell_type": "markdown",
   "id": "c78b7c43",
   "metadata": {},
   "source": [
    "## RMSE"
   ]
  },
  {
   "cell_type": "code",
   "execution_count": 210,
   "id": "974a5529",
   "metadata": {},
   "outputs": [
    {
     "data": {
      "text/plain": [
       "3691.7564275398954"
      ]
     },
     "execution_count": 210,
     "metadata": {},
     "output_type": "execute_result"
    }
   ],
   "source": [
    "mean_squared_error(y_test2, poly_predict2, squared=False)"
   ]
  },
  {
   "cell_type": "markdown",
   "id": "6f61037b",
   "metadata": {},
   "source": [
    "## TreeDecisions"
   ]
  },
  {
   "cell_type": "code",
   "execution_count": 211,
   "id": "5c3b8ed2",
   "metadata": {},
   "outputs": [],
   "source": [
    "from sklearn.tree import DecisionTreeRegressor"
   ]
  },
  {
   "cell_type": "code",
   "execution_count": 212,
   "id": "bb503128",
   "metadata": {},
   "outputs": [
    {
     "data": {
      "text/plain": [
       "DecisionTreeRegressor()"
      ]
     },
     "execution_count": 212,
     "metadata": {},
     "output_type": "execute_result"
    }
   ],
   "source": [
    "model=DecisionTreeRegressor()\n",
    "model.fit(X1,y1)"
   ]
  },
  {
   "cell_type": "code",
   "execution_count": 213,
   "id": "a2a301f1",
   "metadata": {},
   "outputs": [],
   "source": [
    "predict_data=model.predict(X_test1)"
   ]
  },
  {
   "cell_type": "code",
   "execution_count": 218,
   "id": "ffcc3da7",
   "metadata": {},
   "outputs": [
    {
     "data": {
      "text/plain": [
       "0.9961901589994272"
      ]
     },
     "execution_count": 218,
     "metadata": {},
     "output_type": "execute_result"
    }
   ],
   "source": [
    "r2_score(y_test1, predict_data)"
   ]
  },
  {
   "cell_type": "code",
   "execution_count": 219,
   "id": "ceeb98f8",
   "metadata": {},
   "outputs": [
    {
     "data": {
      "text/plain": [
       "27"
      ]
     },
     "execution_count": 219,
     "metadata": {},
     "output_type": "execute_result"
    }
   ],
   "source": [
    "model.get_depth()"
   ]
  },
  {
   "cell_type": "code",
   "execution_count": 220,
   "id": "0b722a7d",
   "metadata": {},
   "outputs": [
    {
     "data": {
      "text/plain": [
       "1088"
      ]
     },
     "execution_count": 220,
     "metadata": {},
     "output_type": "execute_result"
    }
   ],
   "source": [
    "model.get_n_leaves()"
   ]
  },
  {
   "cell_type": "code",
   "execution_count": null,
   "id": "47453306",
   "metadata": {},
   "outputs": [],
   "source": []
  }
 ],
 "metadata": {
  "kernelspec": {
   "display_name": "Python 3 (ipykernel)",
   "language": "python",
   "name": "python3"
  },
  "language_info": {
   "codemirror_mode": {
    "name": "ipython",
    "version": 3
   },
   "file_extension": ".py",
   "mimetype": "text/x-python",
   "name": "python",
   "nbconvert_exporter": "python",
   "pygments_lexer": "ipython3",
   "version": "3.9.12"
  }
 },
 "nbformat": 4,
 "nbformat_minor": 5
}
